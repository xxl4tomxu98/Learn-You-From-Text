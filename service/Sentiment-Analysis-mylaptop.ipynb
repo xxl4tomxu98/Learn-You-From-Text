{
 "cells": [
  {
   "cell_type": "markdown",
   "source": [
    "# Creating a Sentiment Analysis Web App\n",
    "## Using PyTorch and SageMaker\n",
    "\n",
    "\n",
    "---\n",
    "\n",
    "We are building a sentiment analyzer for a movie review. Build and deploy model as an endpoint in AWS SageMaker. Create a simple web page where a user can type-in a movie review. The web page will then send the review off to our deployed model which will predict the sentiment (positive or negative) of the entered review.\n",
    "\n",
    "Steps followed for this project:\n",
    "\n",
    "1. Download or otherwise retrieve the data.\n",
    "2. Process / Prepare the data.\n",
    "3. Upload the processed data to S3.\n",
    "4. Train a chosen model.\n",
    "5. Test the trained model (typically using a batch transform job).\n",
    "6. Deploy the trained model.\n",
    "7. Use the deployed model.\n",
    "\n",
    "\n",
    "We will not be testing the model in its own step but by deploying the model and then using the deployed model by sending the test data to it. One of the reasons for doing this is so that we can make sure that the deployed model is working correctly before moving forward.\n",
    "\n",
    "In addition, we will deploy and use the trained model a second time. In the second iteration we will customize the way that the trained model is deployed by including some of additional code. The newly deployed model will be used in the sentiment analysis web app."
   ],
   "metadata": {}
  },
  {
   "cell_type": "markdown",
   "source": [
    "## Step 1: Downloading the data\n",
    "\n",
    "We will be using the [IMDb dataset](http://ai.stanford.edu/~amaas/data/sentiment/)\n",
    "\n",
    "> Maas, Andrew L., et al. [Learning Word Vectors for Sentiment Analysis](http://ai.stanford.edu/~amaas/data/sentiment/). In _Proceedings of the 49th Annual Meeting of the Association for Computational Linguistics: Human Language Technologies_. Association for Computational Linguistics, 2011."
   ],
   "metadata": {}
  },
  {
   "cell_type": "code",
   "execution_count": 2,
   "source": [
    "%mkdir ../data\n",
    "!wget -O ../data/aclImdb_v1.tar.gz http://ai.stanford.edu/~amaas/data/sentiment/aclImdb_v1.tar.gz\n",
    "!tar -zxf ../data/aclImdb_v1.tar.gz -C ../data"
   ],
   "outputs": [
    {
     "output_type": "stream",
     "name": "stdout",
     "text": [
      "mkdir: cannot create directory ‘../data’: File exists\n",
      "--2021-08-04 11:07:43--  http://ai.stanford.edu/~amaas/data/sentiment/aclImdb_v1.tar.gz\n",
      "Resolving ai.stanford.edu (ai.stanford.edu)... 171.64.68.10\n",
      "Connecting to ai.stanford.edu (ai.stanford.edu)|171.64.68.10|:80... connected.\n",
      "HTTP request sent, awaiting response... 200 OK\n",
      "Length: 84125825 (80M) [application/x-gzip]\n",
      "Saving to: ‘../data/aclImdb_v1.tar.gz’\n",
      "\n",
      "../data/aclImdb_v1. 100%[===================>]  80.23M  2.35MB/s    in 28s     \n",
      "\n",
      "2021-08-04 11:08:11 (2.90 MB/s) - ‘../data/aclImdb_v1.tar.gz’ saved [84125825/84125825]\n",
      "\n"
     ]
    }
   ],
   "metadata": {}
  },
  {
   "cell_type": "markdown",
   "source": [
    "## Step 2: Preparing and Processing the data\n",
    "\n",
    "We will read in each of the reviews and combine them into a single input structure. Then, we will split the dataset into a training set and a testing set."
   ],
   "metadata": {}
  },
  {
   "cell_type": "code",
   "execution_count": 3,
   "source": [
    "import os\n",
    "import glob\n",
    "\n",
    "def read_imdb_data(data_dir='../data/aclImdb'):\n",
    "    data = {}\n",
    "    labels = {}\n",
    "    \n",
    "    for data_type in ['train', 'test']:\n",
    "        data[data_type] = {}\n",
    "        labels[data_type] = {}\n",
    "        \n",
    "        for sentiment in ['pos', 'neg']:\n",
    "            data[data_type][sentiment] = []\n",
    "            labels[data_type][sentiment] = []\n",
    "            \n",
    "            path = os.path.join(data_dir, data_type, sentiment, '*.txt')\n",
    "            files = glob.glob(path)\n",
    "            \n",
    "            for f in files:\n",
    "                with open(f) as review:\n",
    "                    data[data_type][sentiment].append(review.read())\n",
    "                    # Here we represent a positive review by '1' and a negative review by '0'\n",
    "                    labels[data_type][sentiment].append(1 if sentiment == 'pos' else 0)\n",
    "                    \n",
    "            assert len(data[data_type][sentiment]) == len(labels[data_type][sentiment]), \\\n",
    "                    \"{}/{} data size does not match labels size\".format(data_type, sentiment)\n",
    "                \n",
    "    return data, labels"
   ],
   "outputs": [],
   "metadata": {}
  },
  {
   "cell_type": "code",
   "execution_count": 4,
   "source": [
    "data, labels = read_imdb_data()\n",
    "print(\"IMDB reviews: train = {} pos / {} neg, test = {} pos / {} neg\".format(\n",
    "            len(data['train']['pos']), len(data['train']['neg']),\n",
    "            len(data['test']['pos']), len(data['test']['neg'])))"
   ],
   "outputs": [
    {
     "output_type": "stream",
     "name": "stdout",
     "text": [
      "IMDB reviews: train = 12500 pos / 12500 neg, test = 12500 pos / 12500 neg\n"
     ]
    }
   ],
   "metadata": {}
  },
  {
   "cell_type": "markdown",
   "source": [
    "Now that we've read the raw training and testing data from the downloaded dataset, we will combine the positive and negative reviews and shuffle the resulting records."
   ],
   "metadata": {}
  },
  {
   "cell_type": "code",
   "execution_count": 5,
   "source": [
    "from sklearn.utils import shuffle\n",
    "\n",
    "def prepare_imdb_data(data, labels):\n",
    "    \"\"\"Prepare training and test sets from IMDb movie reviews.\"\"\"\n",
    "    \n",
    "    #Combine positive and negative reviews and labels\n",
    "    data_train = data['train']['pos'] + data['train']['neg']\n",
    "    data_test = data['test']['pos'] + data['test']['neg']\n",
    "    labels_train = labels['train']['pos'] + labels['train']['neg']\n",
    "    labels_test = labels['test']['pos'] + labels['test']['neg']\n",
    "    \n",
    "    #Shuffle reviews and corresponding labels within training and test sets\n",
    "    data_train, labels_train = shuffle(data_train, labels_train)\n",
    "    data_test, labels_test = shuffle(data_test, labels_test)\n",
    "    \n",
    "    # Return a unified training data, test data, training labels, test labets\n",
    "    return data_train, data_test, labels_train, labels_test"
   ],
   "outputs": [],
   "metadata": {}
  },
  {
   "cell_type": "code",
   "execution_count": 6,
   "source": [
    "train_X, test_X, train_y, test_y = prepare_imdb_data(data, labels)\n",
    "print(\"IMDb reviews (combined): train = {}, test = {}\".format(len(train_X), len(test_X)))"
   ],
   "outputs": [
    {
     "output_type": "stream",
     "name": "stdout",
     "text": [
      "IMDb reviews (combined): train = 25000, test = 25000\n"
     ]
    }
   ],
   "metadata": {}
  },
  {
   "cell_type": "markdown",
   "source": [
    "Now that we have our training and testing sets unified and prepared, we should do a quick check and see an example of the data our model will be trained on. This is generally a good idea as it allows you to see how each of the further processing steps affects the reviews and it also ensures that the data has been loaded correctly."
   ],
   "metadata": {}
  },
  {
   "cell_type": "code",
   "execution_count": 7,
   "source": [
    "print(train_X[100])\n",
    "print(train_y[100])"
   ],
   "outputs": [
    {
     "output_type": "stream",
     "name": "stdout",
     "text": [
      "I went to see it 2 times this movie, a friend of mine went to see it at the release party, and he was telling me it was so great, that I was expecting very much about the movie, to mutch, I couldn't enjoy it because I was not watching it in nuteral position. The second time I knew what to expect and I enjoyed it more than the first time. After The second time I felt so in the mood to have a party. I LOVED the music it's just great.<br /><br />If Tom Barman improves his directing talent he will be a director where everyone will be talking about. If you can delivere this movie as your first you must be talented.<br /><br />The acting is done by some great belgian stars (Dirk roofthooft) and a bunch of upcomming talents like Titus De Voogdt.<br /><br />\n",
      "1\n"
     ]
    }
   ],
   "metadata": {}
  },
  {
   "cell_type": "markdown",
   "source": [
    "The first step in processing the reviews is to make sure that any html tags that appear should be removed. In addition we wish to tokenize our input, that way words such as *entertained* and *entertaining* are considered the same with regard to sentiment analysis."
   ],
   "metadata": {}
  },
  {
   "cell_type": "code",
   "execution_count": 8,
   "source": [
    "import nltk\n",
    "from nltk.corpus import stopwords\n",
    "from nltk.stem.porter import *\n",
    "\n",
    "import re\n",
    "from bs4 import BeautifulSoup\n",
    "\n",
    "def review_to_words(review):\n",
    "    nltk.download(\"stopwords\", quiet=True)\n",
    "    stemmer = PorterStemmer()\n",
    "    \n",
    "    text = BeautifulSoup(review, \"html.parser\").get_text() # Remove HTML tags\n",
    "    text = re.sub(r\"[^a-zA-Z0-9]\", \" \", text.lower()) # Convert to lower case\n",
    "    words = text.split() # Split string into words\n",
    "    words = [w for w in words if w not in stopwords.words(\"english\")] # Remove stopwords\n",
    "    words = [PorterStemmer().stem(w) for w in words] # stem\n",
    "    \n",
    "    return words"
   ],
   "outputs": [],
   "metadata": {}
  },
  {
   "cell_type": "markdown",
   "source": [
    "The `review_to_words` method defined above uses `BeautifulSoup` to remove any html tags that appear and uses the `nltk` package to tokenize the reviews. As a check to ensure we know how everything is working, try applying `review_to_words` to one of the reviews in the training set."
   ],
   "metadata": {}
  },
  {
   "cell_type": "code",
   "execution_count": 9,
   "source": [
    "# TODO: Apply review_to_words to a review (train_X[100] or any other review)\n",
    "review_to_words(train_X[100])"
   ],
   "outputs": [
    {
     "output_type": "execute_result",
     "data": {
      "text/plain": [
       "['went',\n",
       " 'see',\n",
       " '2',\n",
       " 'time',\n",
       " 'movi',\n",
       " 'friend',\n",
       " 'mine',\n",
       " 'went',\n",
       " 'see',\n",
       " 'releas',\n",
       " 'parti',\n",
       " 'tell',\n",
       " 'great',\n",
       " 'expect',\n",
       " 'much',\n",
       " 'movi',\n",
       " 'mutch',\n",
       " 'enjoy',\n",
       " 'watch',\n",
       " 'nuter',\n",
       " 'posit',\n",
       " 'second',\n",
       " 'time',\n",
       " 'knew',\n",
       " 'expect',\n",
       " 'enjoy',\n",
       " 'first',\n",
       " 'time',\n",
       " 'second',\n",
       " 'time',\n",
       " 'felt',\n",
       " 'mood',\n",
       " 'parti',\n",
       " 'love',\n",
       " 'music',\n",
       " 'great',\n",
       " 'tom',\n",
       " 'barman',\n",
       " 'improv',\n",
       " 'direct',\n",
       " 'talent',\n",
       " 'director',\n",
       " 'everyon',\n",
       " 'talk',\n",
       " 'deliver',\n",
       " 'movi',\n",
       " 'first',\n",
       " 'must',\n",
       " 'talent',\n",
       " 'act',\n",
       " 'done',\n",
       " 'great',\n",
       " 'belgian',\n",
       " 'star',\n",
       " 'dirk',\n",
       " 'roofthooft',\n",
       " 'bunch',\n",
       " 'upcom',\n",
       " 'talent',\n",
       " 'like',\n",
       " 'titu',\n",
       " 'de',\n",
       " 'voogdt']"
      ]
     },
     "metadata": {},
     "execution_count": 9
    }
   ],
   "metadata": {}
  },
  {
   "cell_type": "code",
   "execution_count": 10,
   "source": [
    "import pickle\n",
    "\n",
    "cache_dir = os.path.join(\"../cache\", \"sentiment_analysis\")  # where to store cache files\n",
    "os.makedirs(cache_dir, exist_ok=True)  # ensure cache directory exists\n",
    "\n",
    "def preprocess_data(data_train, data_test, labels_train, labels_test,\n",
    "                    cache_dir=cache_dir, cache_file=\"preprocessed_data.pkl\"):\n",
    "    \"\"\"Convert each review to words; read from cache if available.\"\"\"\n",
    "\n",
    "    # If cache_file is not None, try to read from it first\n",
    "    cache_data = None\n",
    "    if cache_file is not None:\n",
    "        try:\n",
    "            with open(os.path.join(cache_dir, cache_file), \"rb\") as f:\n",
    "                cache_data = pickle.load(f)\n",
    "            print(\"Read preprocessed data from cache file:\", cache_file)\n",
    "        except:\n",
    "            pass  # unable to read from cache, but that's okay\n",
    "    \n",
    "    # If cache is missing, then do the heavy lifting\n",
    "    if cache_data is None:\n",
    "        # Preprocess training and test data to obtain words for each review\n",
    "        #words_train = list(map(review_to_words, data_train))\n",
    "        #words_test = list(map(review_to_words, data_test))\n",
    "        words_train = [review_to_words(review) for review in data_train]\n",
    "        words_test = [review_to_words(review) for review in data_test]\n",
    "        \n",
    "        # Write to cache file for future runs\n",
    "        if cache_file is not None:\n",
    "            cache_data = dict(words_train=words_train, words_test=words_test,\n",
    "                              labels_train=labels_train, labels_test=labels_test)\n",
    "            with open(os.path.join(cache_dir, cache_file), \"wb\") as f:\n",
    "                pickle.dump(cache_data, f)\n",
    "            print(\"Wrote preprocessed data to cache file:\", cache_file)\n",
    "    else:\n",
    "        # Unpack data loaded from cache file\n",
    "        words_train, words_test, labels_train, labels_test = (cache_data['words_train'],\n",
    "                cache_data['words_test'], cache_data['labels_train'], cache_data['labels_test'])\n",
    "    \n",
    "    return words_train, words_test, labels_train, labels_test"
   ],
   "outputs": [],
   "metadata": {}
  },
  {
   "cell_type": "code",
   "execution_count": 11,
   "source": [
    "# Preprocess data\n",
    "train_X, test_X, train_y, test_y = preprocess_data(train_X, test_X, train_y, test_y)"
   ],
   "outputs": [
    {
     "output_type": "stream",
     "name": "stdout",
     "text": [
      "Read preprocessed data from cache file: preprocessed_data.pkl\n"
     ]
    }
   ],
   "metadata": {}
  },
  {
   "cell_type": "markdown",
   "source": [
    "## Transform the data\n",
    "\n",
    "We will transform the data from its word representation to a bag-of-words featurea representation. To start, we will represent each word as an integer. Of course, some of the words that appear in the reviews occur very infrequently and so likely don't contain much information for the purposes of sentiment analysis. The way we will deal with this problem is that we will fix the size of our working vocabulary and we will only include the words that appear most frequently. We will then combine all of the infrequent words into a single category and, in our case, we will label it as `1`.\n",
    "\n",
    "Since we will be using a recurrent neural network, it will be convenient if the length of each review is the same. To do this, we will fix a size for our reviews and then pad short reviews with the category 'no word' (which we will label `0`) and truncate long reviews."
   ],
   "metadata": {}
  },
  {
   "cell_type": "markdown",
   "source": [
    "### Create a word dictionary\n",
    "\n",
    "To begin with, we need to construct a way to map words that appear in the reviews to integers. Here we fix the size of our vocabulary (including the 'no word' and 'infrequent' categories) to be `5000` but you may wish to change this to see how it affects the model.\n"
   ],
   "metadata": {}
  },
  {
   "cell_type": "code",
   "execution_count": 12,
   "source": [
    "import numpy as np\n",
    "\n",
    "def build_dict(data, vocab_size = 5000):\n",
    "    \"\"\"Construct and return a dictionary mapping each of the most frequently appearing words to a unique integer.\"\"\"\n",
    "    \n",
    "    # Determine how often each word appears in `data`. Note that `data` \n",
    "    # is a list of sentences and that a sentence is a list of words.\n",
    "    \n",
    "    word_count = {} # A dict storing the words that appear in the reviews along with how often they occur\n",
    "    for phrase in data:\n",
    "        for word in phrase:\n",
    "            if word in word_count:\n",
    "                word_count[word] += 1\n",
    "            else:\n",
    "                word_count[word] = 1\n",
    " \n",
    "    \n",
    "    # Sort the words found in `data` so that sorted_words[0] is the most frequently \n",
    "    # appearing word and sorted_words[-1] is the least frequently appearing word.\n",
    "    \n",
    "    sorted_words = None\n",
    "    sorted_words = sorted(word_count, key=word_count.get, reverse=True)\n",
    "  \n",
    "    \n",
    "    word_dict = {} # This is what we are building, a dictionary that translates words into integers\n",
    "    for idx, word in enumerate(sorted_words[:vocab_size - 2]): # The -2 is so that we save room for the 'no word'\n",
    "        word_dict[word] = idx + 2                              # 'infrequent' labels\n",
    "        \n",
    "    return word_dict"
   ],
   "outputs": [],
   "metadata": {}
  },
  {
   "cell_type": "code",
   "execution_count": 13,
   "source": [
    "word_dict = build_dict(train_X)"
   ],
   "outputs": [],
   "metadata": {}
  },
  {
   "cell_type": "code",
   "execution_count": 14,
   "source": [
    "print(word_dict)"
   ],
   "outputs": [
    {
     "output_type": "stream",
     "name": "stdout",
     "text": [
      "{'movi': 2, 'film': 3, 'one': 4, 'like': 5, 'time': 6, 'good': 7, 'make': 8, 'charact': 9, 'get': 10, 'see': 11, 'watch': 12, 'stori': 13, 'even': 14, 'would': 15, 'realli': 16, 'well': 17, 'scene': 18, 'look': 19, 'show': 20, 'much': 21, 'end': 22, 'peopl': 23, 'bad': 24, 'go': 25, 'great': 26, 'also': 27, 'first': 28, 'love': 29, 'think': 30, 'way': 31, 'act': 32, 'play': 33, 'made': 34, 'thing': 35, 'could': 36, 'know': 37, 'say': 38, 'seem': 39, 'work': 40, 'plot': 41, 'two': 42, 'actor': 43, 'year': 44, 'come': 45, 'mani': 46, 'seen': 47, 'take': 48, 'life': 49, 'want': 50, 'never': 51, 'littl': 52, 'best': 53, 'tri': 54, 'man': 55, 'ever': 56, 'give': 57, 'better': 58, 'still': 59, 'perform': 60, 'find': 61, 'feel': 62, 'part': 63, 'back': 64, 'use': 65, 'someth': 66, 'director': 67, 'actual': 68, 'interest': 69, 'lot': 70, 'real': 71, 'old': 72, 'cast': 73, 'though': 74, 'live': 75, 'star': 76, 'enjoy': 77, 'guy': 78, 'anoth': 79, 'new': 80, 'role': 81, 'noth': 82, '10': 83, 'funni': 84, 'music': 85, 'point': 86, 'start': 87, 'set': 88, 'girl': 89, 'origin': 90, 'day': 91, 'world': 92, 'everi': 93, 'believ': 94, 'turn': 95, 'quit': 96, 'direct': 97, 'us': 98, 'thought': 99, 'fact': 100, 'minut': 101, 'horror': 102, 'kill': 103, 'action': 104, 'comedi': 105, 'pretti': 106, 'young': 107, 'wonder': 108, 'happen': 109, 'around': 110, 'got': 111, 'effect': 112, 'right': 113, 'long': 114, 'howev': 115, 'big': 116, 'line': 117, 'famili': 118, 'enough': 119, 'seri': 120, 'may': 121, 'need': 122, 'fan': 123, 'bit': 124, 'script': 125, 'beauti': 126, 'person': 127, 'becom': 128, 'without': 129, 'must': 130, 'alway': 131, 'friend': 132, 'tell': 133, 'reason': 134, 'saw': 135, 'last': 136, 'final': 137, 'kid': 138, 'almost': 139, 'put': 140, 'least': 141, 'sure': 142, 'done': 143, 'whole': 144, 'place': 145, 'complet': 146, 'kind': 147, 'differ': 148, 'expect': 149, 'shot': 150, 'far': 151, 'mean': 152, 'anyth': 153, 'book': 154, 'laugh': 155, 'might': 156, 'name': 157, 'sinc': 158, 'begin': 159, '2': 160, 'probabl': 161, 'woman': 162, 'help': 163, 'entertain': 164, 'let': 165, 'screen': 166, 'call': 167, 'tv': 168, 'moment': 169, 'away': 170, 'read': 171, 'yet': 172, 'rather': 173, 'worst': 174, 'run': 175, 'fun': 176, 'lead': 177, 'hard': 178, 'audienc': 179, 'idea': 180, 'anyon': 181, 'episod': 182, 'american': 183, 'found': 184, 'appear': 185, 'bore': 186, 'especi': 187, 'although': 188, 'hope': 189, 'keep': 190, 'cours': 191, 'anim': 192, 'job': 193, 'goe': 194, 'move': 195, 'sens': 196, 'version': 197, 'dvd': 198, 'war': 199, 'money': 200, 'someon': 201, 'mind': 202, 'mayb': 203, 'problem': 204, 'true': 205, 'hous': 206, 'everyth': 207, 'nice': 208, 'second': 209, 'rate': 210, 'three': 211, 'night': 212, 'face': 213, 'follow': 214, 'recommend': 215, 'main': 216, 'product': 217, 'worth': 218, 'leav': 219, 'human': 220, 'special': 221, 'excel': 222, 'togeth': 223, 'wast': 224, 'sound': 225, 'everyon': 226, 'john': 227, 'hand': 228, '1': 229, 'father': 230, 'later': 231, 'eye': 232, 'said': 233, 'view': 234, 'instead': 235, 'review': 236, 'boy': 237, 'high': 238, 'hour': 239, 'miss': 240, 'talk': 241, 'classic': 242, 'wife': 243, 'understand': 244, 'left': 245, 'care': 246, 'black': 247, 'death': 248, 'open': 249, 'murder': 250, 'write': 251, 'half': 252, 'head': 253, 'rememb': 254, 'chang': 255, 'viewer': 256, 'fight': 257, 'gener': 258, 'surpris': 259, 'includ': 260, 'short': 261, 'die': 262, 'fall': 263, 'less': 264, 'els': 265, 'entir': 266, 'piec': 267, 'involv': 268, 'pictur': 269, 'simpli': 270, 'power': 271, 'home': 272, 'top': 273, 'total': 274, 'usual': 275, 'budget': 276, 'attempt': 277, 'suppos': 278, 'releas': 279, 'hollywood': 280, 'terribl': 281, 'song': 282, 'men': 283, 'possibl': 284, 'featur': 285, 'portray': 286, 'disappoint': 287, 'poor': 288, '3': 289, 'coupl': 290, 'camera': 291, 'stupid': 292, 'dead': 293, 'wrong': 294, 'low': 295, 'produc': 296, 'video': 297, 'either': 298, 'aw': 299, 'definit': 300, 'except': 301, 'rest': 302, 'given': 303, 'absolut': 304, 'women': 305, 'lack': 306, 'word': 307, 'writer': 308, 'titl': 309, 'talent': 310, 'decid': 311, 'full': 312, 'perfect': 313, 'along': 314, 'style': 315, 'close': 316, 'truli': 317, 'school': 318, 'emot': 319, 'save': 320, 'sex': 321, 'age': 322, 'next': 323, 'bring': 324, 'mr': 325, 'case': 326, 'killer': 327, 'heart': 328, 'comment': 329, 'sort': 330, 'creat': 331, 'perhap': 332, 'came': 333, 'brother': 334, 'sever': 335, 'joke': 336, 'art': 337, 'dialogu': 338, 'game': 339, 'small': 340, 'base': 341, 'flick': 342, 'written': 343, 'sequenc': 344, 'meet': 345, 'earli': 346, 'often': 347, 'other': 348, 'mother': 349, 'develop': 350, 'humor': 351, 'actress': 352, 'consid': 353, 'dark': 354, 'guess': 355, 'amaz': 356, 'unfortun': 357, 'lost': 358, 'light': 359, 'exampl': 360, 'cinema': 361, 'drama': 362, 'white': 363, 'ye': 364, 'experi': 365, 'imagin': 366, 'mention': 367, 'stop': 368, 'natur': 369, 'forc': 370, 'manag': 371, 'felt': 372, 'cut': 373, 'present': 374, 'children': 375, 'fail': 376, 'son': 377, 'support': 378, 'qualiti': 379, 'car': 380, 'ask': 381, 'hit': 382, 'side': 383, 'voic': 384, 'extrem': 385, 'impress': 386, 'evil': 387, 'wors': 388, 'went': 389, 'stand': 390, 'certainli': 391, 'basic': 392, 'oh': 393, 'overal': 394, 'favorit': 395, 'horribl': 396, 'mysteri': 397, 'number': 398, 'type': 399, 'danc': 400, 'wait': 401, 'hero': 402, 'alreadi': 403, '5': 404, 'learn': 405, 'matter': 406, '4': 407, 'michael': 408, 'genr': 409, 'fine': 410, 'despit': 411, 'throughout': 412, 'walk': 413, 'success': 414, 'histori': 415, 'question': 416, 'zombi': 417, 'town': 418, 'realiz': 419, 'relationship': 420, 'child': 421, 'past': 422, 'daughter': 423, 'late': 424, 'b': 425, 'wish': 426, 'credit': 427, 'hate': 428, 'event': 429, 'theme': 430, 'touch': 431, 'citi': 432, 'today': 433, 'sometim': 434, 'behind': 435, 'god': 436, 'twist': 437, 'sit': 438, 'deal': 439, 'annoy': 440, 'stay': 441, 'abl': 442, 'rent': 443, 'pleas': 444, 'edit': 445, 'blood': 446, 'deserv': 447, 'comic': 448, 'anyway': 449, 'appar': 450, 'soon': 451, 'gave': 452, 'etc': 453, 'level': 454, 'slow': 455, 'chanc': 456, 'score': 457, 'bodi': 458, 'brilliant': 459, 'incred': 460, 'figur': 461, 'situat': 462, 'self': 463, 'major': 464, 'stuff': 465, 'decent': 466, 'element': 467, 'return': 468, 'dream': 469, 'obvious': 470, 'continu': 471, 'order': 472, 'pace': 473, 'ridicul': 474, 'happi': 475, 'add': 476, 'highli': 477, 'group': 478, 'thank': 479, 'ladi': 480, 'novel': 481, 'pain': 482, 'speak': 483, 'career': 484, 'shoot': 485, 'strang': 486, 'heard': 487, 'sad': 488, 'husband': 489, 'polic': 490, 'import': 491, 'break': 492, 'took': 493, 'cannot': 494, 'strong': 495, 'predict': 496, 'robert': 497, 'violenc': 498, 'hilari': 499, 'recent': 500, 'countri': 501, 'known': 502, 'particularli': 503, 'pick': 504, 'documentari': 505, 'season': 506, 'critic': 507, 'jame': 508, 'compar': 509, 'alon': 510, 'obviou': 511, 'told': 512, 'state': 513, 'visual': 514, 'rock': 515, 'exist': 516, 'offer': 517, 'theater': 518, 'opinion': 519, 'gore': 520, 'crap': 521, 'hold': 522, 'result': 523, 'hear': 524, 'realiti': 525, 'room': 526, 'clich': 527, 'effort': 528, 'thriller': 529, 'caus': 530, 'sequel': 531, 'serious': 532, 'explain': 533, 'king': 534, 'local': 535, 'ago': 536, 'hell': 537, 'none': 538, 'note': 539, 'allow': 540, 'sister': 541, 'david': 542, 'simpl': 543, 'femal': 544, 'deliv': 545, 'ok': 546, 'convinc': 547, 'class': 548, 'check': 549, 'suspens': 550, 'win': 551, 'buy': 552, 'oscar': 553, 'huge': 554, 'valu': 555, 'sexual': 556, 'cool': 557, 'scari': 558, 'excit': 559, 'similar': 560, 'apart': 561, 'exactli': 562, 'provid': 563, 'avoid': 564, 'shown': 565, 'seriou': 566, 'english': 567, 'whose': 568, 'taken': 569, 'cinematographi': 570, 'shock': 571, 'polit': 572, 'spoiler': 573, 'offic': 574, 'across': 575, 'middl': 576, 'pass': 577, 'street': 578, 'messag': 579, 'charm': 580, 'somewhat': 581, 'silli': 582, 'modern': 583, 'confus': 584, 'filmmak': 585, 'form': 586, 'tale': 587, 'singl': 588, 'jack': 589, 'mostli': 590, 'carri': 591, 'william': 592, 'attent': 593, 'sing': 594, 'five': 595, 'subject': 596, 'prove': 597, 'richard': 598, 'team': 599, 'stage': 600, 'cop': 601, 'unlik': 602, 'georg': 603, 'monster': 604, 'televis': 605, 'earth': 606, 'villain': 607, 'cover': 608, 'pay': 609, 'marri': 610, 'toward': 611, 'build': 612, 'parent': 613, 'pull': 614, 'due': 615, 'fill': 616, 'respect': 617, 'dialog': 618, 'four': 619, 'remind': 620, 'futur': 621, 'weak': 622, 'typic': 623, '7': 624, 'cheap': 625, 'intellig': 626, 'british': 627, 'atmospher': 628, 'clearli': 629, '80': 630, 'paul': 631, 'non': 632, 'dog': 633, 'knew': 634, 'artist': 635, 'fast': 636, '8': 637, 'crime': 638, 'easili': 639, 'escap': 640, 'adult': 641, 'doubt': 642, 'detail': 643, 'date': 644, 'romant': 645, 'member': 646, 'fire': 647, 'gun': 648, 'drive': 649, 'straight': 650, 'beyond': 651, 'fit': 652, 'attack': 653, 'imag': 654, 'upon': 655, 'posit': 656, 'whether': 657, 'fantast': 658, 'peter': 659, 'aspect': 660, 'appreci': 661, 'captur': 662, 'ten': 663, 'plan': 664, 'discov': 665, 'remain': 666, 'near': 667, 'period': 668, 'air': 669, 'realist': 670, 'mark': 671, 'red': 672, 'dull': 673, 'adapt': 674, 'within': 675, 'lose': 676, 'spend': 677, 'materi': 678, 'color': 679, 'chase': 680, 'mari': 681, 'storylin': 682, 'forget': 683, 'bunch': 684, 'clear': 685, 'lee': 686, 'victim': 687, 'nearli': 688, 'box': 689, 'york': 690, 'inspir': 691, 'match': 692, 'mess': 693, 'finish': 694, 'standard': 695, 'easi': 696, 'truth': 697, 'busi': 698, 'suffer': 699, 'bill': 700, 'dramat': 701, 'space': 702, 'western': 703, 'e': 704, 'list': 705, 'battl': 706, 'notic': 707, 'de': 708, 'french': 709, 'ad': 710, '9': 711, 'tom': 712, 'larg': 713, 'among': 714, 'eventu': 715, 'accept': 716, 'train': 717, 'agre': 718, 'soundtrack': 719, 'spirit': 720, 'third': 721, 'teenag': 722, 'soldier': 723, 'adventur': 724, 'sorri': 725, 'suggest': 726, 'drug': 727, 'famou': 728, 'babi': 729, 'cri': 730, 'normal': 731, 'ultim': 732, 'troubl': 733, 'contain': 734, 'certain': 735, 'cultur': 736, 'romanc': 737, 'rare': 738, 'lame': 739, 'somehow': 740, 'mix': 741, 'disney': 742, 'gone': 743, 'cartoon': 744, 'student': 745, 'fear': 746, 'reveal': 747, 'suck': 748, 'kept': 749, 'attract': 750, 'appeal': 751, 'premis': 752, 'greatest': 753, 'design': 754, 'secret': 755, 'shame': 756, 'throw': 757, 'scare': 758, 'copi': 759, 'wit': 760, 'america': 761, 'admit': 762, 'brought': 763, 'relat': 764, 'particular': 765, 'screenplay': 766, 'whatev': 767, 'pure': 768, '70': 769, 'averag': 770, 'harri': 771, 'master': 772, 'describ': 773, 'male': 774, 'treat': 775, '20': 776, 'issu': 777, 'fantasi': 778, 'warn': 779, 'inde': 780, 'background': 781, 'forward': 782, 'project': 783, 'free': 784, 'japanes': 785, 'memor': 786, 'poorli': 787, 'award': 788, 'locat': 789, 'amus': 790, 'potenti': 791, 'struggl': 792, 'magic': 793, 'weird': 794, 'societi': 795, 'okay': 796, 'accent': 797, 'imdb': 798, 'doctor': 799, 'hot': 800, 'water': 801, '30': 802, 'alien': 803, 'express': 804, 'dr': 805, 'odd': 806, 'crazi': 807, 'choic': 808, 'fiction': 809, 'studio': 810, 'becam': 811, 'control': 812, 'masterpiec': 813, 'fli': 814, 'difficult': 815, 'joe': 816, 'scream': 817, 'costum': 818, 'lover': 819, 'uniqu': 820, 'refer': 821, 'remak': 822, 'girlfriend': 823, 'vampir': 824, 'prison': 825, 'execut': 826, 'wear': 827, 'jump': 828, 'unless': 829, 'wood': 830, 'creepi': 831, 'cheesi': 832, 'superb': 833, 'otherwis': 834, 'parti': 835, 'roll': 836, 'ghost': 837, 'public': 838, 'mad': 839, 'depict': 840, 'badli': 841, 'week': 842, 'moral': 843, 'jane': 844, 'earlier': 845, 'dumb': 846, 'fi': 847, 'grow': 848, 'flaw': 849, 'deep': 850, 'sci': 851, 'maker': 852, 'cat': 853, 'connect': 854, 'footag': 855, 'older': 856, 'plenti': 857, 'bother': 858, 'outsid': 859, 'stick': 860, 'gay': 861, 'catch': 862, 'plu': 863, 'co': 864, 'popular': 865, 'equal': 866, 'social': 867, 'quickli': 868, 'disturb': 869, 'perfectli': 870, 'dress': 871, '90': 872, 'era': 873, 'mistak': 874, 'lie': 875, 'ride': 876, 'previou': 877, 'combin': 878, 'concept': 879, 'band': 880, 'surviv': 881, 'rich': 882, 'answer': 883, 'front': 884, 'sweet': 885, 'christma': 886, 'insid': 887, 'bare': 888, 'concern': 889, 'eat': 890, 'ben': 891, 'listen': 892, 'beat': 893, 'c': 894, 'serv': 895, 'term': 896, 'la': 897, 'meant': 898, 'german': 899, 'hardli': 900, 'stereotyp': 901, 'innoc': 902, 'law': 903, 'desper': 904, 'memori': 905, 'promis': 906, 'cute': 907, 'intent': 908, 'steal': 909, 'variou': 910, 'inform': 911, 'brain': 912, 'post': 913, 'tone': 914, 'island': 915, 'amount': 916, 'nuditi': 917, 'track': 918, 'compani': 919, 'claim': 920, 'store': 921, '50': 922, 'hair': 923, 'flat': 924, 'univers': 925, 'land': 926, 'scott': 927, 'kick': 928, 'danger': 929, 'fairli': 930, 'player': 931, 'step': 932, 'crew': 933, 'plain': 934, 'toni': 935, 'share': 936, 'tast': 937, 'centuri': 938, 'achiev': 939, 'engag': 940, 'cold': 941, 'travel': 942, 'rip': 943, 'suit': 944, 'record': 945, 'sadli': 946, 'manner': 947, 'tension': 948, 'spot': 949, 'wrote': 950, 'fascin': 951, 'intens': 952, 'familiar': 953, 'depth': 954, 'burn': 955, 'remark': 956, 'histor': 957, 'destroy': 958, 'sleep': 959, 'purpos': 960, 'languag': 961, 'ruin': 962, 'ignor': 963, 'delight': 964, 'unbeliev': 965, 'italian': 966, 'collect': 967, 'soul': 968, 'abil': 969, 'clever': 970, 'detect': 971, 'violent': 972, 'rape': 973, 'reach': 974, 'door': 975, 'trash': 976, 'liter': 977, 'scienc': 978, 'caught': 979, 'reveng': 980, 'commun': 981, 'creatur': 982, 'trip': 983, 'approach': 984, 'fashion': 985, 'intrigu': 986, 'introduc': 987, 'skill': 988, 'paint': 989, 'complex': 990, 'channel': 991, 'camp': 992, 'christian': 993, 'extra': 994, 'hole': 995, 'immedi': 996, 'limit': 997, 'mental': 998, 'ann': 999, 'slightli': 1000, 'million': 1001, 'mere': 1002, '6': 1003, 'comput': 1004, 'conclus': 1005, 'slasher': 1006, 'suddenli': 1007, 'imposs': 1008, 'neither': 1009, 'teen': 1010, 'crimin': 1011, 'nation': 1012, 'spent': 1013, 'physic': 1014, 'respons': 1015, 'planet': 1016, 'receiv': 1017, 'fake': 1018, 'sick': 1019, 'blue': 1020, 'bizarr': 1021, 'embarrass': 1022, 'indian': 1023, '15': 1024, 'ring': 1025, 'pop': 1026, 'drop': 1027, 'drag': 1028, 'haunt': 1029, 'pointless': 1030, 'suspect': 1031, 'edg': 1032, 'search': 1033, 'handl': 1034, 'biggest': 1035, 'common': 1036, 'faith': 1037, 'arriv': 1038, 'hurt': 1039, 'technic': 1040, 'angel': 1041, 'dad': 1042, 'genuin': 1043, 'f': 1044, 'solid': 1045, 'awesom': 1046, 'former': 1047, 'focu': 1048, 'colleg': 1049, 'van': 1050, 'count': 1051, 'tear': 1052, 'heavi': 1053, 'rais': 1054, 'wall': 1055, 'visit': 1056, 'younger': 1057, 'laughabl': 1058, 'sign': 1059, 'fair': 1060, 'excus': 1061, 'cult': 1062, 'motion': 1063, 'key': 1064, 'tough': 1065, 'desir': 1066, 'super': 1067, 'addit': 1068, 'stun': 1069, 'exploit': 1070, 'cloth': 1071, 'tortur': 1072, 'smith': 1073, 'davi': 1074, 'race': 1075, 'cross': 1076, 'author': 1077, 'jim': 1078, 'consist': 1079, 'compel': 1080, 'focus': 1081, 'minor': 1082, 'pathet': 1083, 'chemistri': 1084, 'commit': 1085, 'park': 1086, 'obsess': 1087, 'tradit': 1088, 'frank': 1089, 'grade': 1090, '60': 1091, 'asid': 1092, 'brutal': 1093, 'steve': 1094, 'somewher': 1095, 'explor': 1096, 'rule': 1097, 'depress': 1098, 'u': 1099, 'grant': 1100, 'opportun': 1101, 'besid': 1102, 'honest': 1103, 'anti': 1104, 'dub': 1105, 'trailer': 1106, 'intend': 1107, 'bar': 1108, 'regard': 1109, 'scientist': 1110, 'longer': 1111, 'west': 1112, 'decad': 1113, 'judg': 1114, 'silent': 1115, 'armi': 1116, 'creativ': 1117, 'wild': 1118, 'stewart': 1119, 'g': 1120, 'south': 1121, 'draw': 1122, 'road': 1123, 'govern': 1124, 'ex': 1125, 'boss': 1126, 'practic': 1127, 'surprisingli': 1128, 'club': 1129, 'festiv': 1130, 'motiv': 1131, 'gang': 1132, 'green': 1133, 'london': 1134, 'page': 1135, 'redeem': 1136, 'display': 1137, 'idiot': 1138, 'machin': 1139, 'aliv': 1140, 'militari': 1141, 'thrill': 1142, 'repeat': 1143, 'nobodi': 1144, 'folk': 1145, '100': 1146, 'yeah': 1147, '40': 1148, 'journey': 1149, 'garbag': 1150, 'tire': 1151, 'ground': 1152, 'smile': 1153, 'mood': 1154, 'bought': 1155, 'cost': 1156, 'stone': 1157, 'sam': 1158, 'mouth': 1159, 'noir': 1160, 'terrif': 1161, 'agent': 1162, 'requir': 1163, 'utterli': 1164, 'sexi': 1165, 'area': 1166, 'honestli': 1167, 'geniu': 1168, 'report': 1169, 'glad': 1170, 'enter': 1171, 'humour': 1172, 'investig': 1173, 'serial': 1174, 'narr': 1175, 'occasion': 1176, 'passion': 1177, 'marriag': 1178, 'climax': 1179, 'industri': 1180, 'studi': 1181, 'ship': 1182, 'nowher': 1183, 'center': 1184, 'charli': 1185, 'demon': 1186, 'bear': 1187, 'loos': 1188, 'hors': 1189, 'hang': 1190, 'wow': 1191, 'graphic': 1192, 'admir': 1193, 'giant': 1194, 'send': 1195, 'loud': 1196, 'damn': 1197, 'rel': 1198, 'nake': 1199, 'profession': 1200, 'subtl': 1201, 'blow': 1202, 'bottom': 1203, 'batman': 1204, 'insult': 1205, 'doubl': 1206, 'r': 1207, 'boyfriend': 1208, 'kelli': 1209, 'initi': 1210, 'frame': 1211, 'gem': 1212, 'opera': 1213, 'affect': 1214, 'challeng': 1215, 'cinemat': 1216, 'church': 1217, 'drawn': 1218, 'evid': 1219, 'fulli': 1220, 'seek': 1221, 'nightmar': 1222, 'l': 1223, 'j': 1224, 'arm': 1225, 'conflict': 1226, 'essenti': 1227, 'wind': 1228, 'henri': 1229, 'grace': 1230, 'christoph': 1231, 'assum': 1232, 'narrat': 1233, 'witch': 1234, 'push': 1235, 'hunt': 1236, 'wise': 1237, 'chri': 1238, 'repres': 1239, 'month': 1240, 'nomin': 1241, 'hide': 1242, 'sceneri': 1243, 'avail': 1244, 'affair': 1245, 'smart': 1246, 'thu': 1247, 'bond': 1248, 'justic': 1249, 'flashback': 1250, 'outstand': 1251, 'interview': 1252, 'constantli': 1253, 'presenc': 1254, 'satisfi': 1255, 'central': 1256, 'bed': 1257, 'sell': 1258, 'content': 1259, 'iron': 1260, 'everybodi': 1261, 'gag': 1262, 'slowli': 1263, 'hotel': 1264, 'hire': 1265, 'system': 1266, 'hey': 1267, 'adam': 1268, 'individu': 1269, 'thrown': 1270, 'charl': 1271, 'mediocr': 1272, 'jone': 1273, 'allen': 1274, 'ray': 1275, 'lesson': 1276, 'billi': 1277, 'cameo': 1278, 'photographi': 1279, 'fellow': 1280, 'pari': 1281, 'strike': 1282, 'independ': 1283, 'rise': 1284, 'brief': 1285, 'absurd': 1286, 'neg': 1287, 'phone': 1288, 'impact': 1289, 'model': 1290, 'born': 1291, 'ill': 1292, 'fresh': 1293, 'spoil': 1294, 'angl': 1295, 'likabl': 1296, 'abus': 1297, 'discuss': 1298, 'hill': 1299, 'ahead': 1300, 'sight': 1301, 'sent': 1302, 'photograph': 1303, 'shine': 1304, 'blame': 1305, 'occur': 1306, 'logic': 1307, 'mainli': 1308, 'bruce': 1309, 'skip': 1310, 'forev': 1311, 'commerci': 1312, 'teacher': 1313, 'surround': 1314, 'held': 1315, 'segment': 1316, 'zero': 1317, 'blond': 1318, 'summer': 1319, 'resembl': 1320, 'trap': 1321, 'satir': 1322, 'six': 1323, 'ball': 1324, 'queen': 1325, 'fool': 1326, 'twice': 1327, 'tragedi': 1328, 'sub': 1329, 'reaction': 1330, 'pack': 1331, 'bomb': 1332, 'will': 1333, 'hospit': 1334, 'protagonist': 1335, 'sport': 1336, 'mile': 1337, 'drink': 1338, 'mom': 1339, 'jerri': 1340, 'trust': 1341, 'vote': 1342, 'encount': 1343, 'plane': 1344, 'current': 1345, 'station': 1346, 'program': 1347, 'al': 1348, 'martin': 1349, 'choos': 1350, 'celebr': 1351, 'join': 1352, 'tragic': 1353, 'lord': 1354, 'round': 1355, 'field': 1356, 'favourit': 1357, 'jean': 1358, 'vision': 1359, 'robot': 1360, 'arthur': 1361, 'tie': 1362, 'fortun': 1363, 'random': 1364, 'roger': 1365, 'psycholog': 1366, 'dread': 1367, 'intern': 1368, 'epic': 1369, 'prefer': 1370, 'nonsens': 1371, 'improv': 1372, 'legend': 1373, 'pleasur': 1374, 'formula': 1375, 'highlight': 1376, 'dollar': 1377, '11': 1378, 'tape': 1379, 'porn': 1380, 'gorgeou': 1381, 'object': 1382, 'thin': 1383, 'fox': 1384, 'wide': 1385, 'buddi': 1386, 'ugli': 1387, 'influenc': 1388, 'prepar': 1389, 'nasti': 1390, 'ii': 1391, 'supposedli': 1392, 'warm': 1393, 'reflect': 1394, 'progress': 1395, 'youth': 1396, 'worthi': 1397, 'unusu': 1398, 'length': 1399, 'latter': 1400, 'crash': 1401, 'superior': 1402, 'childhood': 1403, 'shop': 1404, 'seven': 1405, 'theatr': 1406, 'remot': 1407, 'disgust': 1408, 'paid': 1409, 'pilot': 1410, 'funniest': 1411, 'convers': 1412, 'castl': 1413, 'trick': 1414, 'fell': 1415, 'disast': 1416, 'rob': 1417, 'establish': 1418, 'gangster': 1419, 'heaven': 1420, 'suicid': 1421, 'ident': 1422, 'mine': 1423, 'disappear': 1424, 'decis': 1425, 'tend': 1426, 'forgotten': 1427, 'heroin': 1428, 'singer': 1429, 'mask': 1430, 'brian': 1431, 'partner': 1432, 'desert': 1433, 'recogn': 1434, 'alan': 1435, 'p': 1436, 'thoroughli': 1437, 'stuck': 1438, 'sky': 1439, 'ms': 1440, 'replac': 1441, 'accur': 1442, 'market': 1443, 'seemingli': 1444, 'danni': 1445, 'uncl': 1446, 'andi': 1447, 'commentari': 1448, 'clue': 1449, 'eddi': 1450, 'devil': 1451, 'jackson': 1452, 'therefor': 1453, 'refus': 1454, 'that': 1455, 'pair': 1456, 'fate': 1457, 'river': 1458, 'fault': 1459, 'accid': 1460, 'unit': 1461, 'ed': 1462, 'afraid': 1463, 'tune': 1464, 'clean': 1465, 'russian': 1466, 'hidden': 1467, 'stephen': 1468, 'test': 1469, 'convey': 1470, 'instanc': 1471, 'captain': 1472, 'quick': 1473, 'readi': 1474, 'irrit': 1475, 'european': 1476, 'frustrat': 1477, 'daniel': 1478, 'insan': 1479, '1950': 1480, 'rescu': 1481, 'chines': 1482, 'food': 1483, 'wed': 1484, 'lock': 1485, 'dirti': 1486, 'angri': 1487, 'joy': 1488, 'steven': 1489, 'price': 1490, 'bland': 1491, 'cage': 1492, 'rang': 1493, 'anymor': 1494, 'wooden': 1495, 'n': 1496, 'jason': 1497, 'news': 1498, 'rush': 1499, 'martial': 1500, 'twenti': 1501, 'worri': 1502, 'led': 1503, 'board': 1504, '12': 1505, 'symbol': 1506, 'transform': 1507, 'hunter': 1508, 'cgi': 1509, 'x': 1510, 'onto': 1511, 'sentiment': 1512, 'invent': 1513, 'johnni': 1514, 'piti': 1515, 'attitud': 1516, 'process': 1517, 'explan': 1518, 'awar': 1519, 'owner': 1520, 'aim': 1521, 'target': 1522, 'favor': 1523, 'floor': 1524, 'necessari': 1525, 'energi': 1526, 'religi': 1527, 'opposit': 1528, 'chick': 1529, 'blind': 1530, 'window': 1531, 'insight': 1532, 'movement': 1533, 'comparison': 1534, 'possess': 1535, 'research': 1536, 'deepli': 1537, 'mountain': 1538, 'grand': 1539, 'rain': 1540, 'comed': 1541, 'whatsoev': 1542, 'mid': 1543, 'bank': 1544, 'shadow': 1545, 'began': 1546, 'princ': 1547, 'parodi': 1548, 'pre': 1549, 'credibl': 1550, 'friendship': 1551, 'taylor': 1552, 'weapon': 1553, 'flesh': 1554, 'dougla': 1555, 'teach': 1556, 'bloodi': 1557, 'protect': 1558, 'hint': 1559, 'terror': 1560, 'marvel': 1561, 'load': 1562, 'drunk': 1563, 'leader': 1564, 'superman': 1565, 'anybodi': 1566, 'accord': 1567, 'watchabl': 1568, 'brown': 1569, 'freddi': 1570, 'hitler': 1571, 'seat': 1572, 'appropri': 1573, 'tim': 1574, 'jeff': 1575, 'unknown': 1576, 'keaton': 1577, 'charg': 1578, 'villag': 1579, 'knock': 1580, 'unnecessari': 1581, 'empti': 1582, 'enemi': 1583, 'media': 1584, 'england': 1585, 'perspect': 1586, 'utter': 1587, 'wave': 1588, 'strength': 1589, 'dare': 1590, 'craft': 1591, 'buck': 1592, 'contrast': 1593, 'nativ': 1594, 'correct': 1595, 'kiss': 1596, 'ford': 1597, 'magnific': 1598, 'anywher': 1599, 'distract': 1600, 'speed': 1601, 'soap': 1602, 'knowledg': 1603, 'chill': 1604, 'nazi': 1605, 'breath': 1606, 'mission': 1607, 'ice': 1608, 'fred': 1609, '1980': 1610, 'moon': 1611, 'joan': 1612, 'crowd': 1613, 'jr': 1614, 'kate': 1615, 'frighten': 1616, '000': 1617, 'soft': 1618, 'hundr': 1619, 'dick': 1620, 'dan': 1621, 'nick': 1622, 'dozen': 1623, 'simon': 1624, 'radio': 1625, 'somebodi': 1626, 'thousand': 1627, 'andrew': 1628, 'shakespear': 1629, 'loss': 1630, 'academi': 1631, 'sum': 1632, 'root': 1633, 'account': 1634, 'vehicl': 1635, 'quot': 1636, 'behavior': 1637, 'convent': 1638, 'leg': 1639, '1970': 1640, 'regular': 1641, 'gold': 1642, 'compet': 1643, 'worker': 1644, 'demand': 1645, 'pretenti': 1646, 'japan': 1647, 'lynch': 1648, 'explos': 1649, 'privat': 1650, 'stretch': 1651, 'candi': 1652, 'interpret': 1653, 'notabl': 1654, 'constant': 1655, 'tarzan': 1656, 'debut': 1657, 'sea': 1658, 'revolv': 1659, 'spi': 1660, 'translat': 1661, 'prais': 1662, 'quiet': 1663, 'sat': 1664, 'jesu': 1665, 'franc': 1666, 'ass': 1667, 'threaten': 1668, 'technolog': 1669, 'failur': 1670, 'toy': 1671, 'aid': 1672, 'punch': 1673, 'kevin': 1674, 'higher': 1675, 'met': 1676, 'vh': 1677, 'abandon': 1678, 'interact': 1679, 'mike': 1680, 'confront': 1681, 'bet': 1682, 'command': 1683, 'separ': 1684, 'stunt': 1685, 'gotten': 1686, 'belong': 1687, 'site': 1688, 'techniqu': 1689, 'servic': 1690, 'recal': 1691, 'cabl': 1692, 'freak': 1693, 'foot': 1694, 'bug': 1695, 'fu': 1696, 'african': 1697, 'bright': 1698, 'capabl': 1699, 'jimmi': 1700, 'boat': 1701, 'fat': 1702, 'clark': 1703, 'presid': 1704, 'succeed': 1705, 'stock': 1706, 'structur': 1707, 'spanish': 1708, 'gene': 1709, 'paper': 1710, 'kidnap': 1711, 'belief': 1712, 'whilst': 1713, 'factor': 1714, 'bob': 1715, 'tree': 1716, 'realis': 1717, 'witti': 1718, 'educ': 1719, 'realism': 1720, 'complic': 1721, 'attend': 1722, 'finest': 1723, 'santa': 1724, 'broken': 1725, 'assist': 1726, 'up': 1727, 'smoke': 1728, 'determin': 1729, 'observ': 1730, 'v': 1731, 'depart': 1732, 'lewi': 1733, 'domin': 1734, 'rubbish': 1735, 'oper': 1736, 'routin': 1737, 'hat': 1738, 'fame': 1739, 'lone': 1740, 'kinda': 1741, 'advanc': 1742, 'safe': 1743, 'hook': 1744, 'foreign': 1745, 'morgan': 1746, 'numer': 1747, 'rank': 1748, 'rose': 1749, 'werewolf': 1750, 'vs': 1751, 'shape': 1752, 'civil': 1753, 'washington': 1754, 'shallow': 1755, 'gari': 1756, 'morn': 1757, 'accomplish': 1758, 'ordinari': 1759, 'winner': 1760, 'kong': 1761, 'grab': 1762, 'whenev': 1763, 'virtual': 1764, 'peac': 1765, 'luck': 1766, 'h': 1767, 'offens': 1768, 'bigger': 1769, 'unfunni': 1770, 'activ': 1771, 'contriv': 1772, 'welcom': 1773, 'patient': 1774, 'complain': 1775, 'dimension': 1776, 'trek': 1777, 'pretend': 1778, 'con': 1779, 'dri': 1780, 'flash': 1781, 'wake': 1782, 'lesbian': 1783, 'code': 1784, 'cain': 1785, 'eric': 1786, 'corrupt': 1787, 'manipul': 1788, 'dancer': 1789, 'guard': 1790, 'statu': 1791, 'albert': 1792, 'gain': 1793, 'signific': 1794, 'speech': 1795, 'awkward': 1796, 'sourc': 1797, 'context': 1798, '13': 1799, 'anthoni': 1800, 'psycho': 1801, 'sean': 1802, 'clip': 1803, 'corni': 1804, 'theatric': 1805, 'religion': 1806, 'priest': 1807, 'reli': 1808, 'advic': 1809, 'curiou': 1810, 'w': 1811, 'flow': 1812, 'addict': 1813, 'specif': 1814, 'skin': 1815, 'howard': 1816, 'jennif': 1817, 'secur': 1818, 'asian': 1819, 'luke': 1820, 'core': 1821, 'golden': 1822, 'comfort': 1823, 'organ': 1824, 'promot': 1825, 'cash': 1826, 'cheat': 1827, 'lucki': 1828, 'associ': 1829, 'lower': 1830, 'dislik': 1831, 'regret': 1832, 'degre': 1833, 'frequent': 1834, 'spell': 1835, 'devic': 1836, 'contribut': 1837, 'wing': 1838, 'balanc': 1839, 'frankli': 1840, 'sake': 1841, 'print': 1842, 'lake': 1843, 'forgiv': 1844, 'thoma': 1845, 'mass': 1846, 'betti': 1847, 'gordon': 1848, 'crack': 1849, 'unexpect': 1850, 'depend': 1851, 'construct': 1852, 'invit': 1853, 'amateur': 1854, 'grown': 1855, 'categori': 1856, 'unfold': 1857, 'intellectu': 1858, 'matur': 1859, 'grew': 1860, 'condit': 1861, 'honor': 1862, 'walter': 1863, 'anna': 1864, 'sole': 1865, 'mirror': 1866, 'spectacular': 1867, 'sudden': 1868, 'veteran': 1869, 'liner': 1870, 'grip': 1871, 'card': 1872, 'freedom': 1873, 'meanwhil': 1874, 'experienc': 1875, 'demonstr': 1876, 'robin': 1877, 'gift': 1878, 'overli': 1879, 'brilliantli': 1880, 'drew': 1881, 'colour': 1882, 'sheriff': 1883, 'unabl': 1884, 'theori': 1885, 'oliv': 1886, 'subtitl': 1887, 'crappi': 1888, 'section': 1889, 'circumst': 1890, 'altern': 1891, 'pile': 1892, 'cook': 1893, 'path': 1894, 'laughter': 1895, 'sheer': 1896, 'parker': 1897, 'matt': 1898, 'sinatra': 1899, 'lawyer': 1900, 'relief': 1901, 'treatment': 1902, 'accident': 1903, 'wander': 1904, 'defin': 1905, 'hall': 1906, 'captiv': 1907, 'dragon': 1908, 'hank': 1909, 'halloween': 1910, 'gratuit': 1911, 'moor': 1912, 'broadway': 1913, 'kung': 1914, 'wound': 1915, 'unintent': 1916, 'wayn': 1917, 'barbara': 1918, 'jacki': 1919, 'k': 1920, 'cowboy': 1921, 'winter': 1922, 'canadian': 1923, 'surreal': 1924, 'spoof': 1925, 'statement': 1926, 'fare': 1927, 'treasur': 1928, 'cheer': 1929, 'fish': 1930, 'compos': 1931, 'gonna': 1932, 'sensit': 1933, 'emerg': 1934, 'unrealist': 1935, 'victor': 1936, 'woodi': 1937, 'driven': 1938, 'sympathet': 1939, 'ran': 1940, 'neighbor': 1941, 'overlook': 1942, 'menac': 1943, 'glass': 1944, 'expos': 1945, 'authent': 1946, 'topic': 1947, 'ancient': 1948, 'michel': 1949, 'gross': 1950, 'handsom': 1951, 'chief': 1952, 'stranger': 1953, 'pleasant': 1954, 'built': 1955, 'contemporari': 1956, 'cinderella': 1957, 'russel': 1958, 'network': 1959, 'comedian': 1960, 'nevertheless': 1961, 'feet': 1962, 'earn': 1963, 'miser': 1964, 'consider': 1965, 'gori': 1966, 'blockbust': 1967, 'letter': 1968, 'underr': 1969, 'endless': 1970, 'brook': 1971, 'switch': 1972, 'solv': 1973, 'virgin': 1974, 'bullet': 1975, 'joseph': 1976, 'convict': 1977, 'victoria': 1978, 'edward': 1979, '0': 1980, 'chosen': 1981, 'cynic': 1982, 'alex': 1983, 'scenario': 1984, 'scale': 1985, 'outrag': 1986, 'gut': 1987, 'sword': 1988, 'curs': 1989, 'com': 1990, 'wrap': 1991, 'juli': 1992, 'uk': 1993, 'proper': 1994, 'substanc': 1995, 'driver': 1996, 'screenwrit': 1997, 'monkey': 1998, 'court': 1999, 'indic': 2000, 'remov': 2001, 'par': 2002, 'bird': 2003, 'grave': 2004, 'consequ': 2005, 'advertis': 2006, 'rental': 2007, 'naiv': 2008, 'roy': 2009, 'nanci': 2010, 'inevit': 2011, 'loser': 2012, 'le': 2013, 'bridg': 2014, 'brave': 2015, 'germani': 2016, 'invis': 2017, 'fatal': 2018, 'slap': 2019, 'anger': 2020, 'ador': 2021, 'footbal': 2022, 'loui': 2023, 'provok': 2024, 'alcohol': 2025, 'anderson': 2026, 'chan': 2027, 'stumbl': 2028, 'ryan': 2029, 'professor': 2030, 'willi': 2031, 'bat': 2032, 'sharp': 2033, '1930': 2034, 'patrick': 2035, 'australian': 2036, 'assassin': 2037, 'lousi': 2038, 'strongli': 2039, 'ape': 2040, 'saturday': 2041, 'amateurish': 2042, 'refresh': 2043, 'eight': 2044, 'liber': 2045, 'heck': 2046, 'trilog': 2047, 'cell': 2048, 'deni': 2049, 'sin': 2050, 'vagu': 2051, 'san': 2052, 'resid': 2053, 'justifi': 2054, 'indi': 2055, 'reput': 2056, 'mini': 2057, 'creator': 2058, 'terrifi': 2059, 'sympathi': 2060, 'defeat': 2061, 'endur': 2062, 'tediou': 2063, 'expert': 2064, 'tabl': 2065, 'prevent': 2066, 'task': 2067, 'trial': 2068, 'imit': 2069, 'rival': 2070, 'basebal': 2071, 'employ': 2072, 'offend': 2073, 'che': 2074, 'pitch': 2075, 'weekend': 2076, 'fairi': 2077, 'max': 2078, 'europ': 2079, 'dig': 2080, 'beach': 2081, 'complaint': 2082, 'risk': 2083, 'purchas': 2084, 'format': 2085, 'murphi': 2086, 'nois': 2087, 'tini': 2088, 'harsh': 2089, 'bite': 2090, 'glimps': 2091, 'reminisc': 2092, 'hype': 2093, 'powel': 2094, 'titan': 2095, '14': 2096, 'fals': 2097, 'north': 2098, 'till': 2099, 'prime': 2100, 'strip': 2101, 'asleep': 2102, 'destruct': 2103, 'revel': 2104, 'descript': 2105, 'africa': 2106, 'texa': 2107, 'excess': 2108, 'sitcom': 2109, 'inner': 2110, 'spin': 2111, 'semi': 2112, 'arrest': 2113, 'surfac': 2114, 'uninterest': 2115, 'makeup': 2116, 'maintain': 2117, 'massiv': 2118, 'argu': 2119, 'controversi': 2120, 'dinosaur': 2121, 'hitchcock': 2122, 'twin': 2123, 'melodrama': 2124, 'expens': 2125, 'ludicr': 2126, 'stare': 2127, 'ideal': 2128, 'insist': 2129, 'kim': 2130, 'reject': 2131, 'press': 2132, 'atroci': 2133, 'subplot': 2134, 'forest': 2135, 'host': 2136, 'supernatur': 2137, 'ala': 2138, 'nail': 2139, 'ga': 2140, 'erot': 2141, 'columbo': 2142, 'dude': 2143, 'presum': 2144, 'notch': 2145, 'identifi': 2146, 'cant': 2147, 'crude': 2148, 'character': 2149, 'closer': 2150, 'guest': 2151, 'method': 2152, 'forgett': 2153, 'plagu': 2154, 'border': 2155, 'beast': 2156, 'ear': 2157, 'landscap': 2158, 'princess': 2159, 'lion': 2160, 'foster': 2161, 'storytel': 2162, 'previous': 2163, 'aunt': 2164, 'bound': 2165, 'jungl': 2166, 'urban': 2167, 'damag': 2168, 'birth': 2169, 'pacino': 2170, 'accus': 2171, 'nude': 2172, 'jess': 2173, 'doll': 2174, 'thirti': 2175, 'chose': 2176, 'guid': 2177, 'propaganda': 2178, 'emma': 2179, 'warrior': 2180, '25': 2181, 'whoever': 2182, 'mate': 2183, 'pet': 2184, 'mainstream': 2185, 'upset': 2186, 'latest': 2187, 'exact': 2188, 'deadli': 2189, 'size': 2190, 'merit': 2191, 'poster': 2192, 'gritti': 2193, 'friday': 2194, 'cooper': 2195, 'blend': 2196, 'ton': 2197, 'sun': 2198, '1990': 2199, 'corps': 2200, 'rough': 2201, 'settl': 2202, 'contest': 2203, 'citizen': 2204, 'popul': 2205, 'wilson': 2206, 'buff': 2207, 'warner': 2208, 'contact': 2209, 'environ': 2210, 'alic': 2211, 'bu': 2212, 'select': 2213, 'widow': 2214, 'pitt': 2215, 'rat': 2216, 'overcom': 2217, 'metal': 2218, 'mgm': 2219, 'link': 2220, 'revolut': 2221, 'guilti': 2222, 'lift': 2223, 'ted': 2224, 'particip': 2225, 'prostitut': 2226, 'johnson': 2227, 'exagger': 2228, 'matrix': 2229, 'accompani': 2230, 'moron': 2231, '1960': 2232, 'afternoon': 2233, 'corpor': 2234, 'corner': 2235, 'instal': 2236, 'clair': 2237, 'sincer': 2238, 'leagu': 2239, 'multipl': 2240, 'hood': 2241, 'holm': 2242, 'doom': 2243, 'friendli': 2244, 'advis': 2245, 'junk': 2246, 'aka': 2247, 'examin': 2248, 'string': 2249, 'sunday': 2250, 'campi': 2251, 'hip': 2252, 'defend': 2253, 'blah': 2254, 'irish': 2255, 'grim': 2256, 'lugosi': 2257, 'icon': 2258, 'rachel': 2259, 'pro': 2260, 'varieti': 2261, 'shut': 2262, 'confid': 2263, 'tight': 2264, 'shake': 2265, 'jaw': 2266, 'mexican': 2267, 'directli': 2268, 'denni': 2269, 'attach': 2270, 'goal': 2271, 'medic': 2272, 'sullivan': 2273, 'duke': 2274, 'terrorist': 2275, 'sarah': 2276, 'prior': 2277, 'legendari': 2278, 'sentenc': 2279, 'truck': 2280, 'bourn': 2281, 'breast': 2282, 'dean': 2283, 'courag': 2284, 'vietnam': 2285, 'donald': 2286, 'entri': 2287, 'un': 2288, 'split': 2289, 'hong': 2290, 'nose': 2291, 'behav': 2292, 'yell': 2293, 'proceed': 2294, 'concentr': 2295, 'unconvinc': 2296, 'gather': 2297, 'crush': 2298, 'confess': 2299, 'borrow': 2300, 'swim': 2301, 'stolen': 2302, 'everywher': 2303, 'buri': 2304, 'forth': 2305, 'lifetim': 2306, 'jerk': 2307, 'spite': 2308, 'deliveri': 2309, 'julia': 2310, 'turkey': 2311, 'pan': 2312, 'lip': 2313, 'california': 2314, 'reward': 2315, 'offici': 2316, 'flight': 2317, 'quest': 2318, 'downright': 2319, 'proud': 2320, 'china': 2321, 'freeman': 2322, 'hoffman': 2323, 'worthwhil': 2324, 'encourag': 2325, 'notori': 2326, 'lazi': 2327, 'jail': 2328, 'fabul': 2329, 'sir': 2330, 'sink': 2331, 'jon': 2332, 'fade': 2333, 'inept': 2334, 'betray': 2335, 'survivor': 2336, 'lisa': 2337, 'teeth': 2338, 'branagh': 2339, 'cousin': 2340, 'shower': 2341, 'imageri': 2342, 'retard': 2343, 'relev': 2344, 'storm': 2345, 'susan': 2346, 'bag': 2347, 'bell': 2348, 'toler': 2349, 'trade': 2350, 'quirki': 2351, 'alright': 2352, 'tremend': 2353, 'facial': 2354, 'bride': 2355, 'summari': 2356, 'stab': 2357, 'shark': 2358, 'hugh': 2359, 'finger': 2360, 'mexico': 2361, 'hyster': 2362, 'von': 2363, 'bitter': 2364, 'pose': 2365, 'ha': 2366, 'blown': 2367, 'bone': 2368, 'afterward': 2369, 'scheme': 2370, 'cruel': 2371, 'larri': 2372, 'address': 2373, 'christ': 2374, 'ned': 2375, 'ron': 2376, 'snake': 2377, 'screw': 2378, 'tour': 2379, 'feed': 2380, 'thumb': 2381, 'beg': 2382, 'pursu': 2383, 'swear': 2384, 'distinct': 2385, 'traci': 2386, 'raw': 2387, 'obscur': 2388, 'chair': 2389, 'mechan': 2390, 'stomach': 2391, 'occas': 2392, 'photo': 2393, 'holiday': 2394, 'resist': 2395, 'chain': 2396, 'southern': 2397, 'heavili': 2398, 'cabin': 2399, 'gruesom': 2400, 'render': 2401, 'sidney': 2402, 'necessarili': 2403, 'hardi': 2404, 'argument': 2405, 'understood': 2406, 'satan': 2407, 'indulg': 2408, 'racist': 2409, 'india': 2410, 'philip': 2411, 'midnight': 2412, 'pregnant': 2413, 'tongu': 2414, 'fourth': 2415, 'integr': 2416, 'forgot': 2417, 'belov': 2418, 'stalk': 2419, 'outfit': 2420, 'lay': 2421, 'obnoxi': 2422, 'deeper': 2423, 'garden': 2424, '17': 2425, 'magazin': 2426, 'restor': 2427, 'carol': 2428, 'slapstick': 2429, 'inhabit': 2430, 'ticket': 2431, 'incid': 2432, 'shoe': 2433, 'brad': 2434, 'devot': 2435, 'lincoln': 2436, 'disbelief': 2437, 'benefit': 2438, 'lili': 2439, 'anticip': 2440, 'guarante': 2441, 'sandler': 2442, 'divorc': 2443, 'maria': 2444, 'underground': 2445, 'elizabeth': 2446, 'slave': 2447, 'amazingli': 2448, 'greater': 2449, 'cring': 2450, 'creation': 2451, 'explod': 2452, 'mildli': 2453, 'bbc': 2454, 'capit': 2455, 'princip': 2456, 'halfway': 2457, 'introduct': 2458, 'funnier': 2459, 'lesli': 2460, 'extraordinari': 2461, 'punish': 2462, 'wreck': 2463, 'text': 2464, 'tap': 2465, 'enhanc': 2466, 'transfer': 2467, 'extent': 2468, 'advantag': 2469, 'overwhelm': 2470, 'dynam': 2471, 'lo': 2472, 'preview': 2473, 'jessica': 2474, 'error': 2475, 'lane': 2476, 'east': 2477, 'plant': 2478, 'horrif': 2479, 'deliber': 2480, 'appli': 2481, 'vincent': 2482, 'miscast': 2483, 'vacat': 2484, 'ensu': 2485, 'miller': 2486, 'basi': 2487, 'homosexu': 2488, 'sophist': 2489, '2000': 2490, 'measur': 2491, 'sleazi': 2492, 'via': 2493, 'reed': 2494, 'bollywood': 2495, 'elev': 2496, 'spoken': 2497, 'uncomfort': 2498, 'extend': 2499, 'mansion': 2500, 'steel': 2501, 'conceiv': 2502, 'alter': 2503, 'dentist': 2504, 'fix': 2505, 'mous': 2506, 'cathol': 2507, 'hippi': 2508, 'breathtak': 2509, 'blair': 2510, 'stanley': 2511, 'savag': 2512, 'overact': 2513, 'goofi': 2514, 'assign': 2515, 'daili': 2516, 'melt': 2517, 'beer': 2518, 'subsequ': 2519, 'carpent': 2520, 'succe': 2521, 'nowaday': 2522, 'oppos': 2523, 'burt': 2524, 'properli': 2525, 'inspector': 2526, 'sacrific': 2527, 'everyday': 2528, 'massacr': 2529, 'circl': 2530, 'neck': 2531, 'laura': 2532, 'block': 2533, 'portrait': 2534, 'christi': 2535, 'access': 2536, 'pool': 2537, 'lesser': 2538, 'mob': 2539, 'concert': 2540, 'grey': 2541, 'seagal': 2542, 'fallen': 2543, 'fay': 2544, 'relax': 2545, 'usa': 2546, 'jake': 2547, 'sinist': 2548, 'jewish': 2549, 'competit': 2550, 'react': 2551, 'chees': 2552, 'isol': 2553, 'immens': 2554, '2006': 2555, 'suitabl': 2556, 'nonetheless': 2557, 'lyric': 2558, 'ironi': 2559, 'appal': 2560, 'chop': 2561, 'stink': 2562, 'spiritu': 2563, 'nine': 2564, 'creep': 2565, 'user': 2566, 'luci': 2567, 'adopt': 2568, 'needless': 2569, 'retir': 2570, 'spring': 2571, 'sold': 2572, 'reduc': 2573, 'franchis': 2574, 'showcas': 2575, 'shirt': 2576, 'rage': 2577, 'nut': 2578, 'navi': 2579, 'zone': 2580, 'per': 2581, 'nurs': 2582, 'bulli': 2583, 'uninspir': 2584, 'stanwyck': 2585, 'bath': 2586, 'asham': 2587, 'jay': 2588, 'digit': 2589, 'oddli': 2590, '2001': 2591, 'broadcast': 2592, 'amongst': 2593, 'illustr': 2594, 'upper': 2595, '1940': 2596, 'laid': 2597, 'sutherland': 2598, 'brando': 2599, 'fulfil': 2600, 'throat': 2601, 'aspir': 2602, 'disguis': 2603, 'baker': 2604, 'stylish': 2605, 'wanna': 2606, 'nobl': 2607, 'neighborhood': 2608, 'impli': 2609, 'pride': 2610, 'endear': 2611, 'wwii': 2612, 'pound': 2613, '18': 2614, 'thief': 2615, 'em': 2616, 'shoulder': 2617, 'distribut': 2618, 'rochest': 2619, 'cinematograph': 2620, 'albeit': 2621, 'shift': 2622, 'bo': 2623, 'dawn': 2624, 'prop': 2625, 'coher': 2626, 'diseas': 2627, 'tens': 2628, '16': 2629, 'bett': 2630, 'dinner': 2631, 'wash': 2632, 'function': 2633, 'surf': 2634, 'shout': 2635, 'knife': 2636, 'poignant': 2637, 'forti': 2638, 'matthau': 2639, 'rebel': 2640, 'contract': 2641, 'snow': 2642, 'silenc': 2643, 'eeri': 2644, 'internet': 2645, 'silver': 2646, 'henc': 2647, 'cancel': 2648, 'widmark': 2649, 'derek': 2650, 'chuck': 2651, 'reunion': 2652, 'duti': 2653, 'heat': 2654, 'horrend': 2655, 'elvira': 2656, 'proof': 2657, 'cannib': 2658, 'mindless': 2659, 'instinct': 2660, 'height': 2661, 'etern': 2662, 'incoher': 2663, 'alik': 2664, 'greatli': 2665, 'pie': 2666, 'glori': 2667, 'repetit': 2668, 'spielberg': 2669, 'musician': 2670, 'neat': 2671, 'absorb': 2672, 'mill': 2673, 'torn': 2674, 'innov': 2675, 'premier': 2676, 'elvi': 2677, 'bang': 2678, 'precis': 2679, 'crisi': 2680, 'infam': 2681, 'homag': 2682, 'itali': 2683, 'redempt': 2684, 'burton': 2685, 'diamond': 2686, 'trite': 2687, 'lovabl': 2688, 'racism': 2689, 'nelson': 2690, 'announc': 2691, 'blank': 2692, 'horrifi': 2693, 'britain': 2694, 'wealthi': 2695, 'fbi': 2696, 'resolut': 2697, 'flop': 2698, 'dedic': 2699, 'hammer': 2700, 'parallel': 2701, 'ensembl': 2702, 'happili': 2703, 'pat': 2704, 'chaplin': 2705, 'streisand': 2706, 'helen': 2707, 'wilder': 2708, 'oil': 2709, 'factori': 2710, 'st': 2711, 'disagre': 2712, 'broke': 2713, 'mar': 2714, 'carter': 2715, 'cube': 2716, 'conclud': 2717, 'plastic': 2718, 'triumph': 2719, 'fighter': 2720, 'rocket': 2721, 'row': 2722, 'march': 2723, 'climb': 2724, 'weight': 2725, 'bush': 2726, 'chuckl': 2727, 'own': 2728, 'vega': 2729, 'lust': 2730, 'dump': 2731, 'enorm': 2732, 'spare': 2733, 'boot': 2734, 'sensibl': 2735, 'kurt': 2736, 'meaning': 2737, 'wherea': 2738, 'mst3k': 2739, 'thug': 2740, 'dane': 2741, 'luca': 2742, 'unforgett': 2743, 'arnold': 2744, 'threat': 2745, 'caricatur': 2746, 'fifti': 2747, 'brand': 2748, 'stress': 2749, 'engin': 2750, 'dear': 2751, 'bobbi': 2752, 'butt': 2753, 'difficulti': 2754, 'adequ': 2755, 'rap': 2756, 'karloff': 2757, 'elabor': 2758, 'polish': 2759, 'hamlet': 2760, 'homeless': 2761, 'flynn': 2762, 'ralph': 2763, 'arrog': 2764, 'journalist': 2765, 'barri': 2766, 'secretari': 2767, 'swing': 2768, 'ego': 2769, 'fest': 2770, 'float': 2771, 'spike': 2772, 'puppet': 2773, 'arrang': 2774, 'fanci': 2775, 'simpson': 2776, 'unbear': 2777, 'resort': 2778, 'grate': 2779, 'tool': 2780, 'conspiraci': 2781, 'induc': 2782, 'cruis': 2783, 'pig': 2784, 'exercis': 2785, 'tribut': 2786, 'basement': 2787, 'choreograph': 2788, 'muppet': 2789, 'boll': 2790, 'phillip': 2791, 'guilt': 2792, 'fianc': 2793, 'toilet': 2794, 'scarecrow': 2795, 'medium': 2796, 'file': 2797, 'ham': 2798, 'ward': 2799, 'item': 2800, 'layer': 2801, 'tower': 2802, 'slip': 2803, 'editor': 2804, 'korean': 2805, '24': 2806, 'document': 2807, 'babe': 2808, 'stan': 2809, 'puzzl': 2810, 'catherin': 2811, 'minim': 2812, 'assur': 2813, 'superfici': 2814, 'inexplic': 2815, 'transit': 2816, 'denzel': 2817, 'persona': 2818, 'philosoph': 2819, 'spark': 2820, 'slaughter': 2821, 'territori': 2822, 'portion': 2823, 'glover': 2824, 'doc': 2825, 'librari': 2826, 'larger': 2827, 'orient': 2828, 'curti': 2829, 'wolf': 2830, 'financi': 2831, 'dorothi': 2832, 'sneak': 2833, 'jeremi': 2834, 'owe': 2835, 'boredom': 2836, 'walken': 2837, 'shi': 2838, 'jet': 2839, 'ban': 2840, 'pg': 2841, 'backdrop': 2842, 'hudson': 2843, 'eleph': 2844, 'metaphor': 2845, 'cusack': 2846, 'multi': 2847, 'ambigu': 2848, 'profound': 2849, 'whale': 2850, 'ultra': 2851, 'implaus': 2852, 'hack': 2853, 'viru': 2854, '2005': 2855, 'notion': 2856, 'union': 2857, 'stiff': 2858, 'birthday': 2859, 'gadget': 2860, 'elsewher': 2861, 'rave': 2862, 'slight': 2863, 'eastwood': 2864, 'afford': 2865, 'urg': 2866, '1st': 2867, 'reader': 2868, 'pad': 2869, 'poison': 2870, 'lloyd': 2871, 'disc': 2872, 'superhero': 2873, 'bibl': 2874, 'distanc': 2875, 'canada': 2876, 'newspap': 2877, 'squar': 2878, 'deriv': 2879, 'hawk': 2880, 'eva': 2881, 'huh': 2882, 'cure': 2883, 'heston': 2884, 'montag': 2885, 'sadist': 2886, 'drown': 2887, 'skit': 2888, 'health': 2889, 'restaur': 2890, 'charisma': 2891, 'spread': 2892, 'essenc': 2893, 'button': 2894, 'peak': 2895, 'gradual': 2896, 'godfath': 2897, 'dealt': 2898, 'lab': 2899, 'fetch': 2900, 'maniac': 2901, 'estat': 2902, 'invest': 2903, 'muslim': 2904, 'companion': 2905, 'scoobi': 2906, 'gothic': 2907, 'tea': 2908, 'ritter': 2909, 'alli': 2910, 'kane': 2911, 'subtleti': 2912, 'servant': 2913, 'miik': 2914, 'countless': 2915, 'cup': 2916, 'electr': 2917, 'charismat': 2918, 'salli': 2919, 'iii': 2920, 'heroic': 2921, 'briefli': 2922, 'elect': 2923, 'tender': 2924, 'wannab': 2925, 'grandmoth': 2926, 'neil': 2927, 'reel': 2928, 'toss': 2929, 'cole': 2930, 'bud': 2931, 'resourc': 2932, 'ingredi': 2933, 'nuanc': 2934, 'admittedli': 2935, 'stronger': 2936, 'reev': 2937, 'shall': 2938, 'label': 2939, 'gate': 2940, 'stood': 2941, 'kubrick': 2942, 'mild': 2943, 'poverti': 2944, 'pit': 2945, 'mafia': 2946, 'punk': 2947, 'dawson': 2948, 'pauli': 2949, 'carrey': 2950, 'ian': 2951, 'smash': 2952, 'cardboard': 2953, 'updat': 2954, 'burst': 2955, 'fond': 2956, 'outcom': 2957, 'smooth': 2958, 'easier': 2959, 'tag': 2960, 'useless': 2961, 'terri': 2962, 'bakshi': 2963, 'assault': 2964, 'cox': 2965, 'astair': 2966, 'melodramat': 2967, 'rex': 2968, '2002': 2969, 'vari': 2970, 'resolv': 2971, 'increasingli': 2972, 'divers': 2973, 'sketch': 2974, 'coincid': 2975, 'vulner': 2976, 'fist': 2977, 'exchang': 2978, 'samurai': 2979, 'qualifi': 2980, 'suspend': 2981, 'scratch': 2982, 'blast': 2983, 'be': 2984, 'brillianc': 2985, 'insert': 2986, 'tame': 2987, 'luckili': 2988, 'templ': 2989, 'conveni': 2990, 'reynold': 2991, 'jami': 2992, 'gotta': 2993, 'ambiti': 2994, 'matthew': 2995, 'meat': 2996, 'seventi': 2997, 'strictli': 2998, 'soprano': 2999, 'walker': 3000, 'hamilton': 3001, 'coach': 3002, 'nuclear': 3003, 'pin': 3004, 'farm': 3005, 'fisher': 3006, 'monk': 3007, 'empir': 3008, 'struck': 3009, 'recreat': 3010, 'closet': 3011, 'timeless': 3012, 'cave': 3013, 'grasp': 3014, 'convolut': 3015, 'clock': 3016, 'revers': 3017, 'eccentr': 3018, 'worthless': 3019, 'brosnan': 3020, 'instantli': 3021, 'discoveri': 3022, 'joey': 3023, 'butcher': 3024, 'spooki': 3025, 'kudo': 3026, 'ninja': 3027, 'mitchel': 3028, 'importantli': 3029, 'miracl': 3030, 'clown': 3031, 'eighti': 3032, 'pal': 3033, 'evok': 3034, 'inconsist': 3035, 'partli': 3036, 'sloppi': 3037, 'sidekick': 3038, 'wipe': 3039, 'fifteen': 3040, 'seller': 3041, 'communist': 3042, 'norman': 3043, 'declar': 3044, 'bleak': 3045, 'gray': 3046, 'selfish': 3047, 'cliff': 3048, 'cheek': 3049, 'enthusiast': 3050, 'chew': 3051, 'ho': 3052, 'debat': 3053, 'lifestyl': 3054, 'destin': 3055, 'australia': 3056, 'farc': 3057, '45': 3058, 'superbl': 3059, 'aforement': 3060, 'psychiatrist': 3061, 'piano': 3062, 'seed': 3063, 'flawless': 3064, 'websit': 3065, 'stoog': 3066, 'emili': 3067, 'splatter': 3068, 'wick': 3069, 'pressur': 3070, 'dash': 3071, 'drivel': 3072, 'dire': 3073, 'akshay': 3074, 'incompet': 3075, 'wrestl': 3076, 'regardless': 3077, 'directori': 3078, 'anni': 3079, 'abc': 3080, 'slice': 3081, 'soviet': 3082, 'bash': 3083, 'kitchen': 3084, 'suppli': 3085, 'increas': 3086, 'cameron': 3087, 'chapter': 3088, 'duo': 3089, 'cia': 3090, 'pleasantli': 3091, 'boil': 3092, 'curios': 3093, 'ken': 3094, 'glow': 3095, 'jar': 3096, 'distant': 3097, 'dave': 3098, 'helicopt': 3099, 'beaten': 3100, 'artifici': 3101, 'recov': 3102, 'cagney': 3103, 'prize': 3104, 'judi': 3105, 'seduc': 3106, 'blob': 3107, 'flower': 3108, 'lou': 3109, 'mann': 3110, 'doo': 3111, 'psychot': 3112, 'panic': 3113, 'laurel': 3114, 'francisco': 3115, 'hop': 3116, 'splendid': 3117, 'web': 3118, 'favour': 3119, 'glenn': 3120, 'ellen': 3121, 'perri': 3122, 'eleg': 3123, 'craven': 3124, 'goldberg': 3125, 'turner': 3126, 'ranger': 3127, 'craig': 3128, 'combat': 3129, 'drunken': 3130, 'alexand': 3131, 'ruth': 3132, 'plausibl': 3133, 'slightest': 3134, 'fx': 3135, 'rid': 3136, 'greek': 3137, 'gentl': 3138, '20th': 3139, 'falk': 3140, 'min': 3141, 'shortli': 3142, 'philosophi': 3143, 'graduat': 3144, 'wizard': 3145, 'gandhi': 3146, 'modesti': 3147, 'hatr': 3148, 'flip': 3149, 'holi': 3150, 'fund': 3151, 'tall': 3152, 'jealou': 3153, 'unpleas': 3154, 'preciou': 3155, 'legal': 3156, 'knight': 3157, 'ocean': 3158, 'futurist': 3159, 'felix': 3160, 'lend': 3161, 'harm': 3162, 'manhattan': 3163, 'we': 3164, 'dracula': 3165, 'overdon': 3166, 'childish': 3167, 'reviv': 3168, 'forbidden': 3169, 'ami': 3170, 'nod': 3171, 'digniti': 3172, 'mock': 3173, 'thread': 3174, 'explicit': 3175, 'bless': 3176, 'tank': 3177, 'giallo': 3178, 'scientif': 3179, 'awe': 3180, '2004': 3181, 'eve': 3182, 'elderli': 3183, 'torment': 3184, 'fever': 3185, 'verhoeven': 3186, 'thick': 3187, 'broad': 3188, 'mel': 3189, 'awaken': 3190, '99': 3191, 'repeatedli': 3192, 'pirat': 3193, 'unwatch': 3194, 'margaret': 3195, 'nerv': 3196, 'yesterday': 3197, 'kay': 3198, 'ambit': 3199, 'timothi': 3200, 'launch': 3201, 'royal': 3202, 'ah': 3203, 'lean': 3204, 'romero': 3205, 'politician': 3206, 'eas': 3207, 'acclaim': 3208, 'rivet': 3209, 'stiller': 3210, 'automat': 3211, 'custom': 3212, 'bin': 3213, 'absenc': 3214, 'publish': 3215, 'uniform': 3216, 'griffith': 3217, 'roman': 3218, 'foul': 3219, 'stinker': 3220, 'darker': 3221, 'sunshin': 3222, 'antic': 3223, 'bathroom': 3224, 'tomato': 3225, 'termin': 3226, 'wallac': 3227, 'crook': 3228, 'pierc': 3229, 'transport': 3230, 'purpl': 3231, 'homicid': 3232, 'warren': 3233, 'pulp': 3234, 'phrase': 3235, 'gabriel': 3236, 'pray': 3237, 'donna': 3238, 'evolv': 3239, 'eyr': 3240, 'revolutionari': 3241, 'saint': 3242, 'kenneth': 3243, 'packag': 3244, 'viciou': 3245, 'sixti': 3246, 'awak': 3247, 'coloni': 3248, 'brazil': 3249, 'horrid': 3250, '2003': 3251, 'marin': 3252, 'juvenil': 3253, 'li': 3254, 'album': 3255, 'contrari': 3256, 'ought': 3257, 'hollow': 3258, 'choreographi': 3259, 'karen': 3260, 'rambo': 3261, 'prom': 3262, 'q': 3263, 'overr': 3264, 'dose': 3265, 'defi': 3266, 'boast': 3267, 'twelv': 3268, 'blade': 3269, 'nerd': 3270, 'ireland': 3271, 'kapoor': 3272, 'mummi': 3273, 'candid': 3274, 'stole': 3275, 'option': 3276, 'conserv': 3277, 'beatti': 3278, 'ramon': 3279, 'mildr': 3280, 'funer': 3281, 'confirm': 3282, 'flame': 3283, 'kirk': 3284, 'fulci': 3285, 'protest': 3286, 'detract': 3287, 'trio': 3288, 'collabor': 3289, 'global': 3290, 'natali': 3291, 'astonish': 3292, 'jazz': 3293, 'altman': 3294, 'spit': 3295, 'bull': 3296, 'mystic': 3297, 'shade': 3298, 'destini': 3299, 'enterpris': 3300, 'nicholson': 3301, 'racial': 3302, 'whip': 3303, 'audio': 3304, 'delici': 3305, 'blake': 3306, 'yellow': 3307, 'leap': 3308, 'bottl': 3309, 'tommi': 3310, 'harder': 3311, 'pseudo': 3312, 'bedroom': 3313, 'todd': 3314, 'merci': 3315, 'adolesc': 3316, 'fonda': 3317, 'reunit': 3318, 'swedish': 3319, 'threw': 3320, 'inherit': 3321, 'visibl': 3322, 'enchant': 3323, 'neo': 3324, 'staff': 3325, 'meaningless': 3326, 'popcorn': 3327, 'vivid': 3328, 'altogeth': 3329, 'fanat': 3330, 'madonna': 3331, 'lemmon': 3332, 'tip': 3333, 'leonard': 3334, 'bust': 3335, 'reserv': 3336, 'suspici': 3337, 'befriend': 3338, 'exhibit': 3339, 'wire': 3340, 'roommat': 3341, 'moodi': 3342, 'decor': 3343, 'voight': 3344, 'respond': 3345, 'crocodil': 3346, 'uneven': 3347, 'kennedi': 3348, 'jew': 3349, 'synopsi': 3350, 'ruthless': 3351, 'await': 3352, 'lawrenc': 3353, 'edi': 3354, 'atlanti': 3355, 'clint': 3356, 'clumsi': 3357, '2007': 3358, 'dimens': 3359, 'bold': 3360, 'ventur': 3361, 'holli': 3362, 'rural': 3363, 'garner': 3364, 'bargain': 3365, 'incident': 3366, 'abysm': 3367, 'unsettl': 3368, 'voyag': 3369, 'palma': 3370, 'chao': 3371, 'bradi': 3372, 'carl': 3373, 'centr': 3374, 'audit': 3375, 'troop': 3376, 'wealth': 3377, 'lit': 3378, 'neglect': 3379, 'nearbi': 3380, 'cari': 3381, 'tiger': 3382, 'daddi': 3383, 'imperson': 3384, 'acknowledg': 3385, 'echo': 3386, 'trail': 3387, '2nd': 3388, 'mall': 3389, 'cd': 3390, 'ant': 3391, 'characterist': 3392, 'hart': 3393, 'elimin': 3394, 'poetic': 3395, 'immigr': 3396, 'timon': 3397, 'cuba': 3398, 'humili': 3399, 'versu': 3400, 'saga': 3401, 'solo': 3402, 'repuls': 3403, 'marshal': 3404, 'domest': 3405, 'pun': 3406, 'homer': 3407, 'mistaken': 3408, 'jeffrey': 3409, 'celluloid': 3410, 'prejudic': 3411, 'paus': 3412, 'collaps': 3413, 'mickey': 3414, 'infect': 3415, 'cake': 3416, '1996': 3417, 'equip': 3418, 'pant': 3419, 'harvey': 3420, 'undoubtedli': 3421, 'inan': 3422, 'apolog': 3423, 'olivi': 3424, 'promin': 3425, 'tribe': 3426, 'inappropri': 3427, 'chest': 3428, 'milk': 3429, 'leon': 3430, 'ginger': 3431, 'gear': 3432, 'interrupt': 3433, 'sore': 3434, 'coat': 3435, 'hbo': 3436, 'coffe': 3437, 'assembl': 3438, 'airplan': 3439, 'institut': 3440, 'humbl': 3441, 'colonel': 3442, 'vulgar': 3443, 'maggi': 3444, 'furthermor': 3445, 'pot': 3446, 'exot': 3447, 'colleagu': 3448, 'jenni': 3449, 'devast': 3450, 'brooklyn': 3451, 'instant': 3452, 'aveng': 3453, 'pen': 3454, 'trace': 3455, 'retain': 3456, 'primari': 3457, 'embrac': 3458, 'florida': 3459, 'solut': 3460, 'polanski': 3461, 'consum': 3462, 'highest': 3463, 'strain': 3464, 'cope': 3465, 'principl': 3466, 'descend': 3467, 'poke': 3468, 'dian': 3469, '1999': 3470, 'smaller': 3471, 'bowl': 3472, 'dutch': 3473, '3rd': 3474, 'gender': 3475, 'ya': 3476, 'linda': 3477, 'wive': 3478, 'sale': 3479, 'rick': 3480, 'disabl': 3481, 'seduct': 3482, 'godzilla': 3483, 'outer': 3484, 'illog': 3485, 'glamor': 3486, 'bubbl': 3487, 'gloriou': 3488, 'dive': 3489, 'cue': 3490, 'blatant': 3491, 'beneath': 3492, 'scope': 3493, 'secondli': 3494, 'yard': 3495, 'predecessor': 3496, 'primarili': 3497, 'vast': 3498, 'mixtur': 3499, 'dud': 3500, 'rabbit': 3501, 'inferior': 3502, 'devoid': 3503, 'hal': 3504, 'lol': 3505, 'gundam': 3506, 'disjoint': 3507, 'hideou': 3508, 'et': 3509, 'trademark': 3510, 'countrysid': 3511, 'talki': 3512, 'myer': 3513, 'invas': 3514, 'breed': 3515, 'pearl': 3516, 'aggress': 3517, 'alfr': 3518, 'senseless': 3519, 'z': 3520, 'alert': 3521, 'simplist': 3522, 'casual': 3523, 'shirley': 3524, 'shelf': 3525, 'museum': 3526, 'arab': 3527, 'grinch': 3528, 'streep': 3529, 'april': 3530, 'garbo': 3531, 'domino': 3532, 'maci': 3533, 'stack': 3534, 'vanish': 3535, 'unhappi': 3536, 'sh': 3537, 'khan': 3538, 'loyal': 3539, 'robberi': 3540, 'boom': 3541, 'slide': 3542, 'illeg': 3543, 'disgrac': 3544, 'acid': 3545, 'obtain': 3546, 'stellar': 3547, 'hopeless': 3548, 'applaud': 3549, 'robinson': 3550, 'stir': 3551, 'rendit': 3552, 'experiment': 3553, 'oz': 3554, 'hardcor': 3555, 'mail': 3556, 'defens': 3557, 'mayor': 3558, 'uwe': 3559, 'amanda': 3560, 'grandfath': 3561, 'emphasi': 3562, 'wont': 3563, 'dismiss': 3564, 'span': 3565, 'topless': 3566, 'spider': 3567, 'craze': 3568, 'counter': 3569, 'declin': 3570, 'blew': 3571, 'tenant': 3572, 'tempt': 3573, 'incomprehens': 3574, 'hartley': 3575, 'fri': 3576, 'rifl': 3577, 'diana': 3578, 'soccer': 3579, 'psychic': 3580, 'scroog': 3581, 'berlin': 3582, 'recruit': 3583, 'dicken': 3584, 'bitch': 3585, 'shaw': 3586, 'ration': 3587, 'resurrect': 3588, 'trashi': 3589, 'sibl': 3590, 'wet': 3591, 'goer': 3592, 'shed': 3593, 'woo': 3594, 'parad': 3595, 'riot': 3596, 'intim': 3597, 'faster': 3598, 'revolt': 3599, 'ethnic': 3600, 'niro': 3601, 'justin': 3602, 'sympath': 3603, 'porno': 3604, 'lumet': 3605, 'feminist': 3606, 'ensur': 3607, 'unreal': 3608, 'slick': 3609, 'dealer': 3610, 'region': 3611, 'eager': 3612, 'commend': 3613, 'biographi': 3614, 'wheel': 3615, 'partial': 3616, 'rider': 3617, 'hopper': 3618, 'enlighten': 3619, 'honesti': 3620, 'jonathan': 3621, 'nephew': 3622, 'gap': 3623, 'mario': 3624, '00': 3625, 'weakest': 3626, 'farmer': 3627, 'ballet': 3628, 'hesit': 3629, 'choru': 3630, 'immort': 3631, 'steam': 3632, 'worm': 3633, 'andr': 3634, 'wendi': 3635, 'patriot': 3636, 'lena': 3637, 'repress': 3638, 'psychopath': 3639, 'sappi': 3640, 'blunt': 3641, 'charlott': 3642, 'composit': 3643, 'safeti': 3644, 'similarli': 3645, 'hung': 3646, 'franco': 3647, 'morri': 3648, 'skull': 3649, 'wore': 3650, 'snap': 3651, 'nostalg': 3652, 'kingdom': 3653, 'leo': 3654, 'mutant': 3655, 'prequel': 3656, 'vice': 3657, 'victori': 3658, 'owen': 3659, 'util': 3660, 'confin': 3661, 'sandra': 3662, 'properti': 3663, 'macarthur': 3664, 'dust': 3665, 'cg': 3666, 'emperor': 3667, 'hyde': 3668, 'kyle': 3669, 'del': 3670, 'dalton': 3671, 'whoopi': 3672, 'bumbl': 3673, 'tail': 3674, 'pattern': 3675, 'deed': 3676, 'thru': 3677, 'exit': 3678, 'bergman': 3679, 'miseri': 3680, 'compass': 3681, 'tad': 3682, 'speci': 3683, 'repli': 3684, 'rambl': 3685, '1972': 3686, 'rope': 3687, 'farrel': 3688, 'heartbreak': 3689, 'despair': 3690, 'drain': 3691, 'compens': 3692, 'drum': 3693, 'montana': 3694, 'acquir': 3695, 'bonu': 3696, 'campbel': 3697, 'strand': 3698, 'bow': 3699, 'snl': 3700, 'nervou': 3701, 'rocki': 3702, 'valuabl': 3703, 'recycl': 3704, 'latin': 3705, 'chess': 3706, 'rapist': 3707, 'roth': 3708, 'oppress': 3709, 'pour': 3710, 'mistress': 3711, '35': 3712, 'radic': 3713, 'rotten': 3714, 'slug': 3715, 'gimmick': 3716, 'martian': 3717, 'da': 3718, 'downhil': 3719, 'orson': 3720, 'carradin': 3721, 'romp': 3722, 'percept': 3723, 'gal': 3724, 'contempl': 3725, 'tonight': 3726, 'wacki': 3727, 'bleed': 3728, 'olli': 3729, 'airport': 3730, 'pervert': 3731, 'arc': 3732, 'arguabl': 3733, 'stilt': 3734, '1983': 3735, 'paltrow': 3736, 'unpredict': 3737, 'shelley': 3738, 'pursuit': 3739, 'mislead': 3740, 'slash': 3741, 'banal': 3742, 'edgar': 3743, 'melodi': 3744, 'dazzl': 3745, 'pervers': 3746, 'tackl': 3747, 'taught': 3748, 'belt': 3749, 'preach': 3750, 'heal': 3751, 'programm': 3752, 'attorney': 3753, 'champion': 3754, 'tooth': 3755, 'cleverli': 3756, 'maid': 3757, 'employe': 3758, 'graham': 3759, 'duval': 3760, 'gambl': 3761, 'closest': 3762, 'conneri': 3763, 'passeng': 3764, 'dixon': 3765, 'marti': 3766, 'plight': 3767, 'chicken': 3768, 'raymond': 3769, 'uplift': 3770, 'poem': 3771, 'rubi': 3772, 'mesmer': 3773, 'sensat': 3774, 'franki': 3775, 'orang': 3776, 'vengeanc': 3777, 'tiresom': 3778, 'virginia': 3779, 'vocal': 3780, 'bela': 3781, 'convincingli': 3782, 'quarter': 3783, 'sirk': 3784, 'engross': 3785, 'secretli': 3786, 'climact': 3787, '1968': 3788, 'mute': 3789, 'volum': 3790, 'clone': 3791, 'habit': 3792, 'abraham': 3793, 'bay': 3794, 'outing': 3795, 'inject': 3796, 'suffic': 3797, 'monologu': 3798, 'amitabh': 3799, 'yawn': 3800, 'crystal': 3801, 'numb': 3802, 'tube': 3803, 'whine': 3804, 'profan': 3805, 'calm': 3806, 'scottish': 3807, 'lundgren': 3808, 'swallow': 3809, 'giggl': 3810, 'gerard': 3811, 'paranoia': 3812, 'pokemon': 3813, 'extens': 3814, 'iran': 3815, 'underst': 3816, 'chicago': 3817, 'austen': 3818, 'earl': 3819, 'fed': 3820, 'poetri': 3821, 'frankenstein': 3822, 'nichola': 3823, 'linger': 3824, 'lowest': 3825, 'junior': 3826, 'plod': 3827, 'taxi': 3828, 'richardson': 3829, 'trend': 3830, 'abort': 3831, 'im': 3832, 'grotesqu': 3833, 'expand': 3834, 'profess': 3835, 'dispos': 3836, 'ethan': 3837, 'bend': 3838, 'meander': 3839, 'surpass': 3840, 'septemb': 3841, 'franci': 3842, 'backward': 3843, 'spock': 3844, 'tourist': 3845, 'household': 3846, 'simplic': 3847, 'literatur': 3848, 'hum': 3849, 'cannon': 3850, 'dysfunct': 3851, 'mundan': 3852, 'nostalgia': 3853, 'rubber': 3854, 'greedi': 3855, 'instrument': 3856, 'waitress': 3857, 'eugen': 3858, 'compliment': 3859, 'lure': 3860, 'sue': 3861, 'econom': 3862, 'spoke': 3863, 'muddl': 3864, 'der': 3865, 'rant': 3866, 'stallon': 3867, 'catchi': 3868, 'descent': 3869, 'myth': 3870, 'dement': 3871, 'bacal': 3872, 'dictat': 3873, 'omen': 3874, 'equival': 3875, 'firstli': 3876, 'cent': 3877, 'flee': 3878, 'furi': 3879, 'mankind': 3880, 'duck': 3881, 'louis': 3882, 'mortal': 3883, 'carel': 3884, 'alongsid': 3885, 'phantom': 3886, 'molli': 3887, 'recognit': 3888, 'recognis': 3889, 'eaten': 3890, 'coast': 3891, 'insur': 3892, 'occupi': 3893, 'map': 3894, 'stale': 3895, 'june': 3896, 'randi': 3897, 'irrelev': 3898, 'hello': 3899, 'crucial': 3900, 'sissi': 3901, 'lang': 3902, 'deaf': 3903, 'phoni': 3904, 'damon': 3905, 'loyalti': 3906, 'labor': 3907, 'cyborg': 3908, '1973': 3909, 'twilight': 3910, 'onlin': 3911, 'freez': 3912, 'rude': 3913, 'blackmail': 3914, 'bump': 3915, 'daisi': 3916, 'drake': 3917, 'dreari': 3918, 'likewis': 3919, 'newli': 3920, 'bike': 3921, 'ashley': 3922, 'wisdom': 3923, 'lengthi': 3924, 'heel': 3925, 'damm': 3926, 'reign': 3927, 'rooney': 3928, 'distinguish': 3929, 'biko': 3930, 'buffalo': 3931, 'grayson': 3932, 'antwon': 3933, 'boxer': 3934, 'proce': 3935, 'emphas': 3936, 'interior': 3937, 'ridden': 3938, 'exposur': 3939, 'incorpor': 3940, 'prey': 3941, 'barrymor': 3942, 'vein': 3943, 'baddi': 3944, 'inher': 3945, 'provoc': 3946, 'chronicl': 3947, 'sailor': 3948, 'worn': 3949, 'approv': 3950, 'nineti': 3951, 'analysi': 3952, 'basketbal': 3953, 'keith': 3954, 'butler': 3955, 'startl': 3956, 'unorigin': 3957, 'attribut': 3958, 'pink': 3959, 'tunnel': 3960, 'simmon': 3961, 'improvis': 3962, 'julian': 3963, 'othello': 3964, 'elm': 3965, 'condemn': 3966, 'millionair': 3967, 'mormon': 3968, 'hypnot': 3969, 'indiffer': 3970, 'unrel': 3971, 'nicol': 3972, 'undeni': 3973, 'bunni': 3974, 'drift': 3975, 'substitut': 3976, 'underli': 3977, 'fleet': 3978, 'predat': 3979, 'mighti': 3980, 'barrel': 3981, 'carla': 3982, 'er': 3983, 'stalker': 3984, 'degrad': 3985, 'meg': 3986, 'robbin': 3987, 'walsh': 3988, 'belushi': 3989, 'meyer': 3990, 'watson': 3991, 'unawar': 3992, 'palac': 3993, 'greed': 3994, 'edgi': 3995, 'alarm': 3996, 'roof': 3997, 'mtv': 3998, 'enthusiasm': 3999, 'novak': 4000, 'errol': 4001, '3d': 4002, 'agenda': 4003, 'disord': 4004, 'warmth': 4005, 'exquisit': 4006, 'hay': 4007, 'vital': 4008, 'alison': 4009, 'shove': 4010, 'nyc': 4011, 'lampoon': 4012, 'dolph': 4013, 'firm': 4014, 'priceless': 4015, 'marion': 4016, 'reid': 4017, 'rukh': 4018, 'testament': 4019, 'nun': 4020, 'distort': 4021, 'profit': 4022, 'glanc': 4023, 'campaign': 4024, 'gestur': 4025, 'angela': 4026, 'iraq': 4027, 'eastern': 4028, 'what': 4029, 'preserv': 4030, 'simultan': 4031, 'randomli': 4032, 'petti': 4033, 'valentin': 4034, 'ponder': 4035, 'peck': 4036, '1933': 4037, 'minimum': 4038, 'pamela': 4039, 'spain': 4040, 'showdown': 4041, 'session': 4042, 'unleash': 4043, 'sergeant': 4044, 'cassidi': 4045, 'championship': 4046, 'crown': 4047, '13th': 4048, 'orlean': 4049, 'israel': 4050, 'drip': 4051, 'beatl': 4052, 'coup': 4053, 'peril': 4054, 'thompson': 4055, 'zizek': 4056, 'restrain': 4057, 'stake': 4058, 'brenda': 4059, 'quinn': 4060, 'calib': 4061, 'sabrina': 4062, 'cooki': 4063, 'empathi': 4064, 'regist': 4065, 'shootout': 4066, 'rout': 4067, 'climat': 4068, 'represent': 4069, 'unimagin': 4070, 'perpetu': 4071, 'stroke': 4072, 'crawl': 4073, 'valley': 4074, 'kurosawa': 4075, 'han': 4076, 'bro': 4077, 'scotland': 4078, 'miyazaki': 4079, 'mon': 4080, 'reson': 4081, 'jan': 4082, 'crow': 4083, '1984': 4084, 'din': 4085, 'realm': 4086, 'contradict': 4087, 'wig': 4088, 'gentleman': 4089, 'fido': 4090, 'travesti': 4091, 'exposit': 4092, 'cream': 4093, 'buster': 4094, 'businessman': 4095, 'shoddi': 4096, 'demis': 4097, 'cloud': 4098, 'shaki': 4099, 'tacki': 4100, 'sucker': 4101, 'absent': 4102, 'passabl': 4103, 'traumat': 4104, 'pole': 4105, 'derang': 4106, 'stargat': 4107, '1997': 4108, 'perceiv': 4109, 'compromis': 4110, 'wax': 4111, 'dana': 4112, 'warrant': 4113, '1987': 4114, 'censor': 4115, 'unsatisfi': 4116, 'distress': 4117, 'delic': 4118, 'sammi': 4119, 'abomin': 4120, 'baldwin': 4121, 'unseen': 4122, 'geek': 4123, 'femm': 4124, 'monoton': 4125, 'mclaglen': 4126, 'pretens': 4127, 'greg': 4128, 'ross': 4129, 'meryl': 4130, 'painter': 4131, 'spacey': 4132, 'josh': 4133, 'fuller': 4134, 'ustinov': 4135, 'soderbergh': 4136, 'crawford': 4137, 'darren': 4138, 'accuraci': 4139, 'jewel': 4140, 'austin': 4141, 'tech': 4142, 'wholli': 4143, 'norm': 4144, 'exclus': 4145, 'sid': 4146, 'click': 4147, 'unravel': 4148, 'seal': 4149, 'primit': 4150, 'judgment': 4151, 'furiou': 4152, 'fog': 4153, 'kumar': 4154, 'reluct': 4155, 'deceas': 4156, 'clash': 4157, 'anchor': 4158, 'verbal': 4159, 'fenc': 4160, 'dee': 4161, 'valid': 4162, 'correctli': 4163, 'polici': 4164, '1993': 4165, 'tarantino': 4166, 'antonioni': 4167, 'uncov': 4168, 'expedit': 4169, 'nathan': 4170, 'deniro': 4171, 'sunni': 4172, 'malon': 4173, '1995': 4174, 'ritual': 4175, 'fought': 4176, '1971': 4177, 'nicola': 4178, 'conduct': 4179, 'mode': 4180, 'fart': 4181, '2008': 4182, 'roller': 4183, 'sustain': 4184, 'seldom': 4185, 'alec': 4186, 'hallucin': 4187, 'patienc': 4188, 'crippl': 4189, '3000': 4190, 'temper': 4191, 'enforc': 4192, 'trait': 4193, 'murray': 4194, 'dreck': 4195, 'logan': 4196, 'slam': 4197, 'tax': 4198, 'sand': 4199, 'bake': 4200, 'wretch': 4201, 'pocket': 4202, 'wang': 4203, 'shanghai': 4204, 'behold': 4205, 'sheet': 4206, 'debt': 4207, 'fabric': 4208, 'clerk': 4209, 'vanc': 4210, 'darn': 4211, 'unfair': 4212, 'joel': 4213, 'bias': 4214, 'outlin': 4215, 'tactic': 4216, 'clau': 4217, 'schedul': 4218, 'isabel': 4219, 'bridget': 4220, 'scriptwrit': 4221, 'sweep': 4222, 'stark': 4223, 'runner': 4224, 'guitar': 4225, 'exhaust': 4226, 'fundament': 4227, 'conscious': 4228, 'despis': 4229, 'helpless': 4230, 'penni': 4231, 'preston': 4232, 'rita': 4233, 'grief': 4234, 'shell': 4235, 'phil': 4236, 'robber': 4237, 'critiqu': 4238, 'legaci': 4239, 'stuart': 4240, 'pete': 4241, 'preposter': 4242, 'divid': 4243, 'technicolor': 4244, 'soup': 4245, 'canyon': 4246, 'squad': 4247, 'inabl': 4248, 'consciou': 4249, 'invad': 4250, 'unexpectedli': 4251, 'palanc': 4252, 'vomit': 4253, 'liberti': 4254, 'marc': 4255, 'delv': 4256, 'passag': 4257, 'agenc': 4258, 'flair': 4259, 'restrict': 4260, 'bloom': 4261, 'jacket': 4262, 'alley': 4263, 'lacklust': 4264, 'drove': 4265, 'implic': 4266, 'sentinel': 4267, 'gregori': 4268, 'downey': 4269, 'cigarett': 4270, 'kansa': 4271, 'newman': 4272, 'rear': 4273, 'jodi': 4274, 'rehash': 4275, 'sugar': 4276, 'sniper': 4277, 'boyl': 4278, 'russia': 4279, 'propos': 4280, 'culmin': 4281, 'connor': 4282, 'alicia': 4283, 'wrench': 4284, 'pale': 4285, 'asylum': 4286, 'bacon': 4287, 'cap': 4288, 'rehears': 4289, 'delet': 4290, 'karl': 4291, 'awhil': 4292, 'tendenc': 4293, 'vet': 4294, '1936': 4295, 'ladder': 4296, 'feat': 4297, 'chainsaw': 4298, 'foxx': 4299, 'horn': 4300, 'rampag': 4301, 'mccoy': 4302, 'sharon': 4303, 'kolchak': 4304, 'arrow': 4305, 'improb': 4306, 'aesthet': 4307, 'tripe': 4308, 'lush': 4309, 'rod': 4310, 'behaviour': 4311, '22': 4312, 'yeti': 4313, '1988': 4314, 'suspicion': 4315, 'el': 4316, 'aristocrat': 4317, 'paramount': 4318, 'elit': 4319, '1978': 4320, 'fright': 4321, 'wagner': 4322, 'tomorrow': 4323, 'hungri': 4324, 'coaster': 4325, 'shortcom': 4326, 'spice': 4327, 'tasteless': 4328, 'prank': 4329, 'minu': 4330, 'newcom': 4331, 'stream': 4332, 'conscienc': 4333, 'hulk': 4334, 'visitor': 4335, 'loneli': 4336, 'rhythm': 4337, 'paradis': 4338, 'basing': 4339, 'filler': 4340, 'lurk': 4341, 'rumor': 4342, 'sung': 4343, '19th': 4344, 'weav': 4345, 'amazon': 4346, 'globe': 4347, 'thunderbird': 4348, 'hackney': 4349, 'suffici': 4350, 'financ': 4351, 'underneath': 4352, 'wildli': 4353, '1920': 4354, 'scoop': 4355, 'leigh': 4356, 'dirt': 4357, 'recogniz': 4358, 'naughti': 4359, 'counterpart': 4360, 'straightforward': 4361, 'en': 4362, 'curli': 4363, 'chamberlain': 4364, 'springer': 4365, 'brit': 4366, 'couch': 4367, 'immers': 4368, 'tierney': 4369, 'entranc': 4370, 'literari': 4371, 'ram': 4372, 'atroc': 4373, 'secondari': 4374, '75': 4375, '1989': 4376, 'impos': 4377, 'minist': 4378, 'beverli': 4379, 'grudg': 4380, 'iv': 4381, 'inmat': 4382, 'smell': 4383, 'worship': 4384, 'penn': 4385, 'ingeni': 4386, 'lectur': 4387, 'posey': 4388, 'bread': 4389, 'quietli': 4390, 'standout': 4391, 'teas': 4392, '1939': 4393, 'abrupt': 4394, 'hopkin': 4395, 'wwe': 4396, 'rub': 4397, 'cancer': 4398, 'chavez': 4399, 'choppi': 4400, 'paxton': 4401, 'heist': 4402, 'nemesi': 4403, 'ace': 4404, 'policeman': 4405, 'missil': 4406, 'watcher': 4407, 'attenborough': 4408, 'lindsay': 4409, 'variat': 4410, 'yearn': 4411, 'laurenc': 4412, 'injuri': 4413, 'misguid': 4414, 'convert': 4415, 'heartfelt': 4416, 'sublim': 4417, 'morbid': 4418, 'sassi': 4419, 'clan': 4420, 'duel': 4421, 'net': 4422, 'bernard': 4423, 'esther': 4424, 'enthral': 4425, 'transcend': 4426, 'cattl': 4427, '1986': 4428, 'moreov': 4429, 'ratso': 4430, 'quaid': 4431, 'entitl': 4432, 'nolan': 4433, 'geni': 4434, 'skeptic': 4435, 'unexplain': 4436, 'vader': 4437, 'buzz': 4438, 'characteris': 4439, 'egg': 4440, 'spiral': 4441, 'graini': 4442, 'steadi': 4443, 'kidman': 4444, 'bean': 4445, 'hopelessli': 4446, 'facil': 4447, 'diari': 4448, 'out': 4449, 'youngest': 4450, 'kitti': 4451, 'rosemari': 4452, 'brood': 4453, 'puppi': 4454, 'grin': 4455, 'reliabl': 4456, 'moder': 4457, 'mytholog': 4458, 'setup': 4459, 'tyler': 4460, 'obstacl': 4461, 'carlito': 4462, 'hk': 4463, '1979': 4464, 'bye': 4465, 'enabl': 4466, 'dont': 4467, 'cruelti': 4468, 'artsi': 4469, 'uncut': 4470, 'poe': 4471, 'hammi': 4472, 'sweat': 4473, 'disastr': 4474, 'preming': 4475, 'acquaint': 4476, 'gina': 4477, 'despic': 4478, 'hain': 4479, 'weather': 4480, 'fuel': 4481, 'exterior': 4482, 'martha': 4483, 'underworld': 4484, 'bewar': 4485, 'bounc': 4486, 'decept': 4487, 'gillian': 4488, 'oblig': 4489, 'spontan': 4490, 'brendan': 4491, 'niec': 4492, 'christin': 4493, 'heap': 4494, 'effici': 4495, 'clueless': 4496, 'narrow': 4497, 'athlet': 4498, 'kline': 4499, '1969': 4500, 'baffl': 4501, 'bronson': 4502, 'patricia': 4503, 'uh': 4504, 'sooner': 4505, 'taboo': 4506, 'housewif': 4507, 'hepburn': 4508, 'insipid': 4509, 'goof': 4510, '19': 4511, 'outlaw': 4512, 'circu': 4513, 'rome': 4514, 'preachi': 4515, 'biker': 4516, 'dilemma': 4517, 'harmless': 4518, 'mermaid': 4519, 'loath': 4520, 'angst': 4521, 'analyz': 4522, 'suprem': 4523, '73': 4524, 'lester': 4525, 'injur': 4526, 'tick': 4527, 'viewpoint': 4528, 'virtu': 4529, 'trigger': 4530, 'dandi': 4531, 'renaiss': 4532, 'mayhem': 4533, 'candl': 4534, 'enlist': 4535, 'astound': 4536, 'fontain': 4537, 'shatter': 4538, 'sleepwalk': 4539, 'loi': 4540, 'headach': 4541, 'scar': 4542, 'dismal': 4543, 'redund': 4544, 'whore': 4545, 'overlong': 4546, 'foolish': 4547, 'immatur': 4548, 'macho': 4549, 'spade': 4550, 'tripl': 4551, 'fluff': 4552, 'boston': 4553, 'bent': 4554, 'zoom': 4555, 'guin': 4556, 'claustrophob': 4557, 'intric': 4558, 'hokey': 4559, 'dish': 4560, 'stair': 4561, 'stimul': 4562, 'surgeri': 4563, 'amor': 4564, 'ebert': 4565, 'hooker': 4566, 'steer': 4567, 'filth': 4568, 'gere': 4569, 'ariel': 4570, 'scorses': 4571, 'salt': 4572, 'idol': 4573, 'oldest': 4574, 'sox': 4575, 'camcord': 4576, 'corbett': 4577, 'glorifi': 4578, 'phenomenon': 4579, 'slimi': 4580, 'contempt': 4581, 'hostag': 4582, 'cassavet': 4583, 'antagonist': 4584, 'spree': 4585, 'beard': 4586, 'naschi': 4587, 'preced': 4588, 'flashi': 4589, 'faint': 4590, 'mount': 4591, 'schlock': 4592, 'rhyme': 4593, 'flirt': 4594, 'cow': 4595, 'shield': 4596, 'keen': 4597, 'cush': 4598, 'spinal': 4599, 'messi': 4600, 'mutual': 4601, 'proport': 4602, 'cohen': 4603, 'gasp': 4604, 'joker': 4605, '1976': 4606, 'shred': 4607, 'strongest': 4608, 'frantic': 4609, 'alvin': 4610, '1981': 4611, 'fascist': 4612, 'conquer': 4613, 'harold': 4614, 'muscl': 4615, 'remad': 4616, 'perman': 4617, 'obligatori': 4618, 'flag': 4619, 'down': 4620, 'trivia': 4621, 'zane': 4622, 'margin': 4623, 'widescreen': 4624, 'transplant': 4625, 'astronaut': 4626, 'radiat': 4627, 'dwarf': 4628, 'nolt': 4629, 'assert': 4630, 'gabl': 4631, 'corman': 4632, 'hara': 4633, 'off': 4634, 'mol': 4635, 'vaniti': 4636, 'instruct': 4637, 'flock': 4638, 'claud': 4639, '95': 4640, 'www': 4641, 'ritchi': 4642, '28': 4643, 'boob': 4644, 'brush': 4645, 'bitten': 4646, 'persuad': 4647, 'info': 4648, 'inflict': 4649, 'neurot': 4650, 'bachelor': 4651, 'repris': 4652, 'scandal': 4653, 'interestingli': 4654, 'barn': 4655, 'carey': 4656, 'divin': 4657, 'departur': 4658, 'sensual': 4659, '1945': 4660, 'wield': 4661, 'danish': 4662, 'strive': 4663, 'fishburn': 4664, 'deer': 4665, 'aborigin': 4666, 'triangl': 4667, 'archiv': 4668, 'raj': 4669, 'someday': 4670, 'mobil': 4671, 'discern': 4672, 'resum': 4673, 'dim': 4674, 'axe': 4675, 'clad': 4676, 'anton': 4677, 'proclaim': 4678, 'hug': 4679, 'hilar': 4680, 'recit': 4681, 'prophet': 4682, 'traffic': 4683, 'carlo': 4684, 'miracul': 4685, 'casino': 4686, 'cycl': 4687, 'europa': 4688, 'cb': 4689, 'earnest': 4690, 'undermin': 4691, 'vibrant': 4692, 'dylan': 4693, 'fragil': 4694, 'banter': 4695, 'colin': 4696, 'jade': 4697, 'luka': 4698, 'loretta': 4699, 'senior': 4700, 'heartwarm': 4701, 'dame': 4702, 'artwork': 4703, 'helm': 4704, 'submit': 4705, 'harrison': 4706, 'rot': 4707, 'hapless': 4708, 'neill': 4709, 'mobster': 4710, 'ish': 4711, 'bate': 4712, 'timberlak': 4713, 'pixar': 4714, 'cliffhang': 4715, 'pacif': 4716, 'melissa': 4717, 'kathryn': 4718, 'biblic': 4719, 'cher': 4720, 'parson': 4721, 'wendigo': 4722, 'frontier': 4723, 'pickford': 4724, 'token': 4725, 'electron': 4726, 'breakfast': 4727, 'http': 4728, 'trier': 4729, 'feast': 4730, 'antholog': 4731, 'lui': 4732, 'flavor': 4733, 'wardrob': 4734, 'isra': 4735, 'akin': 4736, 'northern': 4737, 'lucil': 4738, 'nope': 4739, 'choke': 4740, 'cerebr': 4741, 'illus': 4742, 'legitim': 4743, 'orphan': 4744, 'foil': 4745, 'blatantli': 4746, 'milo': 4747, 'uma': 4748, 'vanessa': 4749, 'eli': 4750, 'misfortun': 4751, 'bondag': 4752, 'aris': 4753, 'pc': 4754, 'mason': 4755, 'razor': 4756, 'articl': 4757, 'venom': 4758, 'estrang': 4759, 'bikini': 4760, 'jordan': 4761, 'holocaust': 4762, 'shepherd': 4763, 'seedi': 4764, 'jo': 4765, 'static': 4766, 'redneck': 4767, 'rooki': 4768, 'winchest': 4769, 'marlon': 4770, 'toronto': 4771, 'vile': 4772, 'alexandr': 4773, 'sicken': 4774, 'mathieu': 4775, 'turd': 4776, 'gilbert': 4777, 'peer': 4778, 'knightley': 4779, 'charlton': 4780, 'shorter': 4781, 'frog': 4782, 'styliz': 4783, 'audrey': 4784, 'oppon': 4785, 'cartoonish': 4786, 'dudley': 4787, 'swept': 4788, 'howl': 4789, 'abund': 4790, 'ceremoni': 4791, 'gunga': 4792, 'boyer': 4793, 'tack': 4794, 'glare': 4795, 'linear': 4796, 'ideolog': 4797, 'leather': 4798, 'psych': 4799, 'comprehend': 4800, 'affleck': 4801, 'smack': 4802, 'nightclub': 4803, 'clinic': 4804, 'outdat': 4805, 'fifth': 4806, 'feminin': 4807, 'disregard': 4808, 'highway': 4809, 'huston': 4810, 'wrestler': 4811, 'retriev': 4812, 'magician': 4813, 'deem': 4814, 'energet': 4815, 'greet': 4816, 'mitch': 4817, 'corn': 4818, 'newer': 4819, 'sleaz': 4820, 'boo': 4821, 'evolut': 4822, 'durat': 4823, '1994': 4824, 'snatch': 4825, 'salman': 4826, 'lifeless': 4827, '4th': 4828, 'summar': 4829, 'chip': 4830, 'client': 4831, 'lavish': 4832, 'braveheart': 4833, 'phenomen': 4834, 'spawn': 4835, 'plate': 4836, 'monument': 4837, 'uniformli': 4838, 'breakdown': 4839, 'compris': 4840, 'moe': 4841, 'cuban': 4842, 'potter': 4843, 'toe': 4844, 'bastard': 4845, 'spine': 4846, 'conrad': 4847, 'collector': 4848, 'bogu': 4849, 'deliver': 4850, '1991': 4851, 'btw': 4852, 'whack': 4853, 'einstein': 4854, 'lighter': 4855, 'cemeteri': 4856, 'tara': 4857, 'senat': 4858, 'goldsworthi': 4859, 'jedi': 4860, '1974': 4861, 'firmli': 4862, 'ie': 4863, 'evelyn': 4864, '1977': 4865, 'luxuri': 4866, 'undead': 4867, 'belli': 4868, 'jule': 4869, 'creek': 4870, 'ol': 4871, 'judd': 4872, 'bulk': 4873, 'fluid': 4874, 'replay': 4875, 'historian': 4876, 'spectacl': 4877, 'nina': 4878, 'jam': 4879, 'alleg': 4880, 'occup': 4881, 'healthi': 4882, 'constitut': 4883, 'signal': 4884, 'neatli': 4885, 'capot': 4886, 'jare': 4887, 'embark': 4888, 'inaccuraci': 4889, 'randolph': 4890, 'mcqueen': 4891, 'cecil': 4892, 'kent': 4893, 'sorrow': 4894, 'liu': 4895, 'pronounc': 4896, 'appl': 4897, 'trauma': 4898, 'wtf': 4899, 'undertak': 4900, 'outright': 4901, 'lex': 4902, 'gilliam': 4903, 'eleven': 4904, 'bori': 4905, 'clara': 4906, 'armstrong': 4907, 'kazan': 4908, 'decapit': 4909, 'lauren': 4910, 'subtli': 4911, 'spray': 4912, 'fruit': 4913, 'sidewalk': 4914, 'pioneer': 4915, 'roar': 4916, 'forgiven': 4917, 'sacrif': 4918, 'paula': 4919, 'meal': 4920, 'abound': 4921, 'walt': 4922, 'porter': 4923, 'curtain': 4924, 'bait': 4925, 'kiddi': 4926, 'inclus': 4927, 'galaxi': 4928, 'vignett': 4929, 'lanc': 4930, 'aussi': 4931, 'unsuspect': 4932, 'mum': 4933, 'knee': 4934, 'carmen': 4935, 'miami': 4936, 'goldblum': 4937, 'congratul': 4938, 'pepper': 4939, 'unattract': 4940, 'cape': 4941, 'blur': 4942, 'truman': 4943, 'antonio': 4944, 'vain': 4945, 'comb': 4946, 'conan': 4947, 'ash': 4948, 'id': 4949, 'inaccur': 4950, 'genet': 4951, 'tokyo': 4952, 'palm': 4953, 'bsg': 4954, 'relentless': 4955, '1985': 4956, 'rosario': 4957, 'miniseri': 4958, 'comprehens': 4959, 'groan': 4960, 'poker': 4961, 'propheci': 4962, 'basket': 4963, 'incorrect': 4964, 'dubiou': 4965, 'spill': 4966, 'scariest': 4967, 'hostil': 4968, 'frontal': 4969, 'monti': 4970, 'handicap': 4971, 'ingrid': 4972, 'epitom': 4973, 'orchestr': 4974, 'drone': 4975, 'growth': 4976, 'assort': 4977, 'rapidli': 4978, 'motorcycl': 4979, 'sparkl': 4980, 'verg': 4981, 'sophi': 4982, 'reincarn': 4983, 'substanti': 4984, 'macabr': 4985, 'asset': 4986, 'detach': 4987, 'omin': 4988, 'victorian': 4989, 'evan': 4990, 'vastli': 4991, 'ghetto': 4992, '21st': 4993, 'playboy': 4994, 'bravo': 4995, 'optimist': 4996, 'cypher': 4997, 'hackman': 4998, 'mice': 4999}\n"
     ]
    }
   ],
   "metadata": {
    "scrolled": true
   }
  },
  {
   "cell_type": "code",
   "execution_count": 15,
   "source": [
    "# Determine the five most frequently appearing words in the training set.\n",
    "count = 0\n",
    "for word in word_dict:\n",
    "    print(word)\n",
    "    if count < 4:\n",
    "        count += 1\n",
    "    else:\n",
    "        break\n",
    "    "
   ],
   "outputs": [
    {
     "output_type": "stream",
     "name": "stdout",
     "text": [
      "movi\n",
      "film\n",
      "one\n",
      "like\n",
      "time\n"
     ]
    }
   ],
   "metadata": {
    "scrolled": true
   }
  },
  {
   "cell_type": "markdown",
   "source": [
    "### Save `word_dict`\n",
    "\n",
    "Later on when we construct an endpoint which processes a submitted review we will need to make use of the `word_dict` which we have created. As such, we will save it to a file now for future use."
   ],
   "metadata": {}
  },
  {
   "cell_type": "code",
   "execution_count": 16,
   "source": [
    "data_dir = '../data/pytorch' # The folder we will use for storing data\n",
    "if not os.path.exists(data_dir): # Make sure that the folder exists\n",
    "    os.makedirs(data_dir)"
   ],
   "outputs": [],
   "metadata": {}
  },
  {
   "cell_type": "code",
   "execution_count": 17,
   "source": [
    "with open(os.path.join(data_dir, 'word_dict.pkl'), \"wb\") as f:\n",
    "    pickle.dump(word_dict, f)"
   ],
   "outputs": [],
   "metadata": {}
  },
  {
   "cell_type": "markdown",
   "source": [
    "### Transform the reviews\n",
    "\n",
    "Now that we have our word dictionary which allows us to transform the words appearing in the reviews into integers, it is time to make use of it and convert our reviews to their integer sequence representation, making sure to pad or truncate to a fixed length, which in our case is `500`."
   ],
   "metadata": {}
  },
  {
   "cell_type": "code",
   "execution_count": 18,
   "source": [
    "def convert_and_pad(word_dict, sentence, pad=500):\n",
    "    NOWORD = 0 # We will use 0 to represent the 'no word' category\n",
    "    INFREQ = 1 # and we use 1 to represent the infrequent words, i.e., words not appearing in word_dict\n",
    "    \n",
    "    working_sentence = [NOWORD] * pad\n",
    "    \n",
    "    for word_index, word in enumerate(sentence[:pad]):\n",
    "        if word in word_dict:\n",
    "            working_sentence[word_index] = word_dict[word]\n",
    "        else:\n",
    "            working_sentence[word_index] = INFREQ\n",
    "            \n",
    "    return working_sentence, min(len(sentence), pad)\n",
    "\n",
    "def convert_and_pad_data(word_dict, data, pad=500):\n",
    "    result = []\n",
    "    lengths = []\n",
    "    \n",
    "    for sentence in data:\n",
    "        converted, leng = convert_and_pad(word_dict, sentence, pad)\n",
    "        result.append(converted)\n",
    "        lengths.append(leng)\n",
    "        \n",
    "    return np.array(result), np.array(lengths)"
   ],
   "outputs": [],
   "metadata": {}
  },
  {
   "cell_type": "code",
   "execution_count": 19,
   "source": [
    "train_X, train_X_len = convert_and_pad_data(word_dict, train_X)\n",
    "test_X, test_X_len = convert_and_pad_data(word_dict, test_X)"
   ],
   "outputs": [],
   "metadata": {}
  },
  {
   "cell_type": "markdown",
   "source": [
    "As a quick check to make sure that things are working as intended, check to see what one of the reviews in the training set looks like after having been processeed. "
   ],
   "metadata": {}
  },
  {
   "cell_type": "code",
   "execution_count": 20,
   "source": [
    "# examining one of the processed reviews to make sure everything is working as intended.\n",
    "print(\"Total number of processed reviews in the training dataset = {}\".format(len(train_X[100])))\n",
    "print(\"\\nProcessed review info of one element in the training dataset\\n\\n{}\".format(train_X[100]))"
   ],
   "outputs": [
    {
     "output_type": "stream",
     "name": "stdout",
     "text": [
      "Total number of processed reviews in the training dataset = 500\n",
      "\n",
      "Processed review info of one element in the training dataset\n",
      "\n",
      "[ 531   24    2   68    5   58 2867    4  184  164   39    5  150  505\n",
      "  315   28  858   99   19  295  276 1860   34    2   39 1946    2 1780\n",
      "    4 1870   90    7   35  519   30    6  389  124  273   18    9  139\n",
      "  128 1548  121   86    2  141  550 2867    4  234   26   85   90   26\n",
      "   32  106  466   63   74    5  233   39  273   27  372    2  676   70\n",
      "    1  611   22  101   39   16  455   39 1812    5  302    2  394   74\n",
      "   99  106  531  210  468 2399 1843  624   83    0    0    0    0    0\n",
      "    0    0    0    0    0    0    0    0    0    0    0    0    0    0\n",
      "    0    0    0    0    0    0    0    0    0    0    0    0    0    0\n",
      "    0    0    0    0    0    0    0    0    0    0    0    0    0    0\n",
      "    0    0    0    0    0    0    0    0    0    0    0    0    0    0\n",
      "    0    0    0    0    0    0    0    0    0    0    0    0    0    0\n",
      "    0    0    0    0    0    0    0    0    0    0    0    0    0    0\n",
      "    0    0    0    0    0    0    0    0    0    0    0    0    0    0\n",
      "    0    0    0    0    0    0    0    0    0    0    0    0    0    0\n",
      "    0    0    0    0    0    0    0    0    0    0    0    0    0    0\n",
      "    0    0    0    0    0    0    0    0    0    0    0    0    0    0\n",
      "    0    0    0    0    0    0    0    0    0    0    0    0    0    0\n",
      "    0    0    0    0    0    0    0    0    0    0    0    0    0    0\n",
      "    0    0    0    0    0    0    0    0    0    0    0    0    0    0\n",
      "    0    0    0    0    0    0    0    0    0    0    0    0    0    0\n",
      "    0    0    0    0    0    0    0    0    0    0    0    0    0    0\n",
      "    0    0    0    0    0    0    0    0    0    0    0    0    0    0\n",
      "    0    0    0    0    0    0    0    0    0    0    0    0    0    0\n",
      "    0    0    0    0    0    0    0    0    0    0    0    0    0    0\n",
      "    0    0    0    0    0    0    0    0    0    0    0    0    0    0\n",
      "    0    0    0    0    0    0    0    0    0    0    0    0    0    0\n",
      "    0    0    0    0    0    0    0    0    0    0    0    0    0    0\n",
      "    0    0    0    0    0    0    0    0    0    0    0    0    0    0\n",
      "    0    0    0    0    0    0    0    0    0    0    0    0    0    0\n",
      "    0    0    0    0    0    0    0    0    0    0    0    0    0    0\n",
      "    0    0    0    0    0    0    0    0    0    0    0    0    0    0\n",
      "    0    0    0    0    0    0    0    0    0    0    0    0    0    0\n",
      "    0    0    0    0    0    0    0    0    0    0    0    0    0    0\n",
      "    0    0    0    0    0    0    0    0    0    0    0    0    0    0\n",
      "    0    0    0    0    0    0    0    0    0    0]\n"
     ]
    }
   ],
   "metadata": {
    "scrolled": true
   }
  },
  {
   "cell_type": "markdown",
   "source": [
    "## Step 3: Upload the data to S3\n",
    "\n",
    "Upload the training dataset to S3 in order for our training code to access it. For now we will save it locally and we will upload to S3 later on.\n",
    "\n",
    "### Save the processed training dataset locally\n",
    "\n",
    "It is important to note the format of the data that we are saving as we will need to know it when we write the training code. In our case, each row of the dataset has the form `label`, `length`, `review[500]` where `review[500]` is a sequence of `500` integers representing the words in the review."
   ],
   "metadata": {}
  },
  {
   "cell_type": "code",
   "execution_count": 21,
   "source": [
    "import pandas as pd\n",
    "    \n",
    "pd.concat([pd.DataFrame(train_y), pd.DataFrame(train_X_len), pd.DataFrame(train_X)], axis=1) \\\n",
    "        .to_csv(os.path.join(data_dir, 'train.csv'), header=False, index=False)"
   ],
   "outputs": [],
   "metadata": {}
  },
  {
   "cell_type": "markdown",
   "source": [
    "### Uploading the training data\n",
    "\n",
    "Next, we need to upload the training data to the SageMaker default S3 bucket so that we can provide access to it while training our model. Now keep in mind that since this saves in default bucket one has to make sure the notebook instance is run in the same region where the bucket is sicne bucket is region sensitive.\n"
   ],
   "metadata": {}
  },
  {
   "cell_type": "code",
   "execution_count": null,
   "source": [
    "import sagemaker\n",
    "import boto3\n",
    "sagemaker_session = sagemaker.Session()  #This uses region configured with aws cli\n",
    "#sagemaker_session = sagemaker.Session(boto3.session.Session(region_name='us-east-2'))\n",
    "#bucket = sagemaker_session.default_bucket()\n",
    "#prefix = 'sagemaker/sentiment_rnn'\n",
    "role = 'arn:aws:iam::804604702169:role/service-role/AmazonSageMaker-ExecutionRole-20210803T195128'\n"
   ],
   "outputs": [],
   "metadata": {}
  },
  {
   "cell_type": "code",
   "execution_count": null,
   "source": [
    "input_data = sagemaker_session.upload_data(path=data_dir, bucket=bucket, key_prefix=prefix)"
   ],
   "outputs": [],
   "metadata": {}
  },
  {
   "cell_type": "markdown",
   "source": [
    "**NOTE:** The cell above uploads the entire contents of our data directory. This includes the `word_dict.pkl` file. This is fortunate as we will need this later on when we create an endpoint that accepts an arbitrary review. For now, we will just take note of the fact that it resides in the data directory (and so also in the S3 training bucket) and that we will need to make sure it gets saved in the model directory."
   ],
   "metadata": {}
  },
  {
   "cell_type": "markdown",
   "source": [
    "### Step 4: Build and Train the PyTorch Model\n",
    "\n",
    "A model comprises three objects\n",
    "\n",
    " - Model Artifacts,\n",
    " - Training Code, and\n",
    " - Inference Code,\n",
    " \n",
    "each of which interact with one another. Here we will still be using containers provided by Amazon with the added benefit of being able to include our own custom code.\n",
    "\n",
    "We will start by implementing our own neural network in PyTorch along with a training script (train/model.py)."
   ],
   "metadata": {}
  },
  {
   "cell_type": "code",
   "execution_count": 22,
   "source": [
    "!pygmentize train/model.py"
   ],
   "outputs": [
    {
     "output_type": "stream",
     "name": "stdout",
     "text": [
      "\u001b[34mimport\u001b[39;49;00m \u001b[04m\u001b[36mtorch\u001b[39;49;00m\u001b[04m\u001b[36m.\u001b[39;49;00m\u001b[04m\u001b[36mnn\u001b[39;49;00m \u001b[34mas\u001b[39;49;00m \u001b[04m\u001b[36mnn\u001b[39;49;00m\n",
      "\n",
      "\u001b[34mclass\u001b[39;49;00m \u001b[04m\u001b[32mLSTMClassifier\u001b[39;49;00m(nn.Module):\n",
      "    \u001b[33m\"\"\"\u001b[39;49;00m\n",
      "\u001b[33m    This is the simple RNN model we will be using to perform Sentiment Analysis.\u001b[39;49;00m\n",
      "\u001b[33m    \"\"\"\u001b[39;49;00m\n",
      "\n",
      "    \u001b[34mdef\u001b[39;49;00m \u001b[32m__init__\u001b[39;49;00m(\u001b[36mself\u001b[39;49;00m, embedding_dim, hidden_dim, vocab_size):\n",
      "        \u001b[33m\"\"\"\u001b[39;49;00m\n",
      "\u001b[33m        Initialize the model by settingg up the various layers.\u001b[39;49;00m\n",
      "\u001b[33m        \"\"\"\u001b[39;49;00m\n",
      "        \u001b[36msuper\u001b[39;49;00m(LSTMClassifier, \u001b[36mself\u001b[39;49;00m).\u001b[32m__init__\u001b[39;49;00m()\n",
      "\n",
      "        \u001b[36mself\u001b[39;49;00m.embedding = nn.Embedding(vocab_size, embedding_dim, padding_idx=\u001b[34m0\u001b[39;49;00m)\n",
      "        \u001b[36mself\u001b[39;49;00m.lstm = nn.LSTM(embedding_dim, hidden_dim)\n",
      "        \u001b[36mself\u001b[39;49;00m.dense = nn.Linear(in_features=hidden_dim, out_features=\u001b[34m1\u001b[39;49;00m)\n",
      "        \u001b[36mself\u001b[39;49;00m.sig = nn.Sigmoid()\n",
      "        \n",
      "        \u001b[36mself\u001b[39;49;00m.word_dict = \u001b[34mNone\u001b[39;49;00m\n",
      "\n",
      "    \u001b[34mdef\u001b[39;49;00m \u001b[32mforward\u001b[39;49;00m(\u001b[36mself\u001b[39;49;00m, x):\n",
      "        \u001b[33m\"\"\"\u001b[39;49;00m\n",
      "\u001b[33m        Perform a forward pass of our model on some input.\u001b[39;49;00m\n",
      "\u001b[33m        \"\"\"\u001b[39;49;00m\n",
      "        x = x.t()\n",
      "        lengths = x[\u001b[34m0\u001b[39;49;00m,:]\n",
      "        reviews = x[\u001b[34m1\u001b[39;49;00m:,:]\n",
      "        embeds = \u001b[36mself\u001b[39;49;00m.embedding(reviews)\n",
      "        lstm_out, _ = \u001b[36mself\u001b[39;49;00m.lstm(embeds)\n",
      "        out = \u001b[36mself\u001b[39;49;00m.dense(lstm_out)\n",
      "        out = out[lengths - \u001b[34m1\u001b[39;49;00m, \u001b[36mrange\u001b[39;49;00m(\u001b[36mlen\u001b[39;49;00m(lengths))]\n",
      "        \u001b[34mreturn\u001b[39;49;00m \u001b[36mself\u001b[39;49;00m.sig(out.squeeze())\n"
     ]
    }
   ],
   "metadata": {
    "scrolled": false
   }
  },
  {
   "cell_type": "code",
   "execution_count": 23,
   "source": [
    "import torch\n",
    "import torch.utils.data\n",
    "# Read in only the first 250 rows\n",
    "train_sample = pd.read_csv(os.path.join(data_dir, 'train.csv'), header=None, names=None, nrows=250)\n",
    "\n",
    "# Turn the input pandas dataframe into tensors\n",
    "train_sample_y = torch.from_numpy(train_sample[[0]].values).float().squeeze()\n",
    "train_sample_X = torch.from_numpy(train_sample.drop([0], axis=1).values).long()\n",
    "\n",
    "# Build the dataset\n",
    "train_sample_ds = torch.utils.data.TensorDataset(train_sample_X, train_sample_y)\n",
    "# Build the dataloader\n",
    "train_sample_dl = torch.utils.data.DataLoader(train_sample_ds, batch_size=50)"
   ],
   "outputs": [],
   "metadata": {}
  },
  {
   "cell_type": "markdown",
   "source": [
    "### Writing the training method\n",
    "\n",
    "Next we need to write the training code itself. For nowm we will not tackle aspects like model saving / loading and parameter loading, we'll get it to out it a little later."
   ],
   "metadata": {}
  },
  {
   "cell_type": "code",
   "execution_count": 24,
   "source": [
    "def train(model, train_loader, epochs, optimizer, loss_fn, device):\n",
    "    for epoch in range(1, epochs + 1):\n",
    "        model.train()\n",
    "        total_loss = 0\n",
    "        for batch in train_loader:         \n",
    "            batch_X, batch_y = batch\n",
    "            \n",
    "            batch_X = batch_X.to(device)\n",
    "            batch_y = batch_y.to(device)\n",
    "            \n",
    "            # TODO: Complete this train method to train the model provided.\n",
    "            optimizer.zero_grad()\n",
    "            out = model.forward(batch_X)\n",
    "            loss = loss_fn(out, batch_y)\n",
    "            loss.backward()\n",
    "            optimizer.step()\n",
    "            \n",
    "            total_loss += loss.data.item()\n",
    "        print(\"Epoch: {}, BCELoss: {}\".format(epoch, total_loss / len(train_loader)))"
   ],
   "outputs": [],
   "metadata": {}
  },
  {
   "cell_type": "markdown",
   "source": [
    "Supposing we have the training method above, we will test that it is working by writing a bit of code in the notebook that executes our training method on the small sample training set that we loaded earlier. The reason for doing this in the notebook is so that we have an opportunity to fix any errors that arise early when they are easier to diagnose."
   ],
   "metadata": {}
  },
  {
   "cell_type": "code",
   "execution_count": 52,
   "source": [
    "import torch.optim as optim\n",
    "from train.model import LSTMClassifier\n",
    "\n",
    "device = torch.device(\"cuda\" if torch.cuda.is_available() else \"cpu\")\n",
    "model = LSTMClassifier(32, 100, 5000).to(device)\n",
    "optimizer = optim.Adam(model.parameters())\n",
    "loss_fn = torch.nn.BCELoss()\n",
    "\n",
    "train(model, train_sample_dl, 5, optimizer, loss_fn, device)"
   ],
   "outputs": [
    {
     "output_type": "stream",
     "name": "stdout",
     "text": [
      "Epoch: 1, BCELoss: 0.694470739364624\n",
      "Epoch: 2, BCELoss: 0.6853868722915649\n",
      "Epoch: 3, BCELoss: 0.6776745438575744\n",
      "Epoch: 4, BCELoss: 0.6694149851799012\n",
      "Epoch: 5, BCELoss: 0.6596929669380188\n"
     ]
    }
   ],
   "metadata": {}
  },
  {
   "cell_type": "markdown",
   "source": [
    "In order to construct a PyTorch model using SageMaker we must provide SageMaker with a training script. We may optionally include a directory which will be copied to the container and from which our training code will be run. When the training container is executed it will check the uploaded directory (if there is one) for a `requirements.txt` file and install any required Python libraries, after which the training script will be run."
   ],
   "metadata": {}
  },
  {
   "cell_type": "markdown",
   "source": [
    "### Training the model\n",
    "\n",
    "When a PyTorch model is constructed in SageMaker, an entry point must be specified. This is the Python file which will be executed when the model is trained. "
   ],
   "metadata": {}
  },
  {
   "cell_type": "code",
   "execution_count": null,
   "source": [
    "from sagemaker.pytorch import PyTorch\n",
    "\n",
    "estimator = PyTorch(entry_point=\"train.py\",\n",
    "                    source_dir=\"train\",\n",
    "                    role=role,\n",
    "                    framework_version='1.6.0',\n",
    "                    py_version='py3',\n",
    "                    instance_count=1,\n",
    "                    instance_type='ml.p2.xlarge',\n",
    "                    hyperparameters={\n",
    "                        'epochs': 10,\n",
    "                        'hidden_dim': 200,\n",
    "                    })"
   ],
   "outputs": [],
   "metadata": {}
  },
  {
   "cell_type": "code",
   "execution_count": 99,
   "source": [
    "estimator.fit({'training': input_data})"
   ],
   "outputs": [
    {
     "output_type": "stream",
     "name": "stdout",
     "text": [
      "2019-11-21 14:55:45 Starting - Starting the training job...\n",
      "2019-11-21 14:55:50 Starting - Launching requested ML instances......\n",
      "2019-11-21 14:56:52 Starting - Preparing the instances for training.........\n",
      "2019-11-21 14:58:20 Downloading - Downloading input data...\n",
      "2019-11-21 14:58:50 Training - Downloading the training image..\u001b[31mbash: cannot set terminal process group (-1): Inappropriate ioctl for device\u001b[0m\n",
      "\u001b[31mbash: no job control in this shell\u001b[0m\n",
      "\u001b[31m2019-11-21 14:59:25,729 sagemaker-containers INFO     Imported framework sagemaker_pytorch_container.training\u001b[0m\n",
      "\u001b[31m2019-11-21 14:59:25,753 sagemaker_pytorch_container.training INFO     Block until all host DNS lookups succeed.\u001b[0m\n",
      "\n",
      "2019-11-21 14:59:24 Training - Training image download completed. Training in progress.\u001b[31m2019-11-21 14:59:31,982 sagemaker_pytorch_container.training INFO     Invoking user training script.\u001b[0m\n",
      "\u001b[31m2019-11-21 14:59:32,267 sagemaker-containers INFO     Module train does not provide a setup.py. \u001b[0m\n",
      "\u001b[31mGenerating setup.py\u001b[0m\n",
      "\u001b[31m2019-11-21 14:59:32,268 sagemaker-containers INFO     Generating setup.cfg\u001b[0m\n",
      "\u001b[31m2019-11-21 14:59:32,268 sagemaker-containers INFO     Generating MANIFEST.in\u001b[0m\n",
      "\u001b[31m2019-11-21 14:59:32,268 sagemaker-containers INFO     Installing module with the following command:\u001b[0m\n",
      "\u001b[31m/usr/bin/python -m pip install -U . -r requirements.txt\u001b[0m\n",
      "\u001b[31mProcessing /opt/ml/code\u001b[0m\n",
      "\u001b[31mCollecting pandas (from -r requirements.txt (line 1))\n",
      "  Downloading https://files.pythonhosted.org/packages/74/24/0cdbf8907e1e3bc5a8da03345c23cbed7044330bb8f73bb12e711a640a00/pandas-0.24.2-cp35-cp35m-manylinux1_x86_64.whl (10.0MB)\u001b[0m\n",
      "\u001b[31mCollecting numpy (from -r requirements.txt (line 2))\u001b[0m\n",
      "\u001b[31m  Downloading https://files.pythonhosted.org/packages/ab/e9/2561dbfbc05146bffa02167e09b9902e273decb2dc4cd5c43314ede20312/numpy-1.17.4-cp35-cp35m-manylinux1_x86_64.whl (19.8MB)\u001b[0m\n",
      "\u001b[31mCollecting nltk (from -r requirements.txt (line 3))\n",
      "  Downloading https://files.pythonhosted.org/packages/f6/1d/d925cfb4f324ede997f6d47bea4d9babba51b49e87a767c170b77005889d/nltk-3.4.5.zip (1.5MB)\u001b[0m\n",
      "\u001b[31mCollecting beautifulsoup4 (from -r requirements.txt (line 4))\n",
      "  Downloading https://files.pythonhosted.org/packages/3b/c8/a55eb6ea11cd7e5ac4bacdf92bac4693b90d3ba79268be16527555e186f0/beautifulsoup4-4.8.1-py3-none-any.whl (101kB)\u001b[0m\n",
      "\u001b[31mCollecting html5lib (from -r requirements.txt (line 5))\n",
      "  Downloading https://files.pythonhosted.org/packages/a5/62/bbd2be0e7943ec8504b517e62bab011b4946e1258842bc159e5dfde15b96/html5lib-1.0.1-py2.py3-none-any.whl (117kB)\u001b[0m\n",
      "\u001b[31mRequirement already satisfied, skipping upgrade: python-dateutil>=2.5.0 in /usr/local/lib/python3.5/dist-packages (from pandas->-r requirements.txt (line 1)) (2.7.5)\u001b[0m\n",
      "\u001b[31mCollecting pytz>=2011k (from pandas->-r requirements.txt (line 1))\n",
      "  Downloading https://files.pythonhosted.org/packages/e7/f9/f0b53f88060247251bf481fa6ea62cd0d25bf1b11a87888e53ce5b7c8ad2/pytz-2019.3-py2.py3-none-any.whl (509kB)\u001b[0m\n",
      "\u001b[31mRequirement already satisfied, skipping upgrade: six in /usr/local/lib/python3.5/dist-packages (from nltk->-r requirements.txt (line 3)) (1.11.0)\u001b[0m\n",
      "\u001b[31mCollecting soupsieve>=1.2 (from beautifulsoup4->-r requirements.txt (line 4))\n",
      "  Downloading https://files.pythonhosted.org/packages/81/94/03c0f04471fc245d08d0a99f7946ac228ca98da4fa75796c507f61e688c2/soupsieve-1.9.5-py2.py3-none-any.whl\u001b[0m\n",
      "\u001b[31mCollecting webencodings (from html5lib->-r requirements.txt (line 5))\n",
      "  Downloading https://files.pythonhosted.org/packages/f4/24/2a3e3df732393fed8b3ebf2ec078f05546de641fe1b667ee316ec1dcf3b7/webencodings-0.5.1-py2.py3-none-any.whl\u001b[0m\n",
      "\u001b[31mBuilding wheels for collected packages: nltk, train\n",
      "  Running setup.py bdist_wheel for nltk: started\u001b[0m\n",
      "\u001b[31m  Running setup.py bdist_wheel for nltk: finished with status 'done'\n",
      "  Stored in directory: /root/.cache/pip/wheels/96/86/f6/68ab24c23f207c0077381a5e3904b2815136b879538a24b483\n",
      "  Running setup.py bdist_wheel for train: started\u001b[0m\n",
      "\u001b[31m  Running setup.py bdist_wheel for train: finished with status 'done'\n",
      "  Stored in directory: /tmp/pip-ephem-wheel-cache-0yholb_w/wheels/35/24/16/37574d11bf9bde50616c67372a334f94fa8356bc7164af8ca3\u001b[0m\n",
      "\u001b[31mSuccessfully built nltk train\u001b[0m\n",
      "\u001b[31mInstalling collected packages: pytz, numpy, pandas, nltk, soupsieve, beautifulsoup4, webencodings, html5lib, train\n",
      "  Found existing installation: numpy 1.15.4\n",
      "    Uninstalling numpy-1.15.4:\u001b[0m\n",
      "\u001b[31m      Successfully uninstalled numpy-1.15.4\u001b[0m\n",
      "\u001b[31mSuccessfully installed beautifulsoup4-4.8.1 html5lib-1.0.1 nltk-3.4.5 numpy-1.17.4 pandas-0.24.2 pytz-2019.3 soupsieve-1.9.5 train-1.0.0 webencodings-0.5.1\u001b[0m\n",
      "\u001b[31mYou are using pip version 18.1, however version 19.3.1 is available.\u001b[0m\n",
      "\u001b[31mYou should consider upgrading via the 'pip install --upgrade pip' command.\u001b[0m\n",
      "\u001b[31m2019-11-21 14:59:44,045 sagemaker-containers INFO     Invoking user script\n",
      "\u001b[0m\n",
      "\u001b[31mTraining Env:\n",
      "\u001b[0m\n",
      "\u001b[31m{\n",
      "    \"log_level\": 20,\n",
      "    \"hosts\": [\n",
      "        \"algo-1\"\n",
      "    ],\n",
      "    \"job_name\": \"sagemaker-pytorch-2019-11-21-14-55-44-648\",\n",
      "    \"network_interface_name\": \"eth0\",\n",
      "    \"channel_input_dirs\": {\n",
      "        \"training\": \"/opt/ml/input/data/training\"\n",
      "    },\n",
      "    \"output_data_dir\": \"/opt/ml/output/data\",\n",
      "    \"user_entry_point\": \"train.py\",\n",
      "    \"framework_module\": \"sagemaker_pytorch_container.training:main\",\n",
      "    \"additional_framework_parameters\": {},\n",
      "    \"resource_config\": {\n",
      "        \"hosts\": [\n",
      "            \"algo-1\"\n",
      "        ],\n",
      "        \"current_host\": \"algo-1\",\n",
      "        \"network_interface_name\": \"eth0\"\n",
      "    },\n",
      "    \"num_gpus\": 1,\n",
      "    \"current_host\": \"algo-1\",\n",
      "    \"hyperparameters\": {\n",
      "        \"hidden_dim\": 200,\n",
      "        \"epochs\": 10\n",
      "    },\n",
      "    \"input_config_dir\": \"/opt/ml/input/config\",\n",
      "    \"input_data_config\": {\n",
      "        \"training\": {\n",
      "            \"TrainingInputMode\": \"File\",\n",
      "            \"RecordWrapperType\": \"None\",\n",
      "            \"S3DistributionType\": \"FullyReplicated\"\n",
      "        }\n",
      "    },\n",
      "    \"input_dir\": \"/opt/ml/input\",\n",
      "    \"output_intermediate_dir\": \"/opt/ml/output/intermediate\",\n",
      "    \"module_name\": \"train\",\n",
      "    \"num_cpus\": 4,\n",
      "    \"module_dir\": \"s3://sagemaker-us-east-1-037870494941/sagemaker-pytorch-2019-11-21-14-55-44-648/source/sourcedir.tar.gz\",\n",
      "    \"output_dir\": \"/opt/ml/output\",\n",
      "    \"model_dir\": \"/opt/ml/model\"\u001b[0m\n",
      "\u001b[31m}\n",
      "\u001b[0m\n",
      "\u001b[31mEnvironment variables:\n",
      "\u001b[0m\n",
      "\u001b[31mSM_CHANNELS=[\"training\"]\u001b[0m\n",
      "\u001b[31mSM_OUTPUT_DATA_DIR=/opt/ml/output/data\u001b[0m\n",
      "\u001b[31mSM_INPUT_CONFIG_DIR=/opt/ml/input/config\u001b[0m\n",
      "\u001b[31mSM_MODULE_NAME=train\u001b[0m\n",
      "\u001b[31mSM_INPUT_DATA_CONFIG={\"training\":{\"RecordWrapperType\":\"None\",\"S3DistributionType\":\"FullyReplicated\",\"TrainingInputMode\":\"File\"}}\u001b[0m\n",
      "\u001b[31mSM_NUM_GPUS=1\u001b[0m\n",
      "\u001b[31mSM_CURRENT_HOST=algo-1\u001b[0m\n",
      "\u001b[31mSM_USER_ENTRY_POINT=train.py\u001b[0m\n",
      "\u001b[31mSM_MODULE_DIR=s3://sagemaker-us-east-1-037870494941/sagemaker-pytorch-2019-11-21-14-55-44-648/source/sourcedir.tar.gz\u001b[0m\n",
      "\u001b[31mSM_NETWORK_INTERFACE_NAME=eth0\u001b[0m\n",
      "\u001b[31mSM_OUTPUT_INTERMEDIATE_DIR=/opt/ml/output/intermediate\u001b[0m\n",
      "\u001b[31mSM_FRAMEWORK_PARAMS={}\u001b[0m\n",
      "\u001b[31mSM_RESOURCE_CONFIG={\"current_host\":\"algo-1\",\"hosts\":[\"algo-1\"],\"network_interface_name\":\"eth0\"}\u001b[0m\n",
      "\u001b[31mSM_HP_EPOCHS=10\u001b[0m\n",
      "\u001b[31mSM_MODEL_DIR=/opt/ml/model\u001b[0m\n",
      "\u001b[31mSM_HPS={\"epochs\":10,\"hidden_dim\":200}\u001b[0m\n",
      "\u001b[31mSM_USER_ARGS=[\"--epochs\",\"10\",\"--hidden_dim\",\"200\"]\u001b[0m\n",
      "\u001b[31mSM_TRAINING_ENV={\"additional_framework_parameters\":{},\"channel_input_dirs\":{\"training\":\"/opt/ml/input/data/training\"},\"current_host\":\"algo-1\",\"framework_module\":\"sagemaker_pytorch_container.training:main\",\"hosts\":[\"algo-1\"],\"hyperparameters\":{\"epochs\":10,\"hidden_dim\":200},\"input_config_dir\":\"/opt/ml/input/config\",\"input_data_config\":{\"training\":{\"RecordWrapperType\":\"None\",\"S3DistributionType\":\"FullyReplicated\",\"TrainingInputMode\":\"File\"}},\"input_dir\":\"/opt/ml/input\",\"job_name\":\"sagemaker-pytorch-2019-11-21-14-55-44-648\",\"log_level\":20,\"model_dir\":\"/opt/ml/model\",\"module_dir\":\"s3://sagemaker-us-east-1-037870494941/sagemaker-pytorch-2019-11-21-14-55-44-648/source/sourcedir.tar.gz\",\"module_name\":\"train\",\"network_interface_name\":\"eth0\",\"num_cpus\":4,\"num_gpus\":1,\"output_data_dir\":\"/opt/ml/output/data\",\"output_dir\":\"/opt/ml/output\",\"output_intermediate_dir\":\"/opt/ml/output/intermediate\",\"resource_config\":{\"current_host\":\"algo-1\",\"hosts\":[\"algo-1\"],\"network_interface_name\":\"eth0\"},\"user_entry_point\":\"train.py\"}\u001b[0m\n",
      "\u001b[31mSM_CHANNEL_TRAINING=/opt/ml/input/data/training\u001b[0m\n",
      "\u001b[31mSM_INPUT_DIR=/opt/ml/input\u001b[0m\n",
      "\u001b[31mSM_OUTPUT_DIR=/opt/ml/output\u001b[0m\n",
      "\u001b[31mSM_LOG_LEVEL=20\u001b[0m\n",
      "\u001b[31mSM_HOSTS=[\"algo-1\"]\u001b[0m\n",
      "\u001b[31mSM_HP_HIDDEN_DIM=200\u001b[0m\n",
      "\u001b[31mPYTHONPATH=/usr/local/bin:/usr/lib/python35.zip:/usr/lib/python3.5:/usr/lib/python3.5/plat-x86_64-linux-gnu:/usr/lib/python3.5/lib-dynload:/usr/local/lib/python3.5/dist-packages:/usr/lib/python3/dist-packages\u001b[0m\n",
      "\u001b[31mSM_NUM_CPUS=4\u001b[0m\n",
      "\u001b[31mSM_FRAMEWORK_MODULE=sagemaker_pytorch_container.training:main\n",
      "\u001b[0m\n",
      "\u001b[31mInvoking script with the following command:\n",
      "\u001b[0m\n",
      "\u001b[31m/usr/bin/python -m train --epochs 10 --hidden_dim 200\n",
      "\n",
      "\u001b[0m\n",
      "\u001b[31mUsing device cuda.\u001b[0m\n",
      "\u001b[31mGet train data loader.\u001b[0m\n"
     ]
    },
    {
     "output_type": "stream",
     "name": "stdout",
     "text": [
      "\u001b[31mModel loaded with embedding_dim 32, hidden_dim 200, vocab_size 5000.\u001b[0m\n",
      "\u001b[31mEpoch: 1, BCELoss: 0.669403994569973\u001b[0m\n",
      "\u001b[31mEpoch: 2, BCELoss: 0.5885409676298803\u001b[0m\n",
      "\u001b[31mEpoch: 3, BCELoss: 0.49692975988193433\u001b[0m\n",
      "\u001b[31mEpoch: 4, BCELoss: 0.43016003224314475\u001b[0m\n",
      "\u001b[31mEpoch: 5, BCELoss: 0.4040961533176656\u001b[0m\n",
      "\u001b[31mEpoch: 6, BCELoss: 0.34552302834938986\u001b[0m\n",
      "\u001b[31mEpoch: 7, BCELoss: 0.32614799330429156\u001b[0m\n",
      "\u001b[31mEpoch: 8, BCELoss: 0.32047194759456477\u001b[0m\n",
      "\u001b[31mEpoch: 9, BCELoss: 0.28732806109652226\u001b[0m\n",
      "\u001b[31mEpoch: 10, BCELoss: 0.2751056117062666\u001b[0m\n",
      "\u001b[31m2019-11-21 15:02:47,432 sagemaker-containers INFO     Reporting training SUCCESS\u001b[0m\n",
      "\n",
      "2019-11-21 15:02:57 Uploading - Uploading generated training model\n",
      "2019-11-21 15:02:57 Completed - Training job completed\n",
      "Training seconds: 277\n",
      "Billable seconds: 277\n"
     ]
    }
   ],
   "metadata": {
    "scrolled": true
   }
  },
  {
   "cell_type": "markdown",
   "source": [
    "## Step 5: Testing the model\n",
    "\n",
    "As mentioned at the top of this notebook, we will be testing this model by first deploying it and then sending the testing data to the deployed endpoint. We will do this so that we can make sure that the deployed model is working correctly.\n",
    "\n",
    "## Step 6: Deploy the model for testing\n",
    "\n",
    "Now that we have trained our model, we would like to test it to see how it performs. Currently our model takes input of the form `review_length, review[500]` where `review[500]` is a sequence of `500` integers which describe the words present in the review, encoded using `word_dict`. Fortunately for us, SageMaker provides built-in inference code for models with simple inputs such as this.\n"
   ],
   "metadata": {}
  },
  {
   "cell_type": "code",
   "execution_count": 100,
   "source": [
    "# Deploy the trained model\n",
    "predictor = estimator.deploy(initial_instance_count=1, instance_type='ml.m4.xlarge')"
   ],
   "outputs": [
    {
     "output_type": "stream",
     "name": "stdout",
     "text": [
      "---------------------------------------------------------------------------------------------------!"
     ]
    }
   ],
   "metadata": {}
  },
  {
   "cell_type": "markdown",
   "source": [
    "## Step 7 - Use the model for testing\n",
    "\n",
    "Once deployed, we can read in the test data and send it off to our deployed model to get some results. Once we collect all of the results we can determine how accurate our model is."
   ],
   "metadata": {}
  },
  {
   "cell_type": "code",
   "execution_count": 101,
   "source": [
    "test_X = pd.concat([pd.DataFrame(test_X_len), pd.DataFrame(test_X)], axis=1)"
   ],
   "outputs": [],
   "metadata": {}
  },
  {
   "cell_type": "code",
   "execution_count": 102,
   "source": [
    "# We split the data into chunks and send each chunk seperately, accumulating the results.\n",
    "\n",
    "def predict(data, rows=512):\n",
    "    split_array = np.array_split(data, int(data.shape[0] / float(rows) + 1))\n",
    "    predictions = np.array([])\n",
    "    for array in split_array:\n",
    "        predictions = np.append(predictions, predictor.predict(array))\n",
    "    \n",
    "    return predictions"
   ],
   "outputs": [],
   "metadata": {}
  },
  {
   "cell_type": "code",
   "execution_count": 103,
   "source": [
    "predictions = predict(test_X.values)\n",
    "predictions = [round(num) for num in predictions]"
   ],
   "outputs": [],
   "metadata": {}
  },
  {
   "cell_type": "code",
   "execution_count": 104,
   "source": [
    "from sklearn.metrics import accuracy_score\n",
    "accuracy_score(test_y, predictions)"
   ],
   "outputs": [
    {
     "output_type": "execute_result",
     "data": {
      "text/plain": [
       "0.85452"
      ]
     },
     "metadata": {},
     "execution_count": 104
    }
   ],
   "metadata": {}
  },
  {
   "cell_type": "markdown",
   "source": [
    "We get an accuracy score on the test dataset of ~ 85.5%"
   ],
   "metadata": {}
  },
  {
   "cell_type": "markdown",
   "source": [
    "### More testing\n",
    "\n",
    "We now have a trained model which has been deployed and which we can send processed reviews to and which returns the predicted sentiment. However, ultimately we would like to be able to send our model an unprocessed review. That is, we would like to send the review itself as a string. For example, suppose we wish to send the following review to our model."
   ],
   "metadata": {}
  },
  {
   "cell_type": "code",
   "execution_count": 1,
   "source": [
    "test_review = 'The simplest pleasures in life are the best, and this film is one of them. Combining a rather basic storyline of love and adventure this movie transcends the usual weekend fair with wit and unmitigated charm.'"
   ],
   "outputs": [],
   "metadata": {}
  },
  {
   "cell_type": "markdown",
   "source": [
    "To send this review to our model, we need to:\n",
    "\n",
    " - Removed any html tags and stemmed the input\n",
    " - Encoded the review as a sequence of integers using `word_dict`\n",
    " "
   ],
   "metadata": {}
  },
  {
   "cell_type": "code",
   "execution_count": 106,
   "source": [
    "# Convert test_review into a form usable by the model and save the results in test_data\n",
    "test_data = None\n",
    "test_data_tokenize = review_to_words(test_review)\n",
    "test_data = [np.array(convert_and_pad(word_dict, test_data_tokenize)[0])]"
   ],
   "outputs": [],
   "metadata": {}
  },
  {
   "cell_type": "markdown",
   "source": [
    "Now that we have processed the review, we can send the resulting array to our model to predict the sentiment of the review."
   ],
   "metadata": {}
  },
  {
   "cell_type": "code",
   "execution_count": 107,
   "source": [
    "predictor.predict(test_data)"
   ],
   "outputs": [
    {
     "output_type": "execute_result",
     "data": {
      "text/plain": [
       "array(0.448601, dtype=float32)"
      ]
     },
     "metadata": {},
     "execution_count": 107
    }
   ],
   "metadata": {}
  },
  {
   "cell_type": "markdown",
   "source": [
    "### Delete the endpoint\n",
    "\n",
    "Since we are done using our endpoint for now, we can delete it."
   ],
   "metadata": {}
  },
  {
   "cell_type": "code",
   "execution_count": 136,
   "source": [
    "estimator.delete_endpoint()"
   ],
   "outputs": [],
   "metadata": {}
  },
  {
   "cell_type": "markdown",
   "source": [
    "## Step 6 (again) - Deploy the model for the web app\n",
    "\n",
    "Now that we know that our model is working, it's time to create some custom inference code so that we can send the model a review which has not been processed and have it determine the sentiment of the review.\n",
    "\n",
    "As we saw above, by default the estimator which we created, when deployed, will use the entry script and directory which we provided when creating the model. However, since we now wish to accept a string as input and our model expects a processed review, we need to write some custom inference code.\n",
    "\n",
    "We will store the code that we write in the `serve` directory. Provided in this directory is the `model.py` file that we used to construct our model, a `utils.py` file which contains the `review_to_words` and `convert_and_pad` pre-processing functions which we used during the initial data processing, and `predict.py`, the file which will contain our custom inference code. Note also that `requirements.txt` is present which will tell SageMaker what Python libraries are required by our custom inference code.\n",
    "\n",
    "When deploying a PyTorch model in SageMaker, you are expected to provide four functions which the SageMaker inference container will use.\n",
    " - `model_fn`: This function tells SageMaker how to load our model.\n",
    " - `input_fn`: This function receives the raw serialized input that has been sent to the model's endpoint and its job is to de-serialize and make the input available for the inference code.\n",
    " - `output_fn`: This function takes the output of the inference code and its job is to serialize this output and return it to the caller of the model's endpoint.\n",
    " - `predict_fn`: The heart of the inference script, this is where the actual prediction is done and is the function which you will need to complete.\n",
    "\n",
    "For the simple website that we are constructing during this project, the `input_fn` and `output_fn` methods are relatively straightforward. We only require being able to accept a string as input and we expect to return a single value as output. You might imagine though that in a more complex application the input or output may be image data or some other binary data which would require some effort to serialize.\n"
   ],
   "metadata": {}
  },
  {
   "cell_type": "markdown",
   "source": [
    "### Deploying the model\n",
    "\n",
    "We need to construct a new PyTorchModel object which points to the model artifacts created during training and also points to the inference code that we wish to use. Then we can call the deploy method to launch the deployment container.\n",
    "\n",
    "**NOTE**: The default behaviour for a deployed PyTorch model is to assume that any input passed to the predictor is a `numpy` array. In our case we want to send a string so we need to construct a simple wrapper around the `RealTimePredictor` class to accomodate simple strings. In a more complicated situation we may want to provide a serialization object, for example if we wanted to sent image data."
   ],
   "metadata": {}
  },
  {
   "cell_type": "code",
   "execution_count": 120,
   "source": [
    "from sagemaker.predictor import RealTimePredictor\n",
    "from sagemaker.pytorch import PyTorchModel\n",
    "from sagemaker.serializers import CSVSerializer\n",
    "from sagemaker.deserializers import CSVDeserializer\n",
    "\n",
    "class StringPredictor(RealTimePredictor):\n",
    "    def __init__(self, endpoint_name, sagemaker_session):\n",
    "        super(StringPredictor, self).__init__(endpoint_name, sagemaker_session, CSVSerializer(), CSVDeserializer())\n",
    "\n",
    "model = PyTorchModel(model_data=estimator.model_data,\n",
    "                     role = role,\n",
    "                     framework_version='1.6.0',\n",
    "                     py_version='py3',\n",
    "                     entry_point='predict.py',\n",
    "                     source_dir='serve',\n",
    "                     predictor_cls=StringPredictor)\n",
    "predictor = model.deploy(initial_instance_count=1, instance_type='ml.m4.xlarge', serializer=CSVSerializer(),\n",
    "    deserializer=CSVDeserializer(),)"
   ],
   "outputs": [
    {
     "output_type": "stream",
     "name": "stdout",
     "text": [
      "---------------------------------------------------------------------------------------------------!"
     ]
    }
   ],
   "metadata": {}
  },
  {
   "cell_type": "markdown",
   "source": [
    "### Testing the model\n",
    "\n",
    "Now that we have deployed our model with the custom inference code, we should test to see if everything is working. Here we test our model by loading the first `250` positive and negative reviews and send them to the endpoint, then collect the results. The reason for only sending some of the data is that the amount of time it takes for our model to process the input and then perform inference is quite long and so testing the entire data set would be prohibitive."
   ],
   "metadata": {}
  },
  {
   "cell_type": "code",
   "execution_count": 129,
   "source": [
    "import glob\n",
    "\n",
    "def test_reviews(data_dir='../data/aclImdb', stop=250):\n",
    "    \n",
    "    results = []\n",
    "    ground = []\n",
    "    \n",
    "    # We make sure to test both positive and negative reviews    \n",
    "    for sentiment in ['pos', 'neg']:\n",
    "        \n",
    "        path = os.path.join(data_dir, 'test', sentiment, '*.txt')\n",
    "        files = glob.glob(path)\n",
    "        \n",
    "        files_read = 0\n",
    "        \n",
    "        print('Starting ', sentiment, ' files')\n",
    "        \n",
    "        # Iterate through the files and send them to the predictor\n",
    "        for f in files:\n",
    "            with open(f) as review:\n",
    "                # First, we store the ground truth (was the review positive or negative)\n",
    "                if sentiment == 'pos':\n",
    "                    ground.append(1)\n",
    "                else:\n",
    "                    ground.append(0)\n",
    "                # Read in the review and convert to 'utf-8' for transmission via HTTP\n",
    "                review_input = review.read()\n",
    "                # Send the review to the predictor and store the results\n",
    "                #results.append(int(predictor.predict(review_input)))\n",
    "                results.append([float(s) for x in (predictor.predict(review_input)) for s in x])\n",
    "            # Sending reviews to our endpoint one at a time takes a while so we\n",
    "            # only send a small number of reviews\n",
    "            files_read += 1\n",
    "            if files_read == stop:\n",
    "                break\n",
    "            \n",
    "    return ground, results"
   ],
   "outputs": [],
   "metadata": {}
  },
  {
   "cell_type": "code",
   "execution_count": 131,
   "source": [
    "ground, results = test_reviews()"
   ],
   "outputs": [
    {
     "output_type": "stream",
     "name": "stdout",
     "text": [
      "Starting  pos  files\n",
      "Starting  neg  files\n"
     ]
    }
   ],
   "metadata": {}
  },
  {
   "cell_type": "code",
   "execution_count": 132,
   "source": [
    "from sklearn.metrics import accuracy_score\n",
    "accuracy_score(ground, results)"
   ],
   "outputs": [
    {
     "output_type": "execute_result",
     "data": {
      "text/plain": [
       "0.858"
      ]
     },
     "metadata": {},
     "execution_count": 132
    }
   ],
   "metadata": {}
  },
  {
   "cell_type": "markdown",
   "source": [
    "As an additional test, we can try sending the `test_review` that we looked at earlier."
   ],
   "metadata": {}
  },
  {
   "cell_type": "code",
   "execution_count": 133,
   "source": [
    "predictor.predict(test_review)"
   ],
   "outputs": [
    {
     "output_type": "execute_result",
     "data": {
      "text/plain": [
       "b'1.0'"
      ]
     },
     "metadata": {},
     "execution_count": 133
    }
   ],
   "metadata": {}
  },
  {
   "cell_type": "markdown",
   "source": [
    "Now that we know our endpoint is working as expected, we can set up the web page that will interact with it. If you don't have time to finish the project now, make sure to skip down to the end of this notebook and shut down your endpoint. You can deploy it again when you come back."
   ],
   "metadata": {}
  },
  {
   "cell_type": "markdown",
   "source": [
    "## Step 7 (again): Use the model for the web app\n",
    "\n",
    "> This section and the next are mostly done using the AWS console.\n",
    "\n",
    "So far we have been accessing our model endpoint by constructing a predictor object which uses the endpoint and then just using the predictor object to perform inference. What if we wanted to create a web app which accessed our model? The way things are set up currently makes that not possible since in order to access a SageMaker endpoint the app would first have to authenticate with AWS using an IAM role which included access to SageMaker endpoints. However, there is an easier way! We just need to use some additional AWS services.\n",
    "\n",
    "<img src=\"Web App Diagram.svg\">\n",
    "\n",
    "The diagram above gives an overview of how the various services will work together. On the far right is the model which we trained above and which is deployed using SageMaker. On the far left is our web app that collects a user's movie review, sends it off and expects a positive or negative sentiment in return.\n",
    "\n",
    "In the middle is where some of the magic happens. We will construct a Lambda function, which you can think of as a straightforward Python function that can be executed whenever a specified event occurs. We will give this function permission to send and recieve data from a SageMaker endpoint.\n",
    "\n",
    "Lastly, the method we will use to execute the Lambda function is a new endpoint that we will create using API Gateway. This endpoint will be a url that listens for data to be sent to it. Once it gets some data it will pass that data on to the Lambda function and then return whatever the Lambda function returns. Essentially it will act as an interface that lets our web app communicate with the Lambda function.\n",
    "\n",
    "### Setting up a Lambda function\n",
    "\n",
    "The first thing we are going to do is set up a Lambda function. This Lambda function will be executed whenever our public API has data sent to it. When it is executed it will receive the data, perform any sort of processing that is required, send the data (the review) to the SageMaker endpoint we've created and then return the result.\n",
    "\n",
    "#### Part A: Create an IAM Role for the Lambda function\n",
    "\n",
    "Since we want the Lambda function to call a SageMaker endpoint, we need to make sure that it has permission to do so. To do this, we will construct a role that we can later give the Lambda function.\n",
    "\n",
    "Using the AWS Console, navigate to the **IAM** page and click on **Roles**. Then, click on **Create role**. Make sure that the **AWS service** is the type of trusted entity selected and choose **Lambda** as the service that will use this role, then click **Next: Permissions**.\n",
    "\n",
    "In the search box type `sagemaker` and select the check box next to the **AmazonSageMakerFullAccess** policy. Then, click on **Next: Review**.\n",
    "\n",
    "Lastly, give this role a name. Make sure you use a name that you will remember later on, for example `LambdaSageMakerRole`. Then, click on **Create role**.\n",
    "\n",
    "#### Part B: Create a Lambda function\n",
    "\n",
    "Now it is time to actually create the Lambda function.\n",
    "\n",
    "Using the AWS Console, navigate to the AWS Lambda page and click on **Create a function**. When you get to the next page, make sure that **Author from scratch** is selected. Now, name your Lambda function, using a name that you will remember later on, for example `sentiment_analysis_func`. Make sure that the **Python 3.6** runtime is selected and then choose the role that you created in the previous part. Then, click on **Create Function**.\n",
    "\n",
    "On the next page you will see some information about the Lambda function you've just created. If you scroll down you should see an editor in which you can write the code that will be executed when your Lambda function is triggered. In our example, we will use the code below. \n",
    "\n",
    "```python\n",
    "# We need to use the low-level library to interact with SageMaker since the SageMaker API\n",
    "# is not available natively through Lambda.\n",
    "import boto3\n",
    "\n",
    "def lambda_handler(event, context):\n",
    "\n",
    "    # The SageMaker runtime is what allows us to invoke the endpoint that we've created.\n",
    "    runtime = boto3.Session().client('sagemaker-runtime')\n",
    "\n",
    "    # Now we use the SageMaker runtime to invoke our endpoint, sending the review we were given\n",
    "    response = runtime.invoke_endpoint(EndpointName = '**ENDPOINT NAME HERE**',    # The name of the endpoint we created\n",
    "                                       ContentType = 'text/plain',                 # The data format that is expected\n",
    "                                       Body = event['body'])                       # The actual review\n",
    "\n",
    "    # The response is an HTTP response whose body contains the result of our inference\n",
    "    result = response['Body'].read().decode('utf-8')\n",
    "\n",
    "    return {\n",
    "        'statusCode' : 200,\n",
    "        'headers' : { 'Content-Type' : 'text/plain', 'Access-Control-Allow-Origin' : '*' },\n",
    "        'body' : result\n",
    "    }\n",
    "```\n",
    "\n",
    "Once you have copy and pasted the code above into the Lambda code editor, replace the `**ENDPOINT NAME HERE**` portion with the name of the endpoint that we deployed earlier. You can determine the name of the endpoint using the code cell below."
   ],
   "metadata": {}
  },
  {
   "cell_type": "code",
   "execution_count": 134,
   "source": [
    "predictor.endpoint_name"
   ],
   "outputs": [
    {
     "output_type": "execute_result",
     "data": {
      "text/plain": [
       "'sagemaker-pytorch-2019-11-21-17-03-02-508'"
      ]
     },
     "metadata": {},
     "execution_count": 134
    }
   ],
   "metadata": {}
  },
  {
   "cell_type": "markdown",
   "source": [
    "Once you have added the endpoint name to the Lambda function, click on **Save**. Your Lambda function is now up and running. Next we need to create a way for our web app to execute the Lambda function.\n",
    "\n",
    "### Setting up API Gateway\n",
    "\n",
    "Now that our Lambda function is set up, it is time to create a new API using API Gateway that will trigger the Lambda function we have just created.\n",
    "\n",
    "Using AWS Console, navigate to **Amazon API Gateway** and then click on **Get started**.\n",
    "\n",
    "On the next page, make sure that **New API** is selected and give the new api a name, for example, `sentiment_analysis_api`. Then, click on **Create API**.\n",
    "\n",
    "Now we have created an API, however it doesn't currently do anything. What we want it to do is to trigger the Lambda function that we created earlier.\n",
    "\n",
    "Select the **Actions** dropdown menu and click **Create Method**. A new blank method will be created, select its dropdown menu and select **POST**, then click on the check mark beside it.\n",
    "\n",
    "For the integration point, make sure that **Lambda Function** is selected and click on the **Use Lambda Proxy integration**. This option makes sure that the data that is sent to the API is then sent directly to the Lambda function with no processing. It also means that the return value must be a proper response object as it will also not be processed by API Gateway.\n",
    "\n",
    "Type the name of the Lambda function you created earlier into the **Lambda Function** text entry box and then click on **Save**. Click on **OK** in the pop-up box that then appears, giving permission to API Gateway to invoke the Lambda function you created.\n",
    "\n",
    "The last step in creating the API Gateway is to select the **Actions** dropdown and click on **Deploy API**. You will need to create a new Deployment stage and name it anything you like, for example `prod`.\n",
    "\n",
    "You have now successfully set up a public API to access your SageMaker model. Make sure to copy or write down the URL provided to invoke your newly created public API as this will be needed in the next step. This URL can be found at the top of the page, highlighted in blue next to the text **Invoke URL**."
   ],
   "metadata": {}
  },
  {
   "cell_type": "markdown",
   "source": [
    "## Deploying our web app\n",
    "\n",
    "Now that we have a publicly available API, we can start using it in a web app."
   ],
   "metadata": {}
  },
  {
   "cell_type": "markdown",
   "source": [
    "### Delete the endpoint\n",
    "\n",
    "We are charged for the length of time that the endpoint is running so if we forget and leave it we could end up with an unexpectedly large bill from AWS."
   ],
   "metadata": {}
  },
  {
   "cell_type": "code",
   "execution_count": 135,
   "source": [
    "predictor.delete_endpoint()"
   ],
   "outputs": [],
   "metadata": {}
  }
 ],
 "metadata": {
  "kernelspec": {
   "name": "python3",
   "display_name": "Python 3.8.9 64-bit ('venv': venv)"
  },
  "language_info": {
   "codemirror_mode": {
    "name": "ipython",
    "version": 3
   },
   "file_extension": ".py",
   "mimetype": "text/x-python",
   "name": "python",
   "nbconvert_exporter": "python",
   "pygments_lexer": "ipython3",
   "version": "3.8.9"
  },
  "interpreter": {
   "hash": "843b354377648561a1458e86fbda6584c25181de78b081e87cc2f5330a07ae77"
  }
 },
 "nbformat": 4,
 "nbformat_minor": 2
}