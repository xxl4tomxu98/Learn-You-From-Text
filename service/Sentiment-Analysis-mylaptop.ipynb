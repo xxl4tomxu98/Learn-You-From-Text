{
 "cells": [
  {
   "cell_type": "markdown",
   "metadata": {},
   "source": [
    "# Creating a Sentiment Analysis Web App\n",
    "## Using PyTorch and SageMaker\n",
    "\n",
    "\n",
    "---\n",
    "\n",
    "We are building a sentiment analyzer for a movie review. Build and deploy model as an endpoint in AWS SageMaker. Create a simple web page where a user can type-in a movie review. The web page will then send the review off to our deployed model which will predict the sentiment (positive or negative) of the entered review.\n",
    "\n",
    "Steps followed for this project:\n",
    "\n",
    "1. Download or otherwise retrieve the data.\n",
    "2. Process / Prepare the data.\n",
    "3. Upload the processed data to S3.\n",
    "4. Train a chosen model.\n",
    "5. Test the trained model (typically using a batch transform job).\n",
    "6. Deploy the trained model.\n",
    "7. Use the deployed model.\n",
    "\n",
    "\n",
    "We will not be testing the model in its own step but by deploying the model and then using the deployed model by sending the test data to it. One of the reasons for doing this is so that we can make sure that the deployed model is working correctly before moving forward.\n",
    "\n",
    "In addition, we will deploy and use the trained model a second time. In the second iteration we will customize the way that the trained model is deployed by including some of additional code. The newly deployed model will be used in the sentiment analysis web app."
   ]
  },
  {
   "cell_type": "markdown",
   "metadata": {},
   "source": [
    "## Step 1: Downloading the data\n",
    "\n",
    "We will be using the [IMDb dataset](http://ai.stanford.edu/~amaas/data/sentiment/)\n",
    "\n",
    "> Maas, Andrew L., et al. [Learning Word Vectors for Sentiment Analysis](http://ai.stanford.edu/~amaas/data/sentiment/). In _Proceedings of the 49th Annual Meeting of the Association for Computational Linguistics: Human Language Technologies_. Association for Computational Linguistics, 2011."
   ]
  },
  {
   "cell_type": "code",
   "execution_count": 2,
   "metadata": {},
   "outputs": [
    {
     "name": "stdout",
     "output_type": "stream",
     "text": [
      "mkdir: cannot create directory ‘../data’: File exists\n",
      "--2021-08-04 11:07:43--  http://ai.stanford.edu/~amaas/data/sentiment/aclImdb_v1.tar.gz\n",
      "Resolving ai.stanford.edu (ai.stanford.edu)... 171.64.68.10\n",
      "Connecting to ai.stanford.edu (ai.stanford.edu)|171.64.68.10|:80... connected.\n",
      "HTTP request sent, awaiting response... 200 OK\n",
      "Length: 84125825 (80M) [application/x-gzip]\n",
      "Saving to: ‘../data/aclImdb_v1.tar.gz’\n",
      "\n",
      "../data/aclImdb_v1. 100%[===================>]  80.23M  2.35MB/s    in 28s     \n",
      "\n",
      "2021-08-04 11:08:11 (2.90 MB/s) - ‘../data/aclImdb_v1.tar.gz’ saved [84125825/84125825]\n",
      "\n"
     ]
    }
   ],
   "source": [
    "%mkdir ./data\n",
    "!wget -O ./data/aclImdb_v1.tar.gz http://ai.stanford.edu/~amaas/data/sentiment/aclImdb_v1.tar.gz\n",
    "!tar -zxf ./data/aclImdb_v1.tar.gz -C ./data"
   ]
  },
  {
   "cell_type": "markdown",
   "metadata": {},
   "source": [
    "## Step 2: Preparing and Processing the data\n",
    "\n",
    "We will read in each of the reviews and combine them into a single input structure. Then, we will split the dataset into a training set and a testing set."
   ]
  },
  {
   "cell_type": "code",
   "execution_count": 4,
   "metadata": {},
   "outputs": [],
   "source": [
    "import os\n",
    "import glob\n",
    "\n",
    "def read_imdb_data(data_dir='./data/aclImdb'):\n",
    "    data = {}\n",
    "    labels = {}\n",
    "    \n",
    "    for data_type in ['train', 'test']:\n",
    "        data[data_type] = {}\n",
    "        labels[data_type] = {}\n",
    "        \n",
    "        for sentiment in ['pos', 'neg']:\n",
    "            data[data_type][sentiment] = []\n",
    "            labels[data_type][sentiment] = []\n",
    "            \n",
    "            path = os.path.join(data_dir, data_type, sentiment, '*.txt')\n",
    "            files = glob.glob(path)\n",
    "            \n",
    "            for f in files:\n",
    "                with open(f) as review:\n",
    "                    data[data_type][sentiment].append(review.read())\n",
    "                    # Here we represent a positive review by '1' and a negative review by '0'\n",
    "                    labels[data_type][sentiment].append(1 if sentiment == 'pos' else 0)\n",
    "                    \n",
    "            assert len(data[data_type][sentiment]) == len(labels[data_type][sentiment]), \\\n",
    "                    \"{}/{} data size does not match labels size\".format(data_type, sentiment)\n",
    "                \n",
    "    return data, labels"
   ]
  },
  {
   "cell_type": "code",
   "execution_count": 5,
   "metadata": {},
   "outputs": [
    {
     "name": "stdout",
     "output_type": "stream",
     "text": [
      "IMDB reviews: train = 12500 pos / 12500 neg, test = 12500 pos / 12500 neg\n"
     ]
    }
   ],
   "source": [
    "data, labels = read_imdb_data()\n",
    "print(\"IMDB reviews: train = {} pos / {} neg, test = {} pos / {} neg\".format(\n",
    "            len(data['train']['pos']), len(data['train']['neg']),\n",
    "            len(data['test']['pos']), len(data['test']['neg'])))"
   ]
  },
  {
   "cell_type": "markdown",
   "metadata": {},
   "source": [
    "Now that we've read the raw training and testing data from the downloaded dataset, we will combine the positive and negative reviews and shuffle the resulting records."
   ]
  },
  {
   "cell_type": "code",
   "execution_count": 6,
   "metadata": {},
   "outputs": [],
   "source": [
    "from sklearn.utils import shuffle\n",
    "\n",
    "def prepare_imdb_data(data, labels):\n",
    "    \"\"\"Prepare training and test sets from IMDb movie reviews.\"\"\"\n",
    "    \n",
    "    #Combine positive and negative reviews and labels\n",
    "    data_train = data['train']['pos'] + data['train']['neg']\n",
    "    data_test = data['test']['pos'] + data['test']['neg']\n",
    "    labels_train = labels['train']['pos'] + labels['train']['neg']\n",
    "    labels_test = labels['test']['pos'] + labels['test']['neg']\n",
    "    \n",
    "    #Shuffle reviews and corresponding labels within training and test sets\n",
    "    data_train, labels_train = shuffle(data_train, labels_train)\n",
    "    data_test, labels_test = shuffle(data_test, labels_test)\n",
    "    \n",
    "    # Return a unified training data, test data, training labels, test labets\n",
    "    return data_train, data_test, labels_train, labels_test"
   ]
  },
  {
   "cell_type": "code",
   "execution_count": 7,
   "metadata": {},
   "outputs": [
    {
     "name": "stdout",
     "output_type": "stream",
     "text": [
      "IMDb reviews (combined): train = 25000, test = 25000\n"
     ]
    }
   ],
   "source": [
    "train_X, test_X, train_y, test_y = prepare_imdb_data(data, labels)\n",
    "print(\"IMDb reviews (combined): train = {}, test = {}\".format(len(train_X), len(test_X)))"
   ]
  },
  {
   "cell_type": "markdown",
   "metadata": {},
   "source": [
    "Now that we have our training and testing sets unified and prepared, we should do a quick check and see an example of the data our model will be trained on. This is generally a good idea as it allows you to see how each of the further processing steps affects the reviews and it also ensures that the data has been loaded correctly."
   ]
  },
  {
   "cell_type": "code",
   "execution_count": 8,
   "metadata": {},
   "outputs": [
    {
     "name": "stdout",
     "output_type": "stream",
     "text": [
      "It holds very true to the original manga of the same name, aka (Tramps Like Us in the U.S) but it can still be enjoyed even if you haven't read the manga. It's a different kind of tail, showing a strong and independent woman who hurts just like everyone else. However, because of her outward strength, she fears showing her inner feelings and thus let's those around her hurt her with their blunt comments. The only one who truly figures her out and who she can be at ease with is her new pet...human...Momo. If you want something different than the normal boring stuff with some wonderful J-Dorama (Japanese Drama) actors/resses then this is definitely the series to watch...and read!\n",
      "1\n"
     ]
    }
   ],
   "source": [
    "print(train_X[100])\n",
    "print(train_y[100])"
   ]
  },
  {
   "cell_type": "markdown",
   "metadata": {},
   "source": [
    "The first step in processing the reviews is to make sure that any html tags that appear should be removed. In addition we wish to tokenize our input, that way words such as *entertained* and *entertaining* are considered the same with regard to sentiment analysis."
   ]
  },
  {
   "cell_type": "code",
   "execution_count": 9,
   "metadata": {},
   "outputs": [],
   "source": [
    "import nltk\n",
    "from nltk.corpus import stopwords\n",
    "from nltk.stem.porter import *\n",
    "\n",
    "import re\n",
    "from bs4 import BeautifulSoup\n",
    "\n",
    "def review_to_words(review):\n",
    "    nltk.download(\"stopwords\", quiet=True)\n",
    "    stemmer = PorterStemmer()\n",
    "    \n",
    "    text = BeautifulSoup(review, \"html.parser\").get_text() # Remove HTML tags\n",
    "    text = re.sub(r\"[^a-zA-Z0-9]\", \" \", text.lower()) # Convert to lower case\n",
    "    words = text.split() # Split string into words\n",
    "    words = [w for w in words if w not in stopwords.words(\"english\")] # Remove stopwords\n",
    "    words = [PorterStemmer().stem(w) for w in words] # stem\n",
    "    \n",
    "    return words"
   ]
  },
  {
   "cell_type": "markdown",
   "metadata": {},
   "source": [
    "The `review_to_words` method defined above uses `BeautifulSoup` to remove any html tags that appear and uses the `nltk` package to tokenize the reviews. As a check to ensure we know how everything is working, try applying `review_to_words` to one of the reviews in the training set."
   ]
  },
  {
   "cell_type": "code",
   "execution_count": 10,
   "metadata": {},
   "outputs": [
    {
     "data": {
      "text/plain": [
       "['hold',\n",
       " 'true',\n",
       " 'origin',\n",
       " 'manga',\n",
       " 'name',\n",
       " 'aka',\n",
       " 'tramp',\n",
       " 'like',\n",
       " 'us',\n",
       " 'u',\n",
       " 'still',\n",
       " 'enjoy',\n",
       " 'even',\n",
       " 'read',\n",
       " 'manga',\n",
       " 'differ',\n",
       " 'kind',\n",
       " 'tail',\n",
       " 'show',\n",
       " 'strong',\n",
       " 'independ',\n",
       " 'woman',\n",
       " 'hurt',\n",
       " 'like',\n",
       " 'everyon',\n",
       " 'els',\n",
       " 'howev',\n",
       " 'outward',\n",
       " 'strength',\n",
       " 'fear',\n",
       " 'show',\n",
       " 'inner',\n",
       " 'feel',\n",
       " 'thu',\n",
       " 'let',\n",
       " 'around',\n",
       " 'hurt',\n",
       " 'blunt',\n",
       " 'comment',\n",
       " 'one',\n",
       " 'truli',\n",
       " 'figur',\n",
       " 'eas',\n",
       " 'new',\n",
       " 'pet',\n",
       " 'human',\n",
       " 'momo',\n",
       " 'want',\n",
       " 'someth',\n",
       " 'differ',\n",
       " 'normal',\n",
       " 'bore',\n",
       " 'stuff',\n",
       " 'wonder',\n",
       " 'j',\n",
       " 'dorama',\n",
       " 'japanes',\n",
       " 'drama',\n",
       " 'actor',\n",
       " 'ress',\n",
       " 'definit',\n",
       " 'seri',\n",
       " 'watch',\n",
       " 'read']"
      ]
     },
     "execution_count": 10,
     "metadata": {},
     "output_type": "execute_result"
    }
   ],
   "source": [
    "# TODO: Apply review_to_words to a review (train_X[100] or any other review)\n",
    "review_to_words(train_X[100])"
   ]
  },
  {
   "cell_type": "code",
   "execution_count": 11,
   "metadata": {},
   "outputs": [],
   "source": [
    "import pickle\n",
    "\n",
    "cache_dir = os.path.join(\"./cache\", \"sentiment_analysis\")  # where to store cache files\n",
    "os.makedirs(cache_dir, exist_ok=True)  # ensure cache directory exists\n",
    "\n",
    "def preprocess_data(data_train, data_test, labels_train, labels_test,\n",
    "                    cache_dir=cache_dir, cache_file=\"preprocessed_data.pkl\"):\n",
    "    \"\"\"Convert each review to words; read from cache if available.\"\"\"\n",
    "\n",
    "    # If cache_file is not None, try to read from it first\n",
    "    cache_data = None\n",
    "    if cache_file is not None:\n",
    "        try:\n",
    "            with open(os.path.join(cache_dir, cache_file), \"rb\") as f:\n",
    "                cache_data = pickle.load(f)\n",
    "            print(\"Read preprocessed data from cache file:\", cache_file)\n",
    "        except:\n",
    "            pass  # unable to read from cache, but that's okay\n",
    "    \n",
    "    # If cache is missing, then do the heavy lifting\n",
    "    if cache_data is None:\n",
    "        # Preprocess training and test data to obtain words for each review\n",
    "        #words_train = list(map(review_to_words, data_train))\n",
    "        #words_test = list(map(review_to_words, data_test))\n",
    "        words_train = [review_to_words(review) for review in data_train]\n",
    "        words_test = [review_to_words(review) for review in data_test]\n",
    "        \n",
    "        # Write to cache file for future runs\n",
    "        if cache_file is not None:\n",
    "            cache_data = dict(words_train=words_train, words_test=words_test,\n",
    "                              labels_train=labels_train, labels_test=labels_test)\n",
    "            with open(os.path.join(cache_dir, cache_file), \"wb\") as f:\n",
    "                pickle.dump(cache_data, f)\n",
    "            print(\"Wrote preprocessed data to cache file:\", cache_file)\n",
    "    else:\n",
    "        # Unpack data loaded from cache file\n",
    "        words_train, words_test, labels_train, labels_test = (cache_data['words_train'],\n",
    "                cache_data['words_test'], cache_data['labels_train'], cache_data['labels_test'])\n",
    "    \n",
    "    return words_train, words_test, labels_train, labels_test"
   ]
  },
  {
   "cell_type": "code",
   "execution_count": 12,
   "metadata": {},
   "outputs": [
    {
     "name": "stdout",
     "output_type": "stream",
     "text": [
      "Read preprocessed data from cache file: preprocessed_data.pkl\n"
     ]
    }
   ],
   "source": [
    "# Preprocess data\n",
    "train_X, test_X, train_y, test_y = preprocess_data(train_X, test_X, train_y, test_y)"
   ]
  },
  {
   "cell_type": "markdown",
   "metadata": {},
   "source": [
    "## Transform the data\n",
    "\n",
    "We will transform the data from its word representation to a bag-of-words featurea representation. To start, we will represent each word as an integer. Of course, some of the words that appear in the reviews occur very infrequently and so likely don't contain much information for the purposes of sentiment analysis. The way we will deal with this problem is that we will fix the size of our working vocabulary and we will only include the words that appear most frequently. We will then combine all of the infrequent words into a single category and, in our case, we will label it as `1`.\n",
    "\n",
    "Since we will be using a recurrent neural network, it will be convenient if the length of each review is the same. To do this, we will fix a size for our reviews and then pad short reviews with the category 'no word' (which we will label `0`) and truncate long reviews."
   ]
  },
  {
   "cell_type": "markdown",
   "metadata": {},
   "source": [
    "### Create a word dictionary\n",
    "\n",
    "To begin with, we need to construct a way to map words that appear in the reviews to integers. Here we fix the size of our vocabulary (including the 'no word' and 'infrequent' categories) to be `5000` but you may wish to change this to see how it affects the model.\n"
   ]
  },
  {
   "cell_type": "code",
   "execution_count": 17,
   "metadata": {},
   "outputs": [],
   "source": [
    "import numpy as np\n",
    "\n",
    "def build_dict(data, vocab_size = 5000):\n",
    "    \"\"\"Construct and return a dictionary mapping each of the most frequently appearing words to a unique integer.\"\"\"\n",
    "    \n",
    "    # Determine how often each word appears in `data`. Note that `data` \n",
    "    # is a list of sentences and that a sentence is a list of words.\n",
    "    \n",
    "    word_count = {} # A dict storing the words that appear in the reviews along with how often they occur\n",
    "    for phrase in data:\n",
    "        for word in phrase:\n",
    "            if word in word_count:\n",
    "                word_count[word] += 1\n",
    "            else:\n",
    "                word_count[word] = 1\n",
    " \n",
    "    \n",
    "    # Sort the words found in `data` so that sorted_words[0] is the most frequently \n",
    "    # appearing word and sorted_words[-1] is the least frequently appearing word.\n",
    "    \n",
    "    sorted_words = None\n",
    "    sorted_words = sorted(word_count, key=word_count.get, reverse=True)\n",
    "  \n",
    "    \n",
    "    word_dict = {} # This is what we are building, a dictionary that translates words into integers\n",
    "    for idx, word in enumerate(sorted_words[:vocab_size - 2]): # The -2 is so that we save room for the 'no word'\n",
    "        word_dict[word] = idx + 2                              # 'infrequent' labels\n",
    "        \n",
    "    return word_dict    "
   ]
  },
  {
   "cell_type": "code",
   "execution_count": 18,
   "metadata": {},
   "outputs": [],
   "source": [
    "word_dict = build_dict(train_X)"
   ]
  },
  {
   "cell_type": "code",
   "execution_count": 12,
   "metadata": {
    "scrolled": true
   },
   "outputs": [
    {
     "name": "stdout",
     "output_type": "stream",
     "text": [
      "{'movi': 2, 'film': 3, 'one': 4, 'like': 5, 'time': 6, 'good': 7, 'make': 8, 'charact': 9, 'get': 10, 'see': 11, 'watch': 12, 'stori': 13, 'even': 14, 'would': 15, 'realli': 16, 'well': 17, 'scene': 18, 'look': 19, 'show': 20, 'much': 21, 'end': 22, 'peopl': 23, 'bad': 24, 'go': 25, 'great': 26, 'also': 27, 'first': 28, 'love': 29, 'think': 30, 'way': 31, 'act': 32, 'play': 33, 'made': 34, 'thing': 35, 'could': 36, 'know': 37, 'say': 38, 'seem': 39, 'work': 40, 'plot': 41, 'two': 42, 'actor': 43, 'year': 44, 'come': 45, 'mani': 46, 'seen': 47, 'take': 48, 'want': 49, 'life': 50, 'never': 51, 'littl': 52, 'best': 53, 'tri': 54, 'man': 55, 'ever': 56, 'give': 57, 'better': 58, 'still': 59, 'perform': 60, 'find': 61, 'feel': 62, 'part': 63, 'back': 64, 'use': 65, 'someth': 66, 'director': 67, 'actual': 68, 'interest': 69, 'lot': 70, 'real': 71, 'old': 72, 'cast': 73, 'though': 74, 'live': 75, 'star': 76, 'enjoy': 77, 'guy': 78, 'anoth': 79, 'new': 80, 'role': 81, 'noth': 82, '10': 83, 'funni': 84, 'music': 85, 'point': 86, 'start': 87, 'set': 88, 'girl': 89, 'origin': 90, 'day': 91, 'world': 92, 'everi': 93, 'believ': 94, 'turn': 95, 'quit': 96, 'direct': 97, 'us': 98, 'thought': 99, 'fact': 100, 'minut': 101, 'horror': 102, 'kill': 103, 'action': 104, 'comedi': 105, 'pretti': 106, 'young': 107, 'wonder': 108, 'happen': 109, 'around': 110, 'got': 111, 'effect': 112, 'right': 113, 'long': 114, 'howev': 115, 'big': 116, 'line': 117, 'famili': 118, 'enough': 119, 'seri': 120, 'may': 121, 'need': 122, 'fan': 123, 'bit': 124, 'script': 125, 'beauti': 126, 'person': 127, 'becom': 128, 'without': 129, 'must': 130, 'alway': 131, 'friend': 132, 'tell': 133, 'reason': 134, 'saw': 135, 'last': 136, 'final': 137, 'kid': 138, 'almost': 139, 'put': 140, 'least': 141, 'sure': 142, 'done': 143, 'whole': 144, 'place': 145, 'complet': 146, 'kind': 147, 'expect': 148, 'differ': 149, 'shot': 150, 'far': 151, 'mean': 152, 'anyth': 153, 'book': 154, 'laugh': 155, 'might': 156, 'name': 157, 'sinc': 158, 'begin': 159, '2': 160, 'probabl': 161, 'woman': 162, 'help': 163, 'entertain': 164, 'let': 165, 'screen': 166, 'call': 167, 'tv': 168, 'moment': 169, 'away': 170, 'read': 171, 'yet': 172, 'rather': 173, 'worst': 174, 'run': 175, 'fun': 176, 'lead': 177, 'hard': 178, 'audienc': 179, 'idea': 180, 'anyon': 181, 'episod': 182, 'american': 183, 'found': 184, 'appear': 185, 'bore': 186, 'especi': 187, 'although': 188, 'hope': 189, 'keep': 190, 'cours': 191, 'anim': 192, 'job': 193, 'goe': 194, 'move': 195, 'sens': 196, 'version': 197, 'dvd': 198, 'war': 199, 'money': 200, 'someon': 201, 'mind': 202, 'mayb': 203, 'problem': 204, 'true': 205, 'hous': 206, 'everyth': 207, 'nice': 208, 'second': 209, 'rate': 210, 'three': 211, 'night': 212, 'face': 213, 'follow': 214, 'recommend': 215, 'product': 216, 'main': 217, 'worth': 218, 'leav': 219, 'human': 220, 'special': 221, 'excel': 222, 'togeth': 223, 'wast': 224, 'sound': 225, 'everyon': 226, 'john': 227, 'hand': 228, '1': 229, 'father': 230, 'later': 231, 'eye': 232, 'said': 233, 'view': 234, 'instead': 235, 'review': 236, 'boy': 237, 'high': 238, 'hour': 239, 'miss': 240, 'classic': 241, 'talk': 242, 'wife': 243, 'understand': 244, 'left': 245, 'care': 246, 'black': 247, 'death': 248, 'open': 249, 'murder': 250, 'write': 251, 'half': 252, 'head': 253, 'rememb': 254, 'chang': 255, 'viewer': 256, 'fight': 257, 'gener': 258, 'surpris': 259, 'short': 260, 'includ': 261, 'die': 262, 'fall': 263, 'less': 264, 'els': 265, 'entir': 266, 'piec': 267, 'involv': 268, 'pictur': 269, 'simpli': 270, 'top': 271, 'power': 272, 'home': 273, 'total': 274, 'usual': 275, 'budget': 276, 'attempt': 277, 'suppos': 278, 'releas': 279, 'hollywood': 280, 'terribl': 281, 'song': 282, 'men': 283, 'possibl': 284, 'featur': 285, 'portray': 286, 'disappoint': 287, 'poor': 288, '3': 289, 'coupl': 290, 'stupid': 291, 'camera': 292, 'dead': 293, 'wrong': 294, 'low': 295, 'produc': 296, 'video': 297, 'either': 298, 'aw': 299, 'definit': 300, 'except': 301, 'rest': 302, 'given': 303, 'absolut': 304, 'women': 305, 'lack': 306, 'word': 307, 'writer': 308, 'titl': 309, 'talent': 310, 'decid': 311, 'full': 312, 'perfect': 313, 'along': 314, 'style': 315, 'close': 316, 'truli': 317, 'school': 318, 'save': 319, 'emot': 320, 'sex': 321, 'age': 322, 'next': 323, 'bring': 324, 'mr': 325, 'case': 326, 'killer': 327, 'heart': 328, 'comment': 329, 'sort': 330, 'creat': 331, 'perhap': 332, 'came': 333, 'brother': 334, 'sever': 335, 'joke': 336, 'art': 337, 'dialogu': 338, 'game': 339, 'small': 340, 'base': 341, 'flick': 342, 'written': 343, 'sequenc': 344, 'meet': 345, 'earli': 346, 'often': 347, 'other': 348, 'mother': 349, 'develop': 350, 'humor': 351, 'actress': 352, 'consid': 353, 'dark': 354, 'guess': 355, 'amaz': 356, 'unfortun': 357, 'lost': 358, 'light': 359, 'exampl': 360, 'cinema': 361, 'drama': 362, 'white': 363, 'ye': 364, 'experi': 365, 'imagin': 366, 'mention': 367, 'stop': 368, 'natur': 369, 'forc': 370, 'manag': 371, 'felt': 372, 'cut': 373, 'present': 374, 'children': 375, 'fail': 376, 'son': 377, 'car': 378, 'support': 379, 'qualiti': 380, 'ask': 381, 'hit': 382, 'side': 383, 'voic': 384, 'extrem': 385, 'impress': 386, 'wors': 387, 'evil': 388, 'stand': 389, 'went': 390, 'certainli': 391, 'basic': 392, 'oh': 393, 'overal': 394, 'favorit': 395, 'horribl': 396, 'mysteri': 397, 'number': 398, 'type': 399, 'danc': 400, 'wait': 401, 'hero': 402, 'alreadi': 403, '5': 404, 'learn': 405, 'matter': 406, '4': 407, 'michael': 408, 'genr': 409, 'fine': 410, 'despit': 411, 'throughout': 412, 'walk': 413, 'success': 414, 'histori': 415, 'question': 416, 'zombi': 417, 'town': 418, 'relationship': 419, 'realiz': 420, 'past': 421, 'child': 422, 'daughter': 423, 'late': 424, 'b': 425, 'wish': 426, 'hate': 427, 'credit': 428, 'event': 429, 'theme': 430, 'touch': 431, 'citi': 432, 'today': 433, 'sometim': 434, 'behind': 435, 'god': 436, 'twist': 437, 'sit': 438, 'deal': 439, 'stay': 440, 'annoy': 441, 'abl': 442, 'rent': 443, 'pleas': 444, 'edit': 445, 'blood': 446, 'deserv': 447, 'anyway': 448, 'comic': 449, 'appar': 450, 'soon': 451, 'gave': 452, 'etc': 453, 'level': 454, 'slow': 455, 'chanc': 456, 'score': 457, 'bodi': 458, 'brilliant': 459, 'incred': 460, 'figur': 461, 'situat': 462, 'self': 463, 'major': 464, 'stuff': 465, 'decent': 466, 'element': 467, 'return': 468, 'dream': 469, 'obvious': 470, 'order': 471, 'continu': 472, 'pace': 473, 'ridicul': 474, 'happi': 475, 'highli': 476, 'add': 477, 'group': 478, 'thank': 479, 'ladi': 480, 'novel': 481, 'pain': 482, 'speak': 483, 'career': 484, 'shoot': 485, 'strang': 486, 'heard': 487, 'sad': 488, 'polic': 489, 'husband': 490, 'import': 491, 'break': 492, 'took': 493, 'cannot': 494, 'strong': 495, 'predict': 496, 'robert': 497, 'violenc': 498, 'hilari': 499, 'recent': 500, 'countri': 501, 'known': 502, 'particularli': 503, 'pick': 504, 'documentari': 505, 'season': 506, 'critic': 507, 'jame': 508, 'compar': 509, 'obviou': 510, 'alon': 511, 'told': 512, 'state': 513, 'visual': 514, 'rock': 515, 'offer': 516, 'theater': 517, 'exist': 518, 'opinion': 519, 'gore': 520, 'hold': 521, 'crap': 522, 'result': 523, 'room': 524, 'realiti': 525, 'hear': 526, 'clich': 527, 'effort': 528, 'thriller': 529, 'caus': 530, 'serious': 531, 'sequel': 532, 'explain': 533, 'king': 534, 'local': 535, 'ago': 536, 'hell': 537, 'none': 538, 'note': 539, 'allow': 540, 'sister': 541, 'david': 542, 'simpl': 543, 'femal': 544, 'deliv': 545, 'ok': 546, 'class': 547, 'convinc': 548, 'check': 549, 'suspens': 550, 'win': 551, 'buy': 552, 'oscar': 553, 'huge': 554, 'valu': 555, 'sexual': 556, 'scari': 557, 'cool': 558, 'similar': 559, 'excit': 560, 'apart': 561, 'exactli': 562, 'provid': 563, 'avoid': 564, 'shown': 565, 'seriou': 566, 'english': 567, 'whose': 568, 'taken': 569, 'cinematographi': 570, 'shock': 571, 'polit': 572, 'spoiler': 573, 'offic': 574, 'across': 575, 'middl': 576, 'street': 577, 'pass': 578, 'messag': 579, 'somewhat': 580, 'charm': 581, 'silli': 582, 'modern': 583, 'filmmak': 584, 'confus': 585, 'form': 586, 'tale': 587, 'singl': 588, 'jack': 589, 'mostli': 590, 'william': 591, 'carri': 592, 'attent': 593, 'sing': 594, 'subject': 595, 'five': 596, 'prove': 597, 'richard': 598, 'stage': 599, 'team': 600, 'unlik': 601, 'cop': 602, 'georg': 603, 'monster': 604, 'televis': 605, 'earth': 606, 'villain': 607, 'cover': 608, 'pay': 609, 'marri': 610, 'toward': 611, 'build': 612, 'pull': 613, 'parent': 614, 'due': 615, 'respect': 616, 'fill': 617, 'dialog': 618, 'four': 619, 'remind': 620, 'futur': 621, 'weak': 622, 'typic': 623, '7': 624, 'cheap': 625, 'intellig': 626, 'atmospher': 627, 'british': 628, '80': 629, 'clearli': 630, 'dog': 631, 'paul': 632, 'non': 633, 'fast': 634, 'artist': 635, 'knew': 636, '8': 637, 'crime': 638, 'easili': 639, 'escap': 640, 'adult': 641, 'doubt': 642, 'detail': 643, 'date': 644, 'fire': 645, 'member': 646, 'romant': 647, 'drive': 648, 'gun': 649, 'straight': 650, 'beyond': 651, 'fit': 652, 'attack': 653, 'imag': 654, 'upon': 655, 'posit': 656, 'whether': 657, 'peter': 658, 'fantast': 659, 'appreci': 660, 'aspect': 661, 'captur': 662, 'ten': 663, 'plan': 664, 'discov': 665, 'remain': 666, 'period': 667, 'near': 668, 'realist': 669, 'air': 670, 'mark': 671, 'red': 672, 'dull': 673, 'adapt': 674, 'within': 675, 'lose': 676, 'spend': 677, 'color': 678, 'materi': 679, 'chase': 680, 'mari': 681, 'storylin': 682, 'forget': 683, 'bunch': 684, 'clear': 685, 'lee': 686, 'victim': 687, 'nearli': 688, 'box': 689, 'york': 690, 'match': 691, 'inspir': 692, 'finish': 693, 'mess': 694, 'standard': 695, 'easi': 696, 'truth': 697, 'busi': 698, 'suffer': 699, 'space': 700, 'dramat': 701, 'bill': 702, 'western': 703, 'e': 704, 'list': 705, 'battl': 706, 'notic': 707, 'de': 708, 'french': 709, 'ad': 710, '9': 711, 'tom': 712, 'larg': 713, 'among': 714, 'eventu': 715, 'accept': 716, 'train': 717, 'agre': 718, 'soundtrack': 719, 'spirit': 720, 'third': 721, 'teenag': 722, 'adventur': 723, 'soldier': 724, 'suggest': 725, 'sorri': 726, 'drug': 727, 'famou': 728, 'cri': 729, 'normal': 730, 'babi': 731, 'ultim': 732, 'troubl': 733, 'contain': 734, 'certain': 735, 'cultur': 736, 'romanc': 737, 'rare': 738, 'lame': 739, 'somehow': 740, 'disney': 741, 'mix': 742, 'gone': 743, 'cartoon': 744, 'student': 745, 'fear': 746, 'reveal': 747, 'suck': 748, 'kept': 749, 'attract': 750, 'appeal': 751, 'premis': 752, 'greatest': 753, 'secret': 754, 'design': 755, 'shame': 756, 'throw': 757, 'scare': 758, 'copi': 759, 'wit': 760, 'america': 761, 'admit': 762, 'particular': 763, 'brought': 764, 'relat': 765, 'screenplay': 766, 'whatev': 767, 'pure': 768, '70': 769, 'averag': 770, 'harri': 771, 'master': 772, 'describ': 773, 'treat': 774, 'male': 775, '20': 776, 'issu': 777, 'fantasi': 778, 'warn': 779, 'inde': 780, 'background': 781, 'forward': 782, 'free': 783, 'project': 784, 'memor': 785, 'japanes': 786, 'poorli': 787, 'award': 788, 'locat': 789, 'amus': 790, 'potenti': 791, 'struggl': 792, 'magic': 793, 'weird': 794, 'societi': 795, 'okay': 796, 'imdb': 797, 'doctor': 798, 'accent': 799, 'water': 800, 'hot': 801, 'express': 802, '30': 803, 'alien': 804, 'dr': 805, 'odd': 806, 'choic': 807, 'crazi': 808, 'studio': 809, 'fiction': 810, 'control': 811, 'becam': 812, 'masterpiec': 813, 'difficult': 814, 'fli': 815, 'joe': 816, 'scream': 817, 'costum': 818, 'lover': 819, 'uniqu': 820, 'refer': 821, 'remak': 822, 'vampir': 823, 'girlfriend': 824, 'prison': 825, 'execut': 826, 'wear': 827, 'jump': 828, 'unless': 829, 'wood': 830, 'creepi': 831, 'cheesi': 832, 'superb': 833, 'otherwis': 834, 'parti': 835, 'roll': 836, 'ghost': 837, 'mad': 838, 'public': 839, 'depict': 840, 'badli': 841, 'moral': 842, 'jane': 843, 'week': 844, 'earlier': 845, 'dumb': 846, 'fi': 847, 'grow': 848, 'flaw': 849, 'deep': 850, 'sci': 851, 'maker': 852, 'cat': 853, 'footag': 854, 'connect': 855, 'older': 856, 'plenti': 857, 'bother': 858, 'outsid': 859, 'stick': 860, 'gay': 861, 'catch': 862, 'co': 863, 'plu': 864, 'popular': 865, 'equal': 866, 'social': 867, 'disturb': 868, 'quickli': 869, 'perfectli': 870, 'dress': 871, 'era': 872, '90': 873, 'mistak': 874, 'lie': 875, 'ride': 876, 'previou': 877, 'combin': 878, 'concept': 879, 'band': 880, 'surviv': 881, 'answer': 882, 'rich': 883, 'front': 884, 'christma': 885, 'sweet': 886, 'insid': 887, 'bare': 888, 'eat': 889, 'concern': 890, 'listen': 891, 'beat': 892, 'ben': 893, 'c': 894, 'term': 895, 'serv': 896, 'german': 897, 'meant': 898, 'la': 899, 'stereotyp': 900, 'hardli': 901, 'law': 902, 'innoc': 903, 'desper': 904, 'memori': 905, 'promis': 906, 'intent': 907, 'cute': 908, 'inform': 909, 'variou': 910, 'steal': 911, 'brain': 912, 'post': 913, 'tone': 914, 'island': 915, 'amount': 916, 'nuditi': 917, 'track': 918, 'compani': 919, 'store': 920, 'claim': 921, 'hair': 922, 'flat': 923, '50': 924, 'land': 925, 'univers': 926, 'kick': 927, 'fairli': 928, 'danger': 929, 'scott': 930, 'player': 931, 'plain': 932, 'step': 933, 'crew': 934, 'toni': 935, 'share': 936, 'tast': 937, 'centuri': 938, 'achiev': 939, 'engag': 940, 'cold': 941, 'travel': 942, 'record': 943, 'rip': 944, 'suit': 945, 'sadli': 946, 'manner': 947, 'tension': 948, 'wrote': 949, 'spot': 950, 'fascin': 951, 'intens': 952, 'familiar': 953, 'burn': 954, 'depth': 955, 'remark': 956, 'destroy': 957, 'histor': 958, 'sleep': 959, 'purpos': 960, 'languag': 961, 'ignor': 962, 'ruin': 963, 'delight': 964, 'italian': 965, 'unbeliev': 966, 'soul': 967, 'collect': 968, 'abil': 969, 'clever': 970, 'detect': 971, 'violent': 972, 'rape': 973, 'reach': 974, 'door': 975, 'liter': 976, 'trash': 977, 'scienc': 978, 'reveng': 979, 'caught': 980, 'commun': 981, 'creatur': 982, 'trip': 983, 'approach': 984, 'intrigu': 985, 'fashion': 986, 'skill': 987, 'introduc': 988, 'paint': 989, 'complex': 990, 'channel': 991, 'camp': 992, 'christian': 993, 'extra': 994, 'hole': 995, 'mental': 996, 'immedi': 997, 'limit': 998, 'ann': 999, 'million': 1000, '6': 1001, 'mere': 1002, 'slightli': 1003, 'comput': 1004, 'conclus': 1005, 'slasher': 1006, 'suddenli': 1007, 'imposs': 1008, 'neither': 1009, 'crimin': 1010, 'teen': 1011, 'nation': 1012, 'physic': 1013, 'spent': 1014, 'respons': 1015, 'planet': 1016, 'receiv': 1017, 'fake': 1018, 'sick': 1019, 'blue': 1020, 'bizarr': 1021, 'embarrass': 1022, 'indian': 1023, '15': 1024, 'ring': 1025, 'drop': 1026, 'pop': 1027, 'drag': 1028, 'haunt': 1029, 'suspect': 1030, 'pointless': 1031, 'search': 1032, 'edg': 1033, 'handl': 1034, 'common': 1035, 'biggest': 1036, 'arriv': 1037, 'hurt': 1038, 'faith': 1039, 'technic': 1040, 'angel': 1041, 'genuin': 1042, 'dad': 1043, 'solid': 1044, 'awesom': 1045, 'f': 1046, 'former': 1047, 'van': 1048, 'focu': 1049, 'colleg': 1050, 'count': 1051, 'heavi': 1052, 'tear': 1053, 'rais': 1054, 'wall': 1055, 'laughabl': 1056, 'younger': 1057, 'visit': 1058, 'fair': 1059, 'excus': 1060, 'sign': 1061, 'cult': 1062, 'motion': 1063, 'tough': 1064, 'key': 1065, 'super': 1066, 'desir': 1067, 'addit': 1068, 'stun': 1069, 'exploit': 1070, 'cloth': 1071, 'tortur': 1072, 'smith': 1073, 'race': 1074, 'davi': 1075, 'author': 1076, 'cross': 1077, 'jim': 1078, 'consist': 1079, 'compel': 1080, 'focus': 1081, 'minor': 1082, 'commit': 1083, 'pathet': 1084, 'chemistri': 1085, 'park': 1086, 'frank': 1087, 'tradit': 1088, 'obsess': 1089, 'grade': 1090, '60': 1091, 'asid': 1092, 'brutal': 1093, 'somewher': 1094, 'steve': 1095, 'grant': 1096, 'u': 1097, 'opportun': 1098, 'explor': 1099, 'rule': 1100, 'depress': 1101, 'honest': 1102, 'besid': 1103, 'dub': 1104, 'anti': 1105, 'intend': 1106, 'trailer': 1107, 'bar': 1108, 'scientist': 1109, 'longer': 1110, 'regard': 1111, 'west': 1112, 'judg': 1113, 'decad': 1114, 'silent': 1115, 'armi': 1116, 'creativ': 1117, 'wild': 1118, 'south': 1119, 'stewart': 1120, 'g': 1121, 'draw': 1122, 'road': 1123, 'govern': 1124, 'ex': 1125, 'boss': 1126, 'practic': 1127, 'festiv': 1128, 'surprisingli': 1129, 'gang': 1130, 'club': 1131, 'motiv': 1132, 'green': 1133, 'redeem': 1134, 'london': 1135, 'page': 1136, 'aliv': 1137, 'militari': 1138, 'idiot': 1139, 'machin': 1140, 'display': 1141, 'repeat': 1142, 'thrill': 1143, 'yeah': 1144, 'folk': 1145, 'nobodi': 1146, '100': 1147, '40': 1148, 'journey': 1149, 'garbag': 1150, 'ground': 1151, 'tire': 1152, 'smile': 1153, 'bought': 1154, 'mood': 1155, 'cost': 1156, 'sam': 1157, 'stone': 1158, 'mouth': 1159, 'noir': 1160, 'terrif': 1161, 'agent': 1162, 'utterli': 1163, 'requir': 1164, 'honestli': 1165, 'sexi': 1166, 'area': 1167, 'report': 1168, 'geniu': 1169, 'glad': 1170, 'investig': 1171, 'humour': 1172, 'enter': 1173, 'serial': 1174, 'occasion': 1175, 'passion': 1176, 'narr': 1177, 'climax': 1178, 'marriag': 1179, 'studi': 1180, 'industri': 1181, 'charli': 1182, 'nowher': 1183, 'center': 1184, 'ship': 1185, 'demon': 1186, 'bear': 1187, 'loos': 1188, 'hors': 1189, 'hang': 1190, 'wow': 1191, 'graphic': 1192, 'admir': 1193, 'giant': 1194, 'send': 1195, 'damn': 1196, 'loud': 1197, 'profession': 1198, 'subtl': 1199, 'rel': 1200, 'nake': 1201, 'blow': 1202, 'bottom': 1203, 'insult': 1204, 'batman': 1205, 'boyfriend': 1206, 'r': 1207, 'kelli': 1208, 'doubl': 1209, 'initi': 1210, 'frame': 1211, 'gem': 1212, 'opera': 1213, 'church': 1214, 'cinemat': 1215, 'drawn': 1216, 'challeng': 1217, 'affect': 1218, 'evid': 1219, 'fulli': 1220, 'seek': 1221, 'nightmar': 1222, 'l': 1223, 'j': 1224, 'conflict': 1225, 'arm': 1226, 'essenti': 1227, 'wind': 1228, 'christoph': 1229, 'grace': 1230, 'henri': 1231, 'narrat': 1232, 'witch': 1233, 'assum': 1234, 'push': 1235, 'hunt': 1236, 'chri': 1237, 'wise': 1238, 'repres': 1239, 'nomin': 1240, 'month': 1241, 'hide': 1242, 'sceneri': 1243, 'affair': 1244, 'avail': 1245, 'bond': 1246, 'smart': 1247, 'justic': 1248, 'thu': 1249, 'interview': 1250, 'flashback': 1251, 'outstand': 1252, 'presenc': 1253, 'constantli': 1254, 'satisfi': 1255, 'bed': 1256, 'central': 1257, 'content': 1258, 'sell': 1259, 'iron': 1260, 'everybodi': 1261, 'gag': 1262, 'slowli': 1263, 'hotel': 1264, 'hire': 1265, 'system': 1266, 'individu': 1267, 'hey': 1268, 'thrown': 1269, 'charl': 1270, 'adam': 1271, 'jone': 1272, 'allen': 1273, 'mediocr': 1274, 'billi': 1275, 'ray': 1276, 'lesson': 1277, 'cameo': 1278, 'photographi': 1279, 'fellow': 1280, 'pari': 1281, 'strike': 1282, 'brief': 1283, 'absurd': 1284, 'independ': 1285, 'rise': 1286, 'neg': 1287, 'impact': 1288, 'phone': 1289, 'model': 1290, 'born': 1291, 'ill': 1292, 'fresh': 1293, 'angl': 1294, 'spoil': 1295, 'abus': 1296, 'likabl': 1297, 'hill': 1298, 'discuss': 1299, 'sight': 1300, 'ahead': 1301, 'sent': 1302, 'photograph': 1303, 'occur': 1304, 'shine': 1305, 'blame': 1306, 'logic': 1307, 'bruce': 1308, 'mainli': 1309, 'skip': 1310, 'forev': 1311, 'commerci': 1312, 'teacher': 1313, 'surround': 1314, 'held': 1315, 'segment': 1316, 'zero': 1317, 'blond': 1318, 'trap': 1319, 'summer': 1320, 'resembl': 1321, 'satir': 1322, 'fool': 1323, 'ball': 1324, 'six': 1325, 'queen': 1326, 'twice': 1327, 'tragedi': 1328, 'sub': 1329, 'pack': 1330, 'reaction': 1331, 'bomb': 1332, 'will': 1333, 'protagonist': 1334, 'hospit': 1335, 'sport': 1336, 'mile': 1337, 'drink': 1338, 'mom': 1339, 'vote': 1340, 'trust': 1341, 'jerri': 1342, 'encount': 1343, 'plane': 1344, 'al': 1345, 'current': 1346, 'station': 1347, 'program': 1348, 'martin': 1349, 'choos': 1350, 'celebr': 1351, 'join': 1352, 'favourit': 1353, 'tragic': 1354, 'field': 1355, 'round': 1356, 'lord': 1357, 'jean': 1358, 'vision': 1359, 'robot': 1360, 'arthur': 1361, 'tie': 1362, 'fortun': 1363, 'random': 1364, 'roger': 1365, 'psycholog': 1366, 'dread': 1367, 'intern': 1368, 'improv': 1369, 'epic': 1370, 'prefer': 1371, 'nonsens': 1372, 'highlight': 1373, 'legend': 1374, 'formula': 1375, 'pleasur': 1376, 'dollar': 1377, '11': 1378, 'tape': 1379, 'wide': 1380, 'fox': 1381, 'object': 1382, 'gorgeou': 1383, 'porn': 1384, 'thin': 1385, 'influenc': 1386, 'buddi': 1387, 'ugli': 1388, 'ii': 1389, 'nasti': 1390, 'prepar': 1391, 'supposedli': 1392, 'warm': 1393, 'progress': 1394, 'reflect': 1395, 'worthi': 1396, 'youth': 1397, 'length': 1398, 'unusu': 1399, 'latter': 1400, 'crash': 1401, 'childhood': 1402, 'superior': 1403, 'seven': 1404, 'shop': 1405, 'remot': 1406, 'theatr': 1407, 'paid': 1408, 'pilot': 1409, 'funniest': 1410, 'disgust': 1411, 'trick': 1412, 'fell': 1413, 'castl': 1414, 'convers': 1415, 'disast': 1416, 'rob': 1417, 'gangster': 1418, 'establish': 1419, 'disappear': 1420, 'mine': 1421, 'suicid': 1422, 'ident': 1423, 'heaven': 1424, 'mask': 1425, 'forgotten': 1426, 'tend': 1427, 'decis': 1428, 'singer': 1429, 'heroin': 1430, 'partner': 1431, 'brian': 1432, 'recogn': 1433, 'desert': 1434, 'alan': 1435, 'stuck': 1436, 'sky': 1437, 'thoroughli': 1438, 'ms': 1439, 'p': 1440, 'replac': 1441, 'accur': 1442, 'market': 1443, 'commentari': 1444, 'seemingli': 1445, 'danni': 1446, 'uncl': 1447, 'eddi': 1448, 'andi': 1449, 'clue': 1450, 'devil': 1451, 'jackson': 1452, 'that': 1453, 'therefor': 1454, 'refus': 1455, 'pair': 1456, 'unit': 1457, 'fate': 1458, 'accid': 1459, 'river': 1460, 'fault': 1461, 'ed': 1462, 'afraid': 1463, 'tune': 1464, 'stephen': 1465, 'clean': 1466, 'hidden': 1467, 'russian': 1468, 'captain': 1469, 'quick': 1470, 'readi': 1471, 'irrit': 1472, 'test': 1473, 'convey': 1474, 'instanc': 1475, 'european': 1476, 'daniel': 1477, 'insan': 1478, 'frustrat': 1479, 'food': 1480, 'chines': 1481, '1950': 1482, 'rescu': 1483, 'wed': 1484, 'dirti': 1485, 'angri': 1486, 'lock': 1487, 'joy': 1488, 'price': 1489, 'steven': 1490, 'bland': 1491, 'cage': 1492, 'anymor': 1493, 'rang': 1494, 'wooden': 1495, 'rush': 1496, 'jason': 1497, 'n': 1498, 'news': 1499, 'martial': 1500, 'board': 1501, 'led': 1502, 'worri': 1503, '12': 1504, 'twenti': 1505, 'cgi': 1506, 'hunter': 1507, 'symbol': 1508, 'transform': 1509, 'onto': 1510, 'johnni': 1511, 'invent': 1512, 'piti': 1513, 'x': 1514, 'sentiment': 1515, 'process': 1516, 'explan': 1517, 'attitud': 1518, 'owner': 1519, 'awar': 1520, 'aim': 1521, 'floor': 1522, 'necessari': 1523, 'energi': 1524, 'favor': 1525, 'target': 1526, 'opposit': 1527, 'religi': 1528, 'chick': 1529, 'window': 1530, 'blind': 1531, 'insight': 1532, 'movement': 1533, 'comparison': 1534, 'possess': 1535, 'deepli': 1536, 'research': 1537, 'mountain': 1538, 'grand': 1539, 'rain': 1540, 'comed': 1541, 'whatsoev': 1542, 'bank': 1543, 'began': 1544, 'mid': 1545, 'shadow': 1546, 'princ': 1547, 'parodi': 1548, 'friendship': 1549, 'pre': 1550, 'taylor': 1551, 'weapon': 1552, 'credibl': 1553, 'flesh': 1554, 'dougla': 1555, 'teach': 1556, 'terror': 1557, 'protect': 1558, 'hint': 1559, 'bloodi': 1560, 'marvel': 1561, 'anybodi': 1562, 'leader': 1563, 'accord': 1564, 'watchabl': 1565, 'load': 1566, 'superman': 1567, 'drunk': 1568, 'brown': 1569, 'freddi': 1570, 'tim': 1571, 'jeff': 1572, 'appropri': 1573, 'seat': 1574, 'hitler': 1575, 'knock': 1576, 'villag': 1577, 'charg': 1578, 'unknown': 1579, 'keaton': 1580, 'media': 1581, 'empti': 1582, 'unnecessari': 1583, 'england': 1584, 'enemi': 1585, 'perspect': 1586, 'strength': 1587, 'craft': 1588, 'wave': 1589, 'utter': 1590, 'buck': 1591, 'dare': 1592, 'ford': 1593, 'correct': 1594, 'nativ': 1595, 'contrast': 1596, 'kiss': 1597, 'knowledg': 1598, 'speed': 1599, 'distract': 1600, 'soap': 1601, 'magnific': 1602, 'anywher': 1603, 'chill': 1604, 'nazi': 1605, 'breath': 1606, '1980': 1607, 'mission': 1608, 'ice': 1609, 'fred': 1610, 'moon': 1611, 'crowd': 1612, 'jr': 1613, 'joan': 1614, '000': 1615, 'kate': 1616, 'soft': 1617, 'frighten': 1618, 'nick': 1619, 'hundr': 1620, 'dick': 1621, 'dan': 1622, 'dozen': 1623, 'simon': 1624, 'radio': 1625, 'somebodi': 1626, 'andrew': 1627, 'academi': 1628, 'loss': 1629, 'shakespear': 1630, 'thousand': 1631, 'quot': 1632, 'vehicl': 1633, 'account': 1634, 'sum': 1635, 'root': 1636, 'leg': 1637, 'convent': 1638, '1970': 1639, 'behavior': 1640, 'gold': 1641, 'regular': 1642, 'demand': 1643, 'worker': 1644, 'compet': 1645, 'pretenti': 1646, 'candi': 1647, 'privat': 1648, 'explos': 1649, 'interpret': 1650, 'stretch': 1651, 'notabl': 1652, 'japan': 1653, 'lynch': 1654, 'debut': 1655, 'constant': 1656, 'tarzan': 1657, 'translat': 1658, 'sea': 1659, 'prais': 1660, 'revolv': 1661, 'spi': 1662, 'failur': 1663, 'technolog': 1664, 'jesu': 1665, 'ass': 1666, 'sat': 1667, 'threaten': 1668, 'franc': 1669, 'quiet': 1670, 'toy': 1671, 'punch': 1672, 'kevin': 1673, 'met': 1674, 'higher': 1675, 'aid': 1676, 'abandon': 1677, 'interact': 1678, 'vh': 1679, 'mike': 1680, 'confront': 1681, 'bet': 1682, 'command': 1683, 'separ': 1684, 'site': 1685, 'recal': 1686, 'stunt': 1687, 'servic': 1688, 'gotten': 1689, 'techniqu': 1690, 'belong': 1691, 'cabl': 1692, 'foot': 1693, 'freak': 1694, 'bug': 1695, 'fu': 1696, 'african': 1697, 'capabl': 1698, 'jimmi': 1699, 'bright': 1700, 'presid': 1701, 'succeed': 1702, 'fat': 1703, 'stock': 1704, 'boat': 1705, 'clark': 1706, 'spanish': 1707, 'gene': 1708, 'structur': 1709, 'kidnap': 1710, 'paper': 1711, 'whilst': 1712, 'factor': 1713, 'belief': 1714, 'complic': 1715, 'realism': 1716, 'bob': 1717, 'realis': 1718, 'witti': 1719, 'educ': 1720, 'attend': 1721, 'tree': 1722, 'assist': 1723, 'santa': 1724, 'broken': 1725, 'finest': 1726, 'up': 1727, 'determin': 1728, 'depart': 1729, 'v': 1730, 'observ': 1731, 'smoke': 1732, 'hat': 1733, 'rubbish': 1734, 'domin': 1735, 'routin': 1736, 'lewi': 1737, 'fame': 1738, 'oper': 1739, 'safe': 1740, 'morgan': 1741, 'foreign': 1742, 'lone': 1743, 'hook': 1744, 'kinda': 1745, 'advanc': 1746, 'numer': 1747, 'rank': 1748, 'civil': 1749, 'rose': 1750, 'vs': 1751, 'shallow': 1752, 'washington': 1753, 'shape': 1754, 'werewolf': 1755, 'gari': 1756, 'morn': 1757, 'kong': 1758, 'accomplish': 1759, 'winner': 1760, 'ordinari': 1761, 'grab': 1762, 'whenev': 1763, 'virtual': 1764, 'peac': 1765, 'luck': 1766, 'h': 1767, 'offens': 1768, 'welcom': 1769, 'activ': 1770, 'bigger': 1771, 'complain': 1772, 'contriv': 1773, 'unfunni': 1774, 'patient': 1775, 'con': 1776, 'dimension': 1777, 'pretend': 1778, 'trek': 1779, 'code': 1780, 'eric': 1781, 'dri': 1782, 'lesbian': 1783, 'flash': 1784, 'cain': 1785, 'wake': 1786, 'dancer': 1787, 'guard': 1788, 'statu': 1789, 'corrupt': 1790, 'manipul': 1791, 'albert': 1792, 'signific': 1793, 'gain': 1794, 'awkward': 1795, 'sourc': 1796, 'context': 1797, 'speech': 1798, '13': 1799, 'anthoni': 1800, 'corni': 1801, 'psycho': 1802, 'clip': 1803, 'sean': 1804, 'priest': 1805, 'religion': 1806, 'theatric': 1807, 'reli': 1808, 'w': 1809, 'curiou': 1810, 'advic': 1811, 'flow': 1812, 'addict': 1813, 'howard': 1814, 'jennif': 1815, 'specif': 1816, 'asian': 1817, 'secur': 1818, 'skin': 1819, 'golden': 1820, 'promot': 1821, 'core': 1822, 'organ': 1823, 'luke': 1824, 'comfort': 1825, 'cash': 1826, 'lucki': 1827, 'cheat': 1828, 'associ': 1829, 'lower': 1830, 'dislik': 1831, 'degre': 1832, 'balanc': 1833, 'contribut': 1834, 'devic': 1835, 'regret': 1836, 'wing': 1837, 'spell': 1838, 'frankli': 1839, 'frequent': 1840, 'print': 1841, 'lake': 1842, 'forgiv': 1843, 'sake': 1844, 'thoma': 1845, 'betti': 1846, 'mass': 1847, 'gordon': 1848, 'unexpect': 1849, 'crack': 1850, 'depend': 1851, 'unfold': 1852, 'categori': 1853, 'grown': 1854, 'construct': 1855, 'invit': 1856, 'amateur': 1857, 'honor': 1858, 'grew': 1859, 'intellectu': 1860, 'walter': 1861, 'anna': 1862, 'matur': 1863, 'condit': 1864, 'spectacular': 1865, 'sudden': 1866, 'mirror': 1867, 'veteran': 1868, 'sole': 1869, 'liner': 1870, 'freedom': 1871, 'demonstr': 1872, 'card': 1873, 'grip': 1874, 'meanwhil': 1875, 'gift': 1876, 'overli': 1877, 'experienc': 1878, 'robin': 1879, 'unabl': 1880, 'oliv': 1881, 'circumst': 1882, 'brilliantli': 1883, 'section': 1884, 'crappi': 1885, 'drew': 1886, 'sheriff': 1887, 'subtitl': 1888, 'theori': 1889, 'colour': 1890, 'altern': 1891, 'cook': 1892, 'pile': 1893, 'laughter': 1894, 'path': 1895, 'parker': 1896, 'matt': 1897, 'sheer': 1898, 'lawyer': 1899, 'treatment': 1900, 'defin': 1901, 'accident': 1902, 'relief': 1903, 'wander': 1904, 'sinatra': 1905, 'hall': 1906, 'hank': 1907, 'captiv': 1908, 'dragon': 1909, 'gratuit': 1910, 'moor': 1911, 'halloween': 1912, 'kung': 1913, 'wound': 1914, 'wayn': 1915, 'barbara': 1916, 'unintent': 1917, 'broadway': 1918, 'k': 1919, 'jacki': 1920, 'cowboy': 1921, 'statement': 1922, 'winter': 1923, 'surreal': 1924, 'spoof': 1925, 'canadian': 1926, 'gonna': 1927, 'fare': 1928, 'compos': 1929, 'cheer': 1930, 'treasur': 1931, 'fish': 1932, 'emerg': 1933, 'unrealist': 1934, 'woodi': 1935, 'sensit': 1936, 'victor': 1937, 'sympathet': 1938, 'neighbor': 1939, 'driven': 1940, 'ran': 1941, 'authent': 1942, 'menac': 1943, 'overlook': 1944, 'topic': 1945, 'glass': 1946, 'expos': 1947, 'michel': 1948, 'gross': 1949, 'ancient': 1950, 'handsom': 1951, 'chief': 1952, 'russel': 1953, 'nevertheless': 1954, 'comedian': 1955, 'feet': 1956, 'contemporari': 1957, 'network': 1958, 'pleasant': 1959, 'stranger': 1960, 'cinderella': 1961, 'built': 1962, 'endless': 1963, 'underr': 1964, 'blockbust': 1965, 'gori': 1966, 'letter': 1967, 'earn': 1968, 'miser': 1969, 'consider': 1970, 'brook': 1971, 'solv': 1972, 'switch': 1973, 'bullet': 1974, 'joseph': 1975, 'edward': 1976, 'virgin': 1977, 'convict': 1978, 'victoria': 1979, 'chosen': 1980, 'cynic': 1981, 'scenario': 1982, 'scale': 1983, 'alex': 1984, '0': 1985, 'com': 1986, 'sword': 1987, 'curs': 1988, 'gut': 1989, 'outrag': 1990, 'driver': 1991, 'uk': 1992, 'juli': 1993, 'screenwrit': 1994, 'monkey': 1995, 'wrap': 1996, 'substanc': 1997, 'proper': 1998, 'remov': 1999, 'court': 2000, 'bird': 2001, 'indic': 2002, 'par': 2003, 'loser': 2004, 'advertis': 2005, 'nanci': 2006, 'inevit': 2007, 'consequ': 2008, 'rental': 2009, 'naiv': 2010, 'grave': 2011, 'roy': 2012, 'fatal': 2013, 'bridg': 2014, 'invis': 2015, 'le': 2016, 'slap': 2017, 'germani': 2018, 'brave': 2019, 'anger': 2020, 'ador': 2021, 'loui': 2022, 'provok': 2023, 'footbal': 2024, 'alcohol': 2025, 'anderson': 2026, 'chan': 2027, 'professor': 2028, 'ryan': 2029, 'willi': 2030, 'stumbl': 2031, 'sharp': 2032, 'australian': 2033, '1930': 2034, 'assassin': 2035, 'patrick': 2036, 'bat': 2037, 'trilog': 2038, 'deni': 2039, 'heck': 2040, 'amateurish': 2041, 'strongli': 2042, 'lousi': 2043, 'eight': 2044, 'saturday': 2045, 'refresh': 2046, 'cell': 2047, 'ape': 2048, 'liber': 2049, 'sin': 2050, 'vagu': 2051, 'justifi': 2052, 'san': 2053, 'resid': 2054, 'indi': 2055, 'reput': 2056, 'creator': 2057, 'sympathi': 2058, 'defeat': 2059, 'terrifi': 2060, 'mini': 2061, 'tediou': 2062, 'prevent': 2063, 'task': 2064, 'expert': 2065, 'endur': 2066, 'tabl': 2067, 'trial': 2068, 'rival': 2069, 'offend': 2070, 'basebal': 2071, 'imit': 2072, 'employ': 2073, 'che': 2074, 'dig': 2075, 'fairi': 2076, 'europ': 2077, 'complaint': 2078, 'max': 2079, 'pitch': 2080, 'weekend': 2081, 'beach': 2082, 'murphi': 2083, 'risk': 2084, 'purchas': 2085, 'format': 2086, 'tini': 2087, 'hype': 2088, 'harsh': 2089, 'reminisc': 2090, 'bite': 2091, 'nois': 2092, 'glimps': 2093, 'powel': 2094, 'titan': 2095, 'fals': 2096, 'asleep': 2097, 'till': 2098, '14': 2099, 'strip': 2100, 'north': 2101, 'prime': 2102, 'destruct': 2103, 'africa': 2104, 'texa': 2105, 'descript': 2106, 'revel': 2107, 'arrest': 2108, 'semi': 2109, 'inner': 2110, 'sitcom': 2111, 'uninterest': 2112, 'surfac': 2113, 'excess': 2114, 'spin': 2115, 'controversi': 2116, 'hitchcock': 2117, 'twin': 2118, 'makeup': 2119, 'maintain': 2120, 'argu': 2121, 'massiv': 2122, 'dinosaur': 2123, 'expens': 2124, 'ludicr': 2125, 'melodrama': 2126, 'stare': 2127, 'kim': 2128, 'insist': 2129, 'reject': 2130, 'ideal': 2131, 'nail': 2132, 'erot': 2133, 'supernatur': 2134, 'atroci': 2135, 'columbo': 2136, 'ala': 2137, 'press': 2138, 'ga': 2139, 'subplot': 2140, 'host': 2141, 'forest': 2142, 'dude': 2143, 'notch': 2144, 'identifi': 2145, 'presum': 2146, 'cant': 2147, 'character': 2148, 'crude': 2149, 'guest': 2150, 'plagu': 2151, 'method': 2152, 'forgett': 2153, 'closer': 2154, 'border': 2155, 'landscap': 2156, 'lion': 2157, 'ear': 2158, 'beast': 2159, 'princess': 2160, 'foster': 2161, 'jungl': 2162, 'birth': 2163, 'bound': 2164, 'previous': 2165, 'accus': 2166, 'pacino': 2167, 'storytel': 2168, 'damag': 2169, 'aunt': 2170, 'urban': 2171, 'emma': 2172, 'guid': 2173, 'thirti': 2174, 'jess': 2175, 'nude': 2176, 'propaganda': 2177, 'chose': 2178, 'doll': 2179, 'mainstream': 2180, 'mate': 2181, 'pet': 2182, '25': 2183, 'whoever': 2184, 'warrior': 2185, 'upset': 2186, 'size': 2187, 'cooper': 2188, 'friday': 2189, 'merit': 2190, 'exact': 2191, 'gritti': 2192, 'deadli': 2193, 'poster': 2194, 'latest': 2195, 'contest': 2196, 'contact': 2197, 'popul': 2198, '1990': 2199, 'sun': 2200, 'settl': 2201, 'blend': 2202, 'ton': 2203, 'wilson': 2204, 'warner': 2205, 'buff': 2206, 'rough': 2207, 'corps': 2208, 'citizen': 2209, 'rat': 2210, 'select': 2211, 'metal': 2212, 'widow': 2213, 'pitt': 2214, 'alic': 2215, 'overcom': 2216, 'mgm': 2217, 'environ': 2218, 'bu': 2219, 'link': 2220, 'revolut': 2221, 'lift': 2222, 'guilti': 2223, 'particip': 2224, 'ted': 2225, 'exagger': 2226, 'johnson': 2227, 'corner': 2228, '1960': 2229, 'afternoon': 2230, 'accompani': 2231, 'moron': 2232, 'matrix': 2233, 'corpor': 2234, 'prostitut': 2235, 'multipl': 2236, 'holm': 2237, 'sincer': 2238, 'hood': 2239, 'leagu': 2240, 'clair': 2241, 'doom': 2242, 'friendli': 2243, 'instal': 2244, 'defend': 2245, 'advis': 2246, 'junk': 2247, 'string': 2248, 'blah': 2249, 'campi': 2250, 'examin': 2251, 'hip': 2252, 'grim': 2253, 'sunday': 2254, 'lugosi': 2255, 'aka': 2256, 'irish': 2257, 'shut': 2258, 'icon': 2259, 'shake': 2260, 'varieti': 2261, 'rachel': 2262, 'pro': 2263, 'confid': 2264, 'tight': 2265, 'sullivan': 2266, 'attach': 2267, 'jaw': 2268, 'directli': 2269, 'goal': 2270, 'medic': 2271, 'denni': 2272, 'mexican': 2273, 'truck': 2274, 'vietnam': 2275, 'courag': 2276, 'dean': 2277, 'duke': 2278, 'sarah': 2279, 'prior': 2280, 'sentenc': 2281, 'bourn': 2282, 'legendari': 2283, 'breast': 2284, 'terrorist': 2285, 'hong': 2286, 'behav': 2287, 'proceed': 2288, 'yell': 2289, 'entri': 2290, 'donald': 2291, 'split': 2292, 'nose': 2293, 'un': 2294, 'unconvinc': 2295, 'lifetim': 2296, 'confess': 2297, 'borrow': 2298, 'everywher': 2299, 'stolen': 2300, 'jerk': 2301, 'buri': 2302, 'swim': 2303, 'forth': 2304, 'gather': 2305, 'crush': 2306, 'concentr': 2307, 'turkey': 2308, 'julia': 2309, 'deliveri': 2310, 'pan': 2311, 'spite': 2312, 'lip': 2313, 'california': 2314, 'downright': 2315, 'offici': 2316, 'freeman': 2317, 'reward': 2318, 'flight': 2319, 'quest': 2320, 'china': 2321, 'proud': 2322, 'hoffman': 2323, 'inept': 2324, 'jail': 2325, 'fabul': 2326, 'fade': 2327, 'notori': 2328, 'worthwhil': 2329, 'lazi': 2330, 'jon': 2331, 'sir': 2332, 'betray': 2333, 'sink': 2334, 'encourag': 2335, 'bell': 2336, 'bag': 2337, 'retard': 2338, 'cousin': 2339, 'relev': 2340, 'susan': 2341, 'branagh': 2342, 'storm': 2343, 'survivor': 2344, 'teeth': 2345, 'lisa': 2346, 'shower': 2347, 'imageri': 2348, 'finger': 2349, 'stab': 2350, 'quirki': 2351, 'tremend': 2352, 'bride': 2353, 'hugh': 2354, 'alright': 2355, 'summari': 2356, 'trade': 2357, 'toler': 2358, 'shark': 2359, 'mexico': 2360, 'facial': 2361, 'pose': 2362, 'blown': 2363, 'von': 2364, 'bitter': 2365, 'hyster': 2366, 'ha': 2367, 'scheme': 2368, 'ron': 2369, 'larri': 2370, 'bone': 2371, 'address': 2372, 'cruel': 2373, 'ned': 2374, 'christ': 2375, 'afterward': 2376, 'screw': 2377, 'pursu': 2378, 'tour': 2379, 'traci': 2380, 'swear': 2381, 'distinct': 2382, 'feed': 2383, 'beg': 2384, 'thumb': 2385, 'snake': 2386, 'photo': 2387, 'chair': 2388, 'obscur': 2389, 'stomach': 2390, 'occas': 2391, 'raw': 2392, 'mechan': 2393, 'hardi': 2394, 'argument': 2395, 'southern': 2396, 'sidney': 2397, 'resist': 2398, 'necessarili': 2399, 'cabin': 2400, 'heavili': 2401, 'holiday': 2402, 'render': 2403, 'gruesom': 2404, 'chain': 2405, 'racist': 2406, 'understood': 2407, 'philip': 2408, 'satan': 2409, 'indulg': 2410, 'india': 2411, 'integr': 2412, 'belov': 2413, 'forgot': 2414, 'lay': 2415, 'pregnant': 2416, 'outfit': 2417, 'midnight': 2418, 'stalk': 2419, 'tongu': 2420, 'obnoxi': 2421, 'fourth': 2422, 'slapstick': 2423, 'ticket': 2424, 'inhabit': 2425, 'restor': 2426, 'deeper': 2427, 'magazin': 2428, '17': 2429, 'garden': 2430, 'carol': 2431, 'lincoln': 2432, 'brad': 2433, 'devot': 2434, 'shoe': 2435, 'incid': 2436, 'divorc': 2437, 'underground': 2438, 'benefit': 2439, 'anticip': 2440, 'lili': 2441, 'elizabeth': 2442, 'disbelief': 2443, 'maria': 2444, 'guarante': 2445, 'sandler': 2446, 'mildli': 2447, 'explod': 2448, 'greater': 2449, 'amazingli': 2450, 'creation': 2451, 'capit': 2452, 'princip': 2453, 'slave': 2454, 'cring': 2455, 'bbc': 2456, 'introduct': 2457, 'funnier': 2458, 'lesli': 2459, 'halfway': 2460, 'extraordinari': 2461, 'overwhelm': 2462, 'wreck': 2463, 'tap': 2464, 'text': 2465, 'transfer': 2466, 'enhanc': 2467, 'punish': 2468, 'extent': 2469, 'advantag': 2470, 'jessica': 2471, 'lane': 2472, 'plant': 2473, 'east': 2474, 'dynam': 2475, 'preview': 2476, 'lo': 2477, 'deliber': 2478, 'error': 2479, 'horrif': 2480, '2000': 2481, 'miscast': 2482, 'ensu': 2483, 'appli': 2484, 'vincent': 2485, 'homosexu': 2486, 'miller': 2487, 'sophist': 2488, 'vacat': 2489, 'basi': 2490, 'sleazi': 2491, 'reed': 2492, 'elev': 2493, 'extend': 2494, 'bollywood': 2495, 'mansion': 2496, 'via': 2497, 'measur': 2498, 'uncomfort': 2499, 'steel': 2500, 'spoken': 2501, 'melt': 2502, 'cathol': 2503, 'dentist': 2504, 'blair': 2505, 'daili': 2506, 'stanley': 2507, 'mous': 2508, 'overact': 2509, 'fix': 2510, 'breathtak': 2511, 'beer': 2512, 'assign': 2513, 'alter': 2514, 'goofi': 2515, 'savag': 2516, 'hippi': 2517, 'conceiv': 2518, 'burt': 2519, 'sacrific': 2520, 'inspector': 2521, 'nowaday': 2522, 'subsequ': 2523, 'oppos': 2524, 'properli': 2525, 'everyday': 2526, 'succe': 2527, 'carpent': 2528, 'block': 2529, 'laura': 2530, 'neck': 2531, 'massacr': 2532, 'circl': 2533, 'fallen': 2534, 'christi': 2535, 'fay': 2536, 'portrait': 2537, 'seagal': 2538, 'concert': 2539, 'pool': 2540, 'grey': 2541, 'access': 2542, 'lesser': 2543, 'mob': 2544, 'jake': 2545, 'relax': 2546, 'isol': 2547, 'jewish': 2548, 'chees': 2549, 'sinist': 2550, 'usa': 2551, 'react': 2552, 'competit': 2553, 'immens': 2554, 'suitabl': 2555, 'stink': 2556, 'appal': 2557, 'creep': 2558, 'spiritu': 2559, 'nonetheless': 2560, 'chop': 2561, 'nine': 2562, 'ironi': 2563, 'lyric': 2564, '2006': 2565, 'franchis': 2566, 'spring': 2567, 'showcas': 2568, 'user': 2569, 'navi': 2570, 'luci': 2571, 'sold': 2572, 'retir': 2573, 'adopt': 2574, 'reduc': 2575, 'shirt': 2576, 'needless': 2577, 'rage': 2578, 'nut': 2579, 'per': 2580, 'bath': 2581, 'digit': 2582, 'bulli': 2583, 'stanwyck': 2584, 'jay': 2585, 'uninspir': 2586, 'zone': 2587, 'nurs': 2588, 'asham': 2589, 'amongst': 2590, 'laid': 2591, 'upper': 2592, 'illustr': 2593, 'broadcast': 2594, 'oddli': 2595, '1940': 2596, 'sutherland': 2597, '2001': 2598, 'fulfil': 2599, 'stylish': 2600, 'disguis': 2601, 'brando': 2602, 'aspir': 2603, 'baker': 2604, 'throat': 2605, 'wanna': 2606, 'thief': 2607, 'impli': 2608, 'endear': 2609, 'neighborhood': 2610, 'em': 2611, 'nobl': 2612, '18': 2613, 'pound': 2614, 'wwii': 2615, 'pride': 2616, 'distribut': 2617, 'coher': 2618, 'tens': 2619, 'albeit': 2620, 'bett': 2621, '16': 2622, 'dinner': 2623, 'prop': 2624, 'shoulder': 2625, 'diseas': 2626, 'shift': 2627, 'cinematograph': 2628, 'dawn': 2629, 'bo': 2630, 'rochest': 2631, 'matthau': 2632, 'silenc': 2633, 'forti': 2634, 'contract': 2635, 'knife': 2636, 'snow': 2637, 'rebel': 2638, 'function': 2639, 'wash': 2640, 'poignant': 2641, 'shout': 2642, 'surf': 2643, 'widmark': 2644, 'henc': 2645, 'eeri': 2646, 'cannib': 2647, 'height': 2648, 'reunion': 2649, 'cancel': 2650, 'elvira': 2651, 'duti': 2652, 'proof': 2653, 'mindless': 2654, 'silver': 2655, 'internet': 2656, 'instinct': 2657, 'chuck': 2658, 'derek': 2659, 'heat': 2660, 'horrend': 2661, 'innov': 2662, 'elvi': 2663, 'spielberg': 2664, 'repetit': 2665, 'pie': 2666, 'glori': 2667, 'greatli': 2668, 'musician': 2669, 'incoher': 2670, 'neat': 2671, 'torn': 2672, 'premier': 2673, 'alik': 2674, 'mill': 2675, 'absorb': 2676, 'etern': 2677, 'fbi': 2678, 'blank': 2679, 'racism': 2680, 'bang': 2681, 'infam': 2682, 'crisi': 2683, 'lovabl': 2684, 'itali': 2685, 'horrifi': 2686, 'announc': 2687, 'nelson': 2688, 'britain': 2689, 'precis': 2690, 'redempt': 2691, 'burton': 2692, 'wealthi': 2693, 'homag': 2694, 'diamond': 2695, 'trite': 2696, 'wilder': 2697, 'happili': 2698, 'hammer': 2699, 'chaplin': 2700, 'parallel': 2701, 'ensembl': 2702, 'resolut': 2703, 'helen': 2704, 'dedic': 2705, 'flop': 2706, 'pat': 2707, 'streisand': 2708, 'carter': 2709, 'disagre': 2710, 'factori': 2711, 'cube': 2712, 'conclud': 2713, 'broke': 2714, 'plastic': 2715, 'st': 2716, 'mar': 2717, 'triumph': 2718, 'oil': 2719, 'climb': 2720, 'vega': 2721, 'own': 2722, 'fighter': 2723, 'bush': 2724, 'weight': 2725, 'chuckl': 2726, 'march': 2727, 'row': 2728, 'rocket': 2729, 'unforgett': 2730, 'kurt': 2731, 'sensibl': 2732, 'lust': 2733, 'thug': 2734, 'mst3k': 2735, 'wherea': 2736, 'dane': 2737, 'meaning': 2738, 'boot': 2739, 'dump': 2740, 'spare': 2741, 'luca': 2742, 'enorm': 2743, 'brand': 2744, 'bobbi': 2745, 'fifti': 2746, 'engin': 2747, 'dear': 2748, 'butt': 2749, 'threat': 2750, 'difficulti': 2751, 'adequ': 2752, 'caricatur': 2753, 'rap': 2754, 'stress': 2755, 'karloff': 2756, 'arnold': 2757, 'flynn': 2758, 'ralph': 2759, 'barri': 2760, 'ego': 2761, 'hamlet': 2762, 'elabor': 2763, 'journalist': 2764, 'polish': 2765, 'arrog': 2766, 'swing': 2767, 'homeless': 2768, 'secretari': 2769, 'fest': 2770, 'spike': 2771, 'unbear': 2772, 'puppet': 2773, 'fanci': 2774, 'resort': 2775, 'arrang': 2776, 'simpson': 2777, 'induc': 2778, 'grate': 2779, 'tool': 2780, 'conspiraci': 2781, 'float': 2782, 'boll': 2783, 'cruis': 2784, 'choreograph': 2785, 'guilt': 2786, 'exercis': 2787, 'pig': 2788, 'basement': 2789, 'tribut': 2790, 'muppet': 2791, 'phillip': 2792, 'file': 2793, 'stan': 2794, 'toilet': 2795, 'puzzl': 2796, 'editor': 2797, 'document': 2798, 'babe': 2799, 'scarecrow': 2800, '24': 2801, 'layer': 2802, 'korean': 2803, 'slip': 2804, 'ham': 2805, 'fianc': 2806, 'item': 2807, 'medium': 2808, 'ward': 2809, 'tower': 2810, 'minim': 2811, 'larger': 2812, 'assur': 2813, 'territori': 2814, 'catherin': 2815, 'spark': 2816, 'superfici': 2817, 'denzel': 2818, 'portion': 2819, 'philosoph': 2820, 'inexplic': 2821, 'slaughter': 2822, 'orient': 2823, 'librari': 2824, 'transit': 2825, 'glover': 2826, 'persona': 2827, 'doc': 2828, 'ban': 2829, 'walken': 2830, 'sneak': 2831, 'owe': 2832, 'jet': 2833, 'jeremi': 2834, 'pg': 2835, 'dorothi': 2836, 'boredom': 2837, 'financi': 2838, 'shi': 2839, 'curti': 2840, 'wolf': 2841, 'ambigu': 2842, 'metaphor': 2843, 'backdrop': 2844, 'eleph': 2845, 'profound': 2846, 'whale': 2847, 'hudson': 2848, 'multi': 2849, 'cusack': 2850, '2005': 2851, 'ultra': 2852, 'elsewher': 2853, 'rave': 2854, 'stiff': 2855, 'viru': 2856, 'notion': 2857, 'union': 2858, 'hack': 2859, 'birthday': 2860, 'implaus': 2861, 'gadget': 2862, 'deriv': 2863, 'afford': 2864, 'reader': 2865, 'bibl': 2866, 'lloyd': 2867, 'urg': 2868, 'squar': 2869, '1st': 2870, 'hawk': 2871, 'superhero': 2872, 'eva': 2873, 'distanc': 2874, 'canada': 2875, 'disc': 2876, 'eastwood': 2877, 'pad': 2878, 'newspap': 2879, 'poison': 2880, 'slight': 2881, 'spread': 2882, 'montag': 2883, 'restaur': 2884, 'button': 2885, 'huh': 2886, 'health': 2887, 'skit': 2888, 'essenc': 2889, 'drown': 2890, 'charisma': 2891, 'cure': 2892, 'heston': 2893, 'sadist': 2894, 'muslim': 2895, 'peak': 2896, 'godfath': 2897, 'gradual': 2898, 'lab': 2899, 'dealt': 2900, 'companion': 2901, 'fetch': 2902, 'invest': 2903, 'maniac': 2904, 'estat': 2905, 'scoobi': 2906, 'ritter': 2907, 'kane': 2908, 'servant': 2909, 'alli': 2910, 'tea': 2911, 'gothic': 2912, 'countless': 2913, 'subtleti': 2914, 'cup': 2915, 'miik': 2916, 'heroic': 2917, 'charismat': 2918, 'electr': 2919, 'elect': 2920, 'salli': 2921, 'iii': 2922, 'briefli': 2923, 'bud': 2924, 'tender': 2925, 'neil': 2926, 'cole': 2927, 'grandmoth': 2928, 'wannab': 2929, 'ingredi': 2930, 'toss': 2931, 'admittedli': 2932, 'resourc': 2933, 'nuanc': 2934, 'reel': 2935, 'stronger': 2936, 'mafia': 2937, 'kubrick': 2938, 'label': 2939, 'shall': 2940, 'mild': 2941, 'carrey': 2942, 'stood': 2943, 'dawson': 2944, 'reev': 2945, 'poverti': 2946, 'pauli': 2947, 'pit': 2948, 'punk': 2949, 'gate': 2950, 'burst': 2951, 'updat': 2952, 'bakshi': 2953, 'tag': 2954, 'fond': 2955, 'smooth': 2956, 'terri': 2957, 'assault': 2958, 'useless': 2959, 'smash': 2960, 'outcom': 2961, 'cardboard': 2962, 'easier': 2963, 'cox': 2964, 'ian': 2965, 'astair': 2966, 'rex': 2967, 'melodramat': 2968, 'sketch': 2969, 'vari': 2970, 'fist': 2971, '2002': 2972, 'coincid': 2973, 'resolv': 2974, 'vulner': 2975, 'qualifi': 2976, 'exchang': 2977, 'increasingli': 2978, 'divers': 2979, 'samurai': 2980, 'scratch': 2981, 'tame': 2982, 'insert': 2983, 'brillianc': 2984, 'reynold': 2985, 'be': 2986, 'templ': 2987, 'luckili': 2988, 'conveni': 2989, 'blast': 2990, 'suspend': 2991, 'hamilton': 2992, 'meat': 2993, 'nuclear': 2994, 'coach': 2995, 'fisher': 2996, 'walker': 2997, 'pin': 2998, 'strictli': 2999, 'jami': 3000, 'matthew': 3001, 'seventi': 3002, 'gotta': 3003, 'farm': 3004, 'soprano': 3005, 'ambiti': 3006, 'worthless': 3007, 'clock': 3008, 'grasp': 3009, 'convolut': 3010, 'closet': 3011, 'spooki': 3012, 'struck': 3013, 'empir': 3014, 'instantli': 3015, 'eccentr': 3016, 'recreat': 3017, 'butcher': 3018, 'joey': 3019, 'monk': 3020, 'discoveri': 3021, 'ninja': 3022, 'brosnan': 3023, 'cave': 3024, 'kudo': 3025, 'revers': 3026, 'timeless': 3027, 'inconsist': 3028, 'cliff': 3029, 'communist': 3030, 'evok': 3031, 'sidekick': 3032, 'bleak': 3033, 'fifteen': 3034, 'clown': 3035, 'importantli': 3036, 'selfish': 3037, 'declar': 3038, 'miracl': 3039, 'sloppi': 3040, 'mitchel': 3041, 'partli': 3042, 'pal': 3043, 'eighti': 3044, 'gray': 3045, 'wipe': 3046, 'seller': 3047, 'norman': 3048, 'seed': 3049, 'aforement': 3050, 'farc': 3051, 'chew': 3052, 'flawless': 3053, 'australia': 3054, 'lifestyl': 3055, 'debat': 3056, 'websit': 3057, '45': 3058, 'cheek': 3059, 'enthusiast': 3060, 'psychiatrist': 3061, 'destin': 3062, 'stoog': 3063, 'ho': 3064, 'piano': 3065, 'superbl': 3066, 'drivel': 3067, 'incompet': 3068, 'abc': 3069, 'kitchen': 3070, 'regardless': 3071, 'pressur': 3072, 'dash': 3073, 'wrestl': 3074, 'splatter': 3075, 'slice': 3076, 'dire': 3077, 'soviet': 3078, 'emili': 3079, 'directori': 3080, 'anni': 3081, 'wick': 3082, 'bash': 3083, 'akshay': 3084, 'mann': 3085, 'distant': 3086, 'helicopt': 3087, 'recov': 3088, 'cameron': 3089, 'judi': 3090, 'ken': 3091, 'jar': 3092, 'lou': 3093, 'duo': 3094, 'glow': 3095, 'dave': 3096, 'pleasantli': 3097, 'boil': 3098, 'cagney': 3099, 'artifici': 3100, 'suppli': 3101, 'increas': 3102, 'beaten': 3103, 'cia': 3104, 'seduc': 3105, 'curios': 3106, 'flower': 3107, 'chapter': 3108, 'prize': 3109, 'blob': 3110, 'doo': 3111, 'laurel': 3112, 'craven': 3113, 'combat': 3114, 'craig': 3115, 'hop': 3116, 'drunken': 3117, 'goldberg': 3118, 'eleg': 3119, 'perri': 3120, 'panic': 3121, 'glenn': 3122, 'web': 3123, 'turner': 3124, 'ellen': 3125, 'ranger': 3126, 'splendid': 3127, 'favour': 3128, 'psychot': 3129, 'francisco': 3130, 'slightest': 3131, 'shortli': 3132, 'ruth': 3133, 'flip': 3134, 'rid': 3135, 'hatr': 3136, 'graduat': 3137, 'gentl': 3138, 'wizard': 3139, 'philosophi': 3140, '20th': 3141, 'falk': 3142, 'fx': 3143, 'plausibl': 3144, 'alexand': 3145, 'greek': 3146, 'min': 3147, 'modesti': 3148, 'gandhi': 3149, 'preciou': 3150, 'unpleas': 3151, 'jealou': 3152, 'we': 3153, 'manhattan': 3154, 'lend': 3155, 'harm': 3156, 'legal': 3157, 'fund': 3158, 'ocean': 3159, 'holi': 3160, 'knight': 3161, 'dracula': 3162, 'tall': 3163, 'futurist': 3164, 'felix': 3165, 'explicit': 3166, 'tank': 3167, 'nod': 3168, 'digniti': 3169, 'reviv': 3170, 'scientif': 3171, 'overdon': 3172, 'childish': 3173, 'thread': 3174, 'mock': 3175, 'forbidden': 3176, 'bless': 3177, 'ami': 3178, 'giallo': 3179, '2004': 3180, 'yesterday': 3181, 'mel': 3182, 'repeatedli': 3183, 'awaken': 3184, 'fever': 3185, 'nerv': 3186, 'broad': 3187, 'thick': 3188, 'margaret': 3189, '99': 3190, 'verhoeven': 3191, 'eve': 3192, 'torment': 3193, 'awe': 3194, 'unwatch': 3195, 'elderli': 3196, 'pirat': 3197, 'bin': 3198, 'publish': 3199, 'lean': 3200, 'kay': 3201, 'eas': 3202, 'roman': 3203, 'absenc': 3204, 'timothi': 3205, 'royal': 3206, 'automat': 3207, 'ambit': 3208, 'launch': 3209, 'uniform': 3210, 'stiller': 3211, 'romero': 3212, 'ah': 3213, 'custom': 3214, 'griffith': 3215, 'politician': 3216, 'rivet': 3217, 'acclaim': 3218, 'gabriel': 3219, 'crook': 3220, 'warren': 3221, 'transport': 3222, 'foul': 3223, 'homicid': 3224, 'antic': 3225, 'tomato': 3226, 'pierc': 3227, 'wallac': 3228, 'bathroom': 3229, 'phrase': 3230, 'termin': 3231, 'darker': 3232, 'sunshin': 3233, 'pulp': 3234, 'purpl': 3235, 'stinker': 3236, 'awak': 3237, 'revolutionari': 3238, 'q': 3239, 'packag': 3240, 'ought': 3241, 'choreographi': 3242, 'juvenil': 3243, 'hollow': 3244, 'horrid': 3245, 'contrari': 3246, 'kenneth': 3247, 'karen': 3248, 'coloni': 3249, '2003': 3250, 'album': 3251, 'pray': 3252, 'li': 3253, 'evolv': 3254, 'marin': 3255, 'saint': 3256, 'sixti': 3257, 'brazil': 3258, 'donna': 3259, 'rambo': 3260, 'viciou': 3261, 'prom': 3262, 'eyr': 3263, 'blade': 3264, 'dose': 3265, 'overr': 3266, 'boast': 3267, 'defi': 3268, 'stole': 3269, 'conserv': 3270, 'ireland': 3271, 'ramon': 3272, 'nerd': 3273, 'mildr': 3274, 'beatti': 3275, 'kapoor': 3276, 'mummi': 3277, 'candid': 3278, 'option': 3279, 'twelv': 3280, 'altman': 3281, 'flame': 3282, 'detract': 3283, 'collabor': 3284, 'jazz': 3285, 'natali': 3286, 'global': 3287, 'astonish': 3288, 'protest': 3289, 'trio': 3290, 'confirm': 3291, 'kirk': 3292, 'funer': 3293, 'fulci': 3294, 'racial': 3295, 'destini': 3296, 'nicholson': 3297, 'yellow': 3298, 'tommi': 3299, 'delici': 3300, 'spit': 3301, 'audio': 3302, 'mystic': 3303, 'whip': 3304, 'bottl': 3305, 'shade': 3306, 'blake': 3307, 'enterpris': 3308, 'bull': 3309, 'leap': 3310, 'inherit': 3311, 'merci': 3312, 'enchant': 3313, 'popcorn': 3314, 'swedish': 3315, 'reunit': 3316, 'harder': 3317, 'meaningless': 3318, 'vivid': 3319, 'visibl': 3320, 'bedroom': 3321, 'staff': 3322, 'altogeth': 3323, 'threw': 3324, 'fonda': 3325, 'todd': 3326, 'pseudo': 3327, 'neo': 3328, 'adolesc': 3329, 'moodi': 3330, 'wire': 3331, 'lemmon': 3332, 'atlanti': 3333, 'bust': 3334, 'tip': 3335, 'respond': 3336, 'befriend': 3337, 'synopsi': 3338, 'suspici': 3339, 'await': 3340, 'fanat': 3341, 'lawrenc': 3342, 'decor': 3343, 'edi': 3344, 'uneven': 3345, 'crocodil': 3346, 'ruthless': 3347, 'kennedi': 3348, 'reserv': 3349, 'roommat': 3350, 'jew': 3351, 'exhibit': 3352, 'madonna': 3353, 'leonard': 3354, 'voight': 3355, 'bargain': 3356, 'unsettl': 3357, 'audit': 3358, 'clumsi': 3359, 'abysm': 3360, 'bold': 3361, 'clint': 3362, 'garner': 3363, 'ventur': 3364, 'centr': 3365, 'rural': 3366, 'bradi': 3367, 'chao': 3368, 'dimens': 3369, 'incident': 3370, 'voyag': 3371, '2007': 3372, 'carl': 3373, 'palma': 3374, 'holli': 3375, 'poetic': 3376, 'elimin': 3377, '2nd': 3378, 'trail': 3379, 'immigr': 3380, 'cuba': 3381, 'echo': 3382, 'cd': 3383, 'timon': 3384, 'troop': 3385, 'lit': 3386, 'tiger': 3387, 'hart': 3388, 'neglect': 3389, 'imperson': 3390, 'characterist': 3391, 'acknowledg': 3392, 'daddi': 3393, 'versu': 3394, 'nearbi': 3395, 'humili': 3396, 'mall': 3397, 'wealth': 3398, 'cari': 3399, 'ant': 3400, 'domest': 3401, 'celluloid': 3402, 'jeffrey': 3403, 'mistaken': 3404, 'paus': 3405, 'marshal': 3406, 'saga': 3407, 'mickey': 3408, 'solo': 3409, 'collaps': 3410, 'infect': 3411, 'pun': 3412, 'repuls': 3413, 'prejudic': 3414, 'homer': 3415, 'chest': 3416, 'coffe': 3417, 'tribe': 3418, 'coat': 3419, 'assembl': 3420, 'equip': 3421, 'harvey': 3422, 'promin': 3423, 'sore': 3424, '1996': 3425, 'olivi': 3426, 'leon': 3427, 'inappropri': 3428, 'apolog': 3429, 'interrupt': 3430, 'milk': 3431, 'cake': 3432, 'hbo': 3433, 'undoubtedli': 3434, 'inan': 3435, 'gear': 3436, 'pant': 3437, 'ginger': 3438, 'furthermor': 3439, 'pen': 3440, 'highest': 3441, 'pot': 3442, 'exot': 3443, 'maggi': 3444, 'florida': 3445, 'aveng': 3446, 'vulgar': 3447, 'polanski': 3448, 'airplan': 3449, 'solut': 3450, 'brooklyn': 3451, 'colonel': 3452, 'devast': 3453, 'primari': 3454, 'embrac': 3455, 'consum': 3456, 'trace': 3457, 'humbl': 3458, 'colleagu': 3459, 'instant': 3460, 'institut': 3461, 'jenni': 3462, 'retain': 3463, 'cope': 3464, 'ya': 3465, 'poke': 3466, 'dian': 3467, 'godzilla': 3468, 'linda': 3469, 'descend': 3470, 'outer': 3471, '3rd': 3472, 'disabl': 3473, 'strain': 3474, 'gender': 3475, 'illog': 3476, 'dutch': 3477, 'smaller': 3478, 'wive': 3479, 'sale': 3480, 'seduct': 3481, 'rick': 3482, 'principl': 3483, 'bowl': 3484, '1999': 3485, 'inferior': 3486, 'rabbit': 3487, 'lol': 3488, 'cue': 3489, 'bubbl': 3490, 'predecessor': 3491, 'glamor': 3492, 'blatant': 3493, 'dud': 3494, 'primarili': 3495, 'vast': 3496, 'beneath': 3497, 'mixtur': 3498, 'yard': 3499, 'secondli': 3500, 'hal': 3501, 'dive': 3502, 'devoid': 3503, 'scope': 3504, 'gloriou': 3505, 'gundam': 3506, 'simplist': 3507, 'garbo': 3508, 'streep': 3509, 'shirley': 3510, 'shelf': 3511, 'aggress': 3512, 'alert': 3513, 'grinch': 3514, 'arab': 3515, 'alfr': 3516, 'disjoint': 3517, 'invas': 3518, 'et': 3519, 'trademark': 3520, 'senseless': 3521, 'casual': 3522, 'talki': 3523, 'myer': 3524, 'hideou': 3525, 'z': 3526, 'pearl': 3527, 'countrysid': 3528, 'domino': 3529, 'museum': 3530, 'april': 3531, 'breed': 3532, 'mail': 3533, 'loyal': 3534, 'robinson': 3535, 'disgrac': 3536, 'illeg': 3537, 'acid': 3538, 'stir': 3539, 'mayor': 3540, 'obtain': 3541, 'applaud': 3542, 'unhappi': 3543, 'oz': 3544, 'maci': 3545, 'khan': 3546, 'rendit': 3547, 'stack': 3548, 'boom': 3549, 'sh': 3550, 'hardcor': 3551, 'vanish': 3552, 'defens': 3553, 'robberi': 3554, 'hopeless': 3555, 'experiment': 3556, 'slide': 3557, 'stellar': 3558, 'uwe': 3559, 'declin': 3560, 'wont': 3561, 'dicken': 3562, 'psychic': 3563, 'tempt': 3564, 'span': 3565, 'topless': 3566, 'blew': 3567, 'emphasi': 3568, 'recruit': 3569, 'berlin': 3570, 'counter': 3571, 'amanda': 3572, 'diana': 3573, 'spider': 3574, 'grandfath': 3575, 'hartley': 3576, 'craze': 3577, 'dismiss': 3578, 'rifl': 3579, 'incomprehens': 3580, 'fri': 3581, 'tenant': 3582, 'scroog': 3583, 'soccer': 3584, 'faster': 3585, 'resurrect': 3586, 'ration': 3587, 'goer': 3588, 'bitch': 3589, 'riot': 3590, 'sympath': 3591, 'intim': 3592, 'trashi': 3593, 'shed': 3594, 'sibl': 3595, 'porno': 3596, 'justin': 3597, 'lumet': 3598, 'ethnic': 3599, 'niro': 3600, 'parad': 3601, 'shaw': 3602, 'woo': 3603, 'wet': 3604, 'revolt': 3605, 'hesit': 3606, 'hopper': 3607, 'weakest': 3608, 'biographi': 3609, 'immort': 3610, 'choru': 3611, 'ballet': 3612, 'nephew': 3613, 'wendi': 3614, 'honesti': 3615, 'partial': 3616, 'farmer': 3617, '00': 3618, 'dealer': 3619, 'andr': 3620, 'slick': 3621, 'rider': 3622, 'commend': 3623, 'patriot': 3624, 'jonathan': 3625, 'unreal': 3626, 'steam': 3627, 'gap': 3628, 'enlighten': 3629, 'mario': 3630, 'lena': 3631, 'wheel': 3632, 'ensur': 3633, 'eager': 3634, 'region': 3635, 'feminist': 3636, 'worm': 3637, 'nostalg': 3638, 'franco': 3639, 'charlott': 3640, 'properti': 3641, 'sappi': 3642, 'vice': 3643, 'similarli': 3644, 'owen': 3645, 'composit': 3646, 'wore': 3647, 'mutant': 3648, 'skull': 3649, 'leo': 3650, 'safeti': 3651, 'repress': 3652, 'util': 3653, 'prequel': 3654, 'psychopath': 3655, 'snap': 3656, 'hung': 3657, 'blunt': 3658, 'confin': 3659, 'morri': 3660, 'kingdom': 3661, 'victori': 3662, 'sandra': 3663, 'macarthur': 3664, 'repli': 3665, 'drain': 3666, 'drum': 3667, 'bumbl': 3668, 'compass': 3669, 'pattern': 3670, 'del': 3671, 'whoopi': 3672, 'montana': 3673, 'heartbreak': 3674, 'hyde': 3675, 'rocki': 3676, 'snl': 3677, 'deed': 3678, 'cg': 3679, 'miseri': 3680, 'exit': 3681, 'bonu': 3682, 'latin': 3683, 'rambl': 3684, 'campbel': 3685, 'despair': 3686, 'bow': 3687, 'nervou': 3688, 'tail': 3689, 'strand': 3690, 'speci': 3691, 'bergman': 3692, 'rope': 3693, 'dust': 3694, 'thru': 3695, 'emperor': 3696, 'compens': 3697, 'tad': 3698, '1972': 3699, 'kyle': 3700, 'recycl': 3701, 'acquir': 3702, 'farrel': 3703, 'dalton': 3704, 'valuabl': 3705, 'contempl': 3706, 'olli': 3707, 'roth': 3708, 'oppress': 3709, 'downhil': 3710, 'mistress': 3711, 'da': 3712, '35': 3713, 'pour': 3714, 'romp': 3715, 'gal': 3716, 'percept': 3717, 'gimmick': 3718, 'rapist': 3719, 'bleed': 3720, 'tonight': 3721, 'orson': 3722, 'martian': 3723, 'chess': 3724, 'airport': 3725, 'rotten': 3726, 'radic': 3727, 'wacki': 3728, 'carradin': 3729, 'slug': 3730, 'tooth': 3731, 'pervert': 3732, 'paltrow': 3733, 'dazzl': 3734, 'shelley': 3735, 'attorney': 3736, 'preach': 3737, 'arc': 3738, 'taught': 3739, 'tackl': 3740, 'pervers': 3741, 'pursuit': 3742, 'heal': 3743, 'programm': 3744, 'slash': 3745, 'banal': 3746, 'stilt': 3747, 'belt': 3748, 'champion': 3749, '1983': 3750, 'unpredict': 3751, 'melodi': 3752, 'mislead': 3753, 'arguabl': 3754, 'edgar': 3755, 'tiresom': 3756, 'rubi': 3757, 'poem': 3758, 'vengeanc': 3759, 'vocal': 3760, 'maid': 3761, 'graham': 3762, 'duval': 3763, 'chicken': 3764, 'cleverli': 3765, 'dixon': 3766, 'gambl': 3767, 'uplift': 3768, 'mesmer': 3769, 'sensat': 3770, 'virginia': 3771, 'raymond': 3772, 'bela': 3773, 'conneri': 3774, 'closest': 3775, 'employe': 3776, 'passeng': 3777, 'plight': 3778, 'marti': 3779, 'orang': 3780, 'franki': 3781, 'mute': 3782, 'abraham': 3783, 'quarter': 3784, 'climact': 3785, 'swallow': 3786, 'volum': 3787, 'engross': 3788, 'clone': 3789, 'inject': 3790, 'paranoia': 3791, 'extens': 3792, 'habit': 3793, 'profan': 3794, 'yawn': 3795, 'calm': 3796, 'gerard': 3797, 'suffic': 3798, 'outing': 3799, 'whine': 3800, 'monologu': 3801, 'tube': 3802, '1968': 3803, 'lundgren': 3804, 'amitabh': 3805, 'sirk': 3806, 'crystal': 3807, 'secretli': 3808, 'convincingli': 3809, 'giggl': 3810, 'scottish': 3811, 'iran': 3812, 'numb': 3813, 'bay': 3814, 'pokemon': 3815, 'surpass': 3816, 'meander': 3817, 'junior': 3818, 'fed': 3819, 'linger': 3820, 'austen': 3821, 'grotesqu': 3822, 'chicago': 3823, 'profess': 3824, 'richardson': 3825, 'dispos': 3826, 'plod': 3827, 'bend': 3828, 'trend': 3829, 'earl': 3830, 'ethan': 3831, 'abort': 3832, 'lowest': 3833, 'underst': 3834, 'taxi': 3835, 'spock': 3836, 'poetri': 3837, 'expand': 3838, 'nichola': 3839, 'im': 3840, 'frankenstein': 3841, 'franci': 3842, 'septemb': 3843, 'backward': 3844, 'mundan': 3845, 'myth': 3846, 'der': 3847, 'econom': 3848, 'rubber': 3849, 'muddl': 3850, 'waitress': 3851, 'rant': 3852, 'compliment': 3853, 'catchi': 3854, 'simplic': 3855, 'dysfunct': 3856, 'household': 3857, 'instrument': 3858, 'descent': 3859, 'tourist': 3860, 'literatur': 3861, 'nostalgia': 3862, 'cannon': 3863, 'hum': 3864, 'stallon': 3865, 'lure': 3866, 'greedi': 3867, 'spoke': 3868, 'eugen': 3869, 'sue': 3870, 'occupi': 3871, 'damon': 3872, 'phoni': 3873, 'eaten': 3874, 'lang': 3875, 'crucial': 3876, 'randi': 3877, 'hello': 3878, 'map': 3879, 'mortal': 3880, 'omen': 3881, 'equival': 3882, 'recognit': 3883, 'alongsid': 3884, 'firstli': 3885, 'molli': 3886, 'stale': 3887, 'flee': 3888, 'june': 3889, 'dement': 3890, 'dictat': 3891, 'louis': 3892, 'furi': 3893, 'cent': 3894, 'mankind': 3895, 'phantom': 3896, 'carel': 3897, 'deaf': 3898, 'bacal': 3899, 'insur': 3900, 'irrelev': 3901, 'coast': 3902, 'recognis': 3903, 'duck': 3904, 'sissi': 3905, 'dreari': 3906, 'bump': 3907, 'likewis': 3908, 'wisdom': 3909, 'grayson': 3910, 'freez': 3911, 'rude': 3912, 'labor': 3913, 'ashley': 3914, 'loyalti': 3915, 'blackmail': 3916, 'onlin': 3917, 'heel': 3918, 'reign': 3919, 'lengthi': 3920, 'twilight': 3921, 'buffalo': 3922, 'bike': 3923, 'daisi': 3924, 'damm': 3925, 'newli': 3926, 'drake': 3927, '1973': 3928, 'rooney': 3929, 'distinguish': 3930, 'cyborg': 3931, 'biko': 3932, 'antwon': 3933, 'analysi': 3934, 'boxer': 3935, 'exposur': 3936, 'startl': 3937, 'interior': 3938, 'sailor': 3939, 'barrymor': 3940, 'incorpor': 3941, 'tunnel': 3942, 'worn': 3943, 'provoc': 3944, 'vein': 3945, 'pink': 3946, 'proce': 3947, 'emphas': 3948, 'ridden': 3949, 'inher': 3950, 'basketbal': 3951, 'nineti': 3952, 'butler': 3953, 'attribut': 3954, 'baddi': 3955, 'prey': 3956, 'unorigin': 3957, 'chronicl': 3958, 'keith': 3959, 'approv': 3960, 'improvis': 3961, 'julian': 3962, 'undeni': 3963, 'condemn': 3964, 'stalker': 3965, 'er': 3966, 'millionair': 3967, 'othello': 3968, 'fleet': 3969, 'nicol': 3970, 'elm': 3971, 'degrad': 3972, 'walsh': 3973, 'mormon': 3974, 'drift': 3975, 'meyer': 3976, 'barrel': 3977, 'meg': 3978, 'predat': 3979, 'mighti': 3980, 'underli': 3981, 'bunni': 3982, 'carla': 3983, 'hypnot': 3984, 'substitut': 3985, 'belushi': 3986, 'indiffer': 3987, 'robbin': 3988, 'simmon': 3989, 'unrel': 3990, 'alarm': 3991, 'roof': 3992, 'lampoon': 3993, 'shove': 3994, 'alison': 3995, 'novak': 3996, 'watson': 3997, 'firm': 3998, 'palac': 3999, 'agenda': 4000, 'nyc': 4001, 'priceless': 4002, 'greed': 4003, 'reid': 4004, 'rukh': 4005, 'marion': 4006, 'edgi': 4007, '3d': 4008, 'vital': 4009, 'disord': 4010, 'unawar': 4011, 'exquisit': 4012, 'dolph': 4013, 'errol': 4014, 'hay': 4015, 'mtv': 4016, 'enthusiasm': 4017, 'warmth': 4018, 'glanc': 4019, 'randomli': 4020, 'ponder': 4021, 'orlean': 4022, '13th': 4023, 'distort': 4024, '1933': 4025, 'preserv': 4026, 'unleash': 4027, 'what': 4028, 'petti': 4029, 'crown': 4030, 'session': 4031, 'minimum': 4032, 'eastern': 4033, 'gestur': 4034, 'beatl': 4035, 'peril': 4036, 'drip': 4037, 'championship': 4038, 'nun': 4039, 'showdown': 4040, 'valentin': 4041, 'coup': 4042, 'thompson': 4043, 'spain': 4044, 'cassidi': 4045, 'peck': 4046, 'sergeant': 4047, 'simultan': 4048, 'campaign': 4049, 'profit': 4050, 'iraq': 4051, 'zizek': 4052, 'testament': 4053, 'angela': 4054, 'israel': 4055, 'pamela': 4056, 'crawl': 4057, 'regist': 4058, 'shootout': 4059, 'climat': 4060, 'exposit': 4061, 'unimagin': 4062, 'represent': 4063, 'miyazaki': 4064, 'crow': 4065, 'kurosawa': 4066, 'quinn': 4067, 'bro': 4068, 'rout': 4069, 'restrain': 4070, 'brenda': 4071, 'perpetu': 4072, 'travesti': 4073, 'stake': 4074, 'wig': 4075, 'cooki': 4076, 'contradict': 4077, 'cream': 4078, 'reson': 4079, 'stroke': 4080, 'mon': 4081, 'scotland': 4082, 'fido': 4083, 'gentleman': 4084, 'empathi': 4085, 'han': 4086, 'valley': 4087, 'jan': 4088, 'realm': 4089, '1984': 4090, 'calib': 4091, 'buster': 4092, 'sabrina': 4093, 'din': 4094, 'crawford': 4095, 'shoddi': 4096, 'perceiv': 4097, 'meryl': 4098, 'absent': 4099, 'darren': 4100, '1997': 4101, 'stargat': 4102, 'dana': 4103, 'shaki': 4104, 'unsatisfi': 4105, 'abomin': 4106, 'unseen': 4107, 'compromis': 4108, 'censor': 4109, 'businessman': 4110, 'fuller': 4111, 'femm': 4112, 'geek': 4113, 'demis': 4114, 'spacey': 4115, 'josh': 4116, 'pretens': 4117, 'distress': 4118, 'pole': 4119, 'delic': 4120, 'warrant': 4121, 'wax': 4122, 'soderbergh': 4123, 'greg': 4124, 'baldwin': 4125, 'sammi': 4126, 'ustinov': 4127, 'cloud': 4128, 'tacki': 4129, '1987': 4130, 'traumat': 4131, 'passabl': 4132, 'painter': 4133, 'monoton': 4134, 'sucker': 4135, 'mclaglen': 4136, 'derang': 4137, 'ross': 4138, 'tech': 4139, 'click': 4140, 'unravel': 4141, 'dee': 4142, 'primit': 4143, 'deceas': 4144, 'furiou': 4145, 'clash': 4146, '1993': 4147, 'norm': 4148, 'fog': 4149, 'polici': 4150, 'verbal': 4151, 'nathan': 4152, 'valid': 4153, 'judgment': 4154, 'jewel': 4155, 'exclus': 4156, 'austin': 4157, 'uncov': 4158, 'deniro': 4159, 'correctli': 4160, 'wholli': 4161, 'anchor': 4162, 'sid': 4163, 'accuraci': 4164, 'fenc': 4165, 'reluct': 4166, 'seal': 4167, 'kumar': 4168, 'expedit': 4169, 'tarantino': 4170, 'antonioni': 4171, 'alec': 4172, 'pocket': 4173, 'sunni': 4174, 'wretch': 4175, '1995': 4176, 'unfair': 4177, 'temper': 4178, 'patienc': 4179, 'hallucin': 4180, '3000': 4181, 'dreck': 4182, '2008': 4183, 'clerk': 4184, 'fart': 4185, 'murray': 4186, 'wang': 4187, 'nicola': 4188, 'bake': 4189, 'enforc': 4190, 'fabric': 4191, 'malon': 4192, 'slam': 4193, 'darn': 4194, 'sand': 4195, 'logan': 4196, 'trait': 4197, 'mode': 4198, 'sheet': 4199, 'conduct': 4200, 'sustain': 4201, 'fought': 4202, 'seldom': 4203, 'behold': 4204, '1971': 4205, 'joel': 4206, 'vanc': 4207, 'debt': 4208, 'ritual': 4209, 'roller': 4210, 'tax': 4211, 'crippl': 4212, 'shanghai': 4213, 'sweep': 4214, 'stark': 4215, 'despis': 4216, 'tactic': 4217, 'penni': 4218, 'scriptwrit': 4219, 'squad': 4220, 'divid': 4221, 'rita': 4222, 'shell': 4223, 'technicolor': 4224, 'stuart': 4225, 'phil': 4226, 'critiqu': 4227, 'helpless': 4228, 'outlin': 4229, 'clau': 4230, 'soup': 4231, 'robber': 4232, 'exhaust': 4233, 'canyon': 4234, 'schedul': 4235, 'fundament': 4236, 'bridget': 4237, 'bias': 4238, 'preposter': 4239, 'isabel': 4240, 'legaci': 4241, 'runner': 4242, 'grief': 4243, 'guitar': 4244, 'conscious': 4245, 'preston': 4246, 'pete': 4247, 'drove': 4248, 'sugar': 4249, 'marc': 4250, 'delv': 4251, 'culmin': 4252, 'downey': 4253, 'newman': 4254, 'invad': 4255, 'rear': 4256, 'bloom': 4257, 'gregori': 4258, 'palanc': 4259, 'jacket': 4260, 'inabl': 4261, 'vomit': 4262, 'connor': 4263, 'lacklust': 4264, 'unexpectedli': 4265, 'agenc': 4266, 'rehash': 4267, 'sentinel': 4268, 'sniper': 4269, 'alley': 4270, 'alicia': 4271, 'consciou': 4272, 'restrict': 4273, 'russia': 4274, 'passag': 4275, 'implic': 4276, 'flair': 4277, 'jodi': 4278, 'propos': 4279, 'kansa': 4280, 'boyl': 4281, 'cigarett': 4282, 'liberti': 4283, 'vet': 4284, 'awhil': 4285, 'chainsaw': 4286, 'karl': 4287, 'rampag': 4288, 'kolchak': 4289, 'sharon': 4290, 'rod': 4291, 'ladder': 4292, 'improb': 4293, 'pale': 4294, 'delet': 4295, 'lush': 4296, 'bacon': 4297, 'cap': 4298, '1936': 4299, 'horn': 4300, 'tripe': 4301, 'feat': 4302, 'tendenc': 4303, 'asylum': 4304, '22': 4305, 'wrench': 4306, 'rehears': 4307, 'aesthet': 4308, 'behaviour': 4309, 'foxx': 4310, 'arrow': 4311, 'yeti': 4312, 'mccoy': 4313, 'spice': 4314, 'coaster': 4315, 'suffici': 4316, 'paramount': 4317, 'sung': 4318, 'aristocrat': 4319, 'amazon': 4320, 'financ': 4321, 'conscienc': 4322, 'suspicion': 4323, 'minu': 4324, 'hackney': 4325, '19th': 4326, 'rumor': 4327, '1988': 4328, 'paradis': 4329, 'shortcom': 4330, 'globe': 4331, 'underneath': 4332, 'hulk': 4333, 'tomorrow': 4334, 'wagner': 4335, 'stream': 4336, 'loneli': 4337, 'el': 4338, 'lurk': 4339, 'fright': 4340, 'wildli': 4341, 'visitor': 4342, 'prank': 4343, 'scoop': 4344, 'hungri': 4345, '1920': 4346, 'newcom': 4347, 'thunderbird': 4348, 'filler': 4349, 'weav': 4350, 'elit': 4351, '1978': 4352, 'rhythm': 4353, 'tasteless': 4354, 'basing': 4355, 'recogniz': 4356, 'abrupt': 4357, 'worship': 4358, 'literari': 4359, '1939': 4360, 'inmat': 4361, 'tierney': 4362, 'grudg': 4363, 'ingeni': 4364, 'en': 4365, '75': 4366, 'iv': 4367, 'impos': 4368, 'hopkin': 4369, 'entranc': 4370, 'heist': 4371, 'smell': 4372, 'lectur': 4373, 'teas': 4374, 'springer': 4375, 'straightforward': 4376, 'counterpart': 4377, 'choppi': 4378, 'standout': 4379, 'quietli': 4380, 'wwe': 4381, 'cancer': 4382, 'rub': 4383, 'chamberlain': 4384, 'minist': 4385, 'posey': 4386, 'dirt': 4387, 'penn': 4388, 'leigh': 4389, 'couch': 4390, '1989': 4391, 'curli': 4392, 'ram': 4393, 'bread': 4394, 'atroc': 4395, 'brit': 4396, 'beverli': 4397, 'paxton': 4398, 'naughti': 4399, 'secondari': 4400, 'immers': 4401, 'chavez': 4402, 'attenborough': 4403, 'heartfelt': 4404, 'moreov': 4405, 'policeman': 4406, '1986': 4407, 'laurenc': 4408, 'bernard': 4409, 'entitl': 4410, 'convert': 4411, 'watcher': 4412, 'lindsay': 4413, 'sassi': 4414, 'morbid': 4415, 'variat': 4416, 'transcend': 4417, 'skeptic': 4418, 'nemesi': 4419, 'nolan': 4420, 'ace': 4421, 'cattl': 4422, 'injuri': 4423, 'yearn': 4424, 'duel': 4425, 'clan': 4426, 'quaid': 4427, 'enthral': 4428, 'misguid': 4429, 'net': 4430, 'esther': 4431, 'geni': 4432, 'sublim': 4433, 'missil': 4434, 'ratso': 4435, 'uncut': 4436, 'enabl': 4437, 'unexplain': 4438, 'hopelessli': 4439, 'moder': 4440, 'graini': 4441, 'puppi': 4442, 'brood': 4443, 'grin': 4444, 'youngest': 4445, 'out': 4446, 'rosemari': 4447, 'dont': 4448, 'obstacl': 4449, 'hk': 4450, 'bean': 4451, 'kitti': 4452, 'steadi': 4453, 'cruelti': 4454, 'spiral': 4455, 'kidman': 4456, 'carlito': 4457, 'reliabl': 4458, 'egg': 4459, 'diari': 4460, 'mytholog': 4461, 'setup': 4462, 'characteris': 4463, 'artsi': 4464, 'tyler': 4465, 'vader': 4466, 'buzz': 4467, '1979': 4468, 'facil': 4469, 'poe': 4470, 'bye': 4471, 'bewar': 4472, 'patricia': 4473, 'gillian': 4474, 'preming': 4475, 'martha': 4476, 'fuel': 4477, 'kline': 4478, 'narrow': 4479, 'christin': 4480, 'bounc': 4481, 'athlet': 4482, 'niec': 4483, 'hammi': 4484, 'despic': 4485, 'exterior': 4486, 'decept': 4487, 'disastr': 4488, 'sweat': 4489, 'oblig': 4490, 'heap': 4491, 'baffl': 4492, 'weather': 4493, 'underworld': 4494, 'brendan': 4495, 'bronson': 4496, 'spontan': 4497, 'clueless': 4498, 'hain': 4499, 'acquaint': 4500, 'gina': 4501, 'effici': 4502, '1969': 4503, 'suprem': 4504, 'lester': 4505, 'mayhem': 4506, 'candl': 4507, 'hepburn': 4508, 'injur': 4509, 'headach': 4510, 'shatter': 4511, 'preachi': 4512, 'viewpoint': 4513, 'loath': 4514, 'fontain': 4515, 'sooner': 4516, '73': 4517, 'enlist': 4518, 'trigger': 4519, 'scar': 4520, 'dandi': 4521, 'mermaid': 4522, 'dilemma': 4523, 'outlaw': 4524, 'harmless': 4525, 'circu': 4526, 'loi': 4527, 'tick': 4528, 'virtu': 4529, 'taboo': 4530, 'uh': 4531, 'housewif': 4532, 'sleepwalk': 4533, '19': 4534, 'renaiss': 4535, 'rome': 4536, 'goof': 4537, 'analyz': 4538, 'angst': 4539, 'biker': 4540, 'insipid': 4541, 'astound': 4542, 'spade': 4543, 'ebert': 4544, 'cassavet': 4545, 'sox': 4546, 'foolish': 4547, 'contempt': 4548, 'glorifi': 4549, 'camcord': 4550, 'whore': 4551, 'steer': 4552, 'overlong': 4553, 'boston': 4554, 'tripl': 4555, 'redund': 4556, 'fluff': 4557, 'oldest': 4558, 'intric': 4559, 'slimi': 4560, 'salt': 4561, 'stimul': 4562, 'bent': 4563, 'zoom': 4564, 'hostag': 4565, 'idol': 4566, 'immatur': 4567, 'stair': 4568, 'guin': 4569, 'hokey': 4570, 'phenomenon': 4571, 'corbett': 4572, 'dismal': 4573, 'ariel': 4574, 'claustrophob': 4575, 'dish': 4576, 'hooker': 4577, 'gere': 4578, 'filth': 4579, 'surgeri': 4580, 'scorses': 4581, 'amor': 4582, 'macho': 4583, 'frantic': 4584, 'nolt': 4585, 'remad': 4586, 'flashi': 4587, 'down': 4588, 'schlock': 4589, 'antagonist': 4590, 'shield': 4591, 'assert': 4592, 'proport': 4593, 'widescreen': 4594, 'radiat': 4595, '1981': 4596, 'keen': 4597, 'preced': 4598, 'spinal': 4599, 'rhyme': 4600, 'spree': 4601, 'gasp': 4602, 'flag': 4603, 'conquer': 4604, 'obligatori': 4605, 'faint': 4606, 'cush': 4607, 'beard': 4608, 'cow': 4609, 'perman': 4610, 'flirt': 4611, 'joker': 4612, 'transplant': 4613, 'messi': 4614, 'zane': 4615, 'shred': 4616, 'astronaut': 4617, 'strongest': 4618, '1976': 4619, 'harold': 4620, 'trivia': 4621, 'margin': 4622, 'fascist': 4623, 'cohen': 4624, 'muscl': 4625, 'dwarf': 4626, 'corman': 4627, 'mount': 4628, 'gabl': 4629, 'mutual': 4630, 'alvin': 4631, 'naschi': 4632, 'archiv': 4633, 'deer': 4634, 'sensual': 4635, 'strive': 4636, 'persuad': 4637, 'wield': 4638, 'divin': 4639, 'someday': 4640, 'triangl': 4641, 'barn': 4642, 'fishburn': 4643, 'neurot': 4644, 'ritchi': 4645, 'info': 4646, 'www': 4647, 'instruct': 4648, 'boob': 4649, 'inflict': 4650, 'brush': 4651, 'bachelor': 4652, 'resum': 4653, 'repris': 4654, 'interestingli': 4655, 'aborigin': 4656, 'off': 4657, '28': 4658, 'departur': 4659, 'mobil': 4660, 'bitten': 4661, '1945': 4662, 'vaniti': 4663, 'claud': 4664, 'discern': 4665, 'mol': 4666, 'raj': 4667, 'carey': 4668, 'flock': 4669, '95': 4670, 'danish': 4671, 'scandal': 4672, 'hara': 4673, 'ish': 4674, 'traffic': 4675, 'wendigo': 4676, 'submit': 4677, 'cliffhang': 4678, 'harrison': 4679, 'dim': 4680, 'mobster': 4681, 'cycl': 4682, 'dame': 4683, 'neill': 4684, 'biblic': 4685, 'rot': 4686, 'recit': 4687, 'proclaim': 4688, 'miracul': 4689, 'frontier': 4690, 'vibrant': 4691, 'pickford': 4692, 'cb': 4693, 'fragil': 4694, 'hilar': 4695, 'axe': 4696, 'artwork': 4697, 'clad': 4698, 'cher': 4699, 'loretta': 4700, 'timberlak': 4701, 'dylan': 4702, 'kathryn': 4703, 'prophet': 4704, 'earnest': 4705, 'pacif': 4706, 'jade': 4707, 'banter': 4708, 'casino': 4709, 'hug': 4710, 'luka': 4711, 'senior': 4712, 'bate': 4713, 'parson': 4714, 'carlo': 4715, 'undermin': 4716, 'anton': 4717, 'colin': 4718, 'melissa': 4719, 'helm': 4720, 'europa': 4721, 'pixar': 4722, 'heartwarm': 4723, 'hapless': 4724, 'legitim': 4725, 'mason': 4726, 'vile': 4727, 'vanessa': 4728, 'foil': 4729, 'lucil': 4730, 'estrang': 4731, 'flavor': 4732, 'articl': 4733, 'orphan': 4734, 'toronto': 4735, 'nope': 4736, 'feast': 4737, 'bondag': 4738, 'antholog': 4739, 'token': 4740, 'blatantli': 4741, 'alexandr': 4742, 'sicken': 4743, 'pc': 4744, 'choke': 4745, 'misfortun': 4746, 'akin': 4747, 'razor': 4748, 'lui': 4749, 'electron': 4750, 'jordan': 4751, 'redneck': 4752, 'milo': 4753, 'breakfast': 4754, 'seedi': 4755, 'northern': 4756, 'jo': 4757, 'cerebr': 4758, 'winchest': 4759, 'static': 4760, 'aris': 4761, 'rooki': 4762, 'bikini': 4763, 'uma': 4764, 'marlon': 4765, 'holocaust': 4766, 'shepherd': 4767, 'http': 4768, 'illus': 4769, 'venom': 4770, 'trier': 4771, 'wardrob': 4772, 'isra': 4773, 'eli': 4774, 'mathieu': 4775, 'nightclub': 4776, 'oppon': 4777, 'clinic': 4778, 'audrey': 4779, 'cartoonish': 4780, 'dudley': 4781, 'psych': 4782, 'styliz': 4783, 'ceremoni': 4784, 'peer': 4785, 'swept': 4786, 'highway': 4787, 'abund': 4788, 'leather': 4789, 'shorter': 4790, 'retriev': 4791, 'disregard': 4792, 'ideolog': 4793, 'comprehend': 4794, 'wrestler': 4795, 'linear': 4796, 'fifth': 4797, 'feminin': 4798, 'turd': 4799, 'frog': 4800, 'huston': 4801, 'gilbert': 4802, 'knightley': 4803, 'glare': 4804, 'boyer': 4805, 'deem': 4806, 'magician': 4807, 'outdat': 4808, 'smack': 4809, 'howl': 4810, 'tack': 4811, 'gunga': 4812, 'affleck': 4813, 'charlton': 4814, 'chip': 4815, 'moe': 4816, 'compris': 4817, 'corn': 4818, 'lavish': 4819, 'toe': 4820, '1991': 4821, 'monument': 4822, 'cuban': 4823, 'snatch': 4824, 'bastard': 4825, 'tara': 4826, 'spine': 4827, 'energet': 4828, 'braveheart': 4829, 'mitch': 4830, 'spawn': 4831, 'sleaz': 4832, 'btw': 4833, 'greet': 4834, 'potter': 4835, 'bogu': 4836, '4th': 4837, 'cemeteri': 4838, 'durat': 4839, 'newer': 4840, 'evolut': 4841, 'phenomen': 4842, 'collector': 4843, 'lighter': 4844, 'boo': 4845, 'summar': 4846, 'uniformli': 4847, 'salman': 4848, 'senat': 4849, 'lifeless': 4850, 'plate': 4851, '1994': 4852, 'goldsworthi': 4853, 'whack': 4854, 'client': 4855, 'conrad': 4856, 'breakdown': 4857, 'deliver': 4858, 'einstein': 4859, 'bulk': 4860, 'historian': 4861, 'jam': 4862, 'inaccuraci': 4863, 'undead': 4864, 'outright': 4865, 'firmli': 4866, '1974': 4867, 'evelyn': 4868, 'ie': 4869, 'liu': 4870, 'randolph': 4871, 'kent': 4872, 'jare': 4873, 'kazan': 4874, 'bori': 4875, 'pronounc': 4876, 'luxuri': 4877, 'embark': 4878, 'occup': 4879, 'jule': 4880, 'clara': 4881, 'undertak': 4882, 'sorrow': 4883, 'replay': 4884, 'lex': 4885, 'armstrong': 4886, 'trauma': 4887, 'gilliam': 4888, 'creek': 4889, 'signal': 4890, 'judd': 4891, 'healthi': 4892, 'constitut': 4893, 'appl': 4894, 'neatli': 4895, 'belli': 4896, '1977': 4897, 'alleg': 4898, 'wtf': 4899, 'fluid': 4900, 'jedi': 4901, 'cecil': 4902, 'spectacl': 4903, 'capot': 4904, 'ol': 4905, 'nina': 4906, 'mcqueen': 4907, 'eleven': 4908, 'subtli': 4909, 'inclus': 4910, 'antonio': 4911, 'decapit': 4912, 'propheci': 4913, 'mum': 4914, '1985': 4915, 'porter': 4916, 'abound': 4917, 'bsg': 4918, 'pepper': 4919, 'curtain': 4920, 'relentless': 4921, 'vain': 4922, 'miami': 4923, 'fruit': 4924, 'knee': 4925, 'conan': 4926, 'walt': 4927, 'truman': 4928, 'rosario': 4929, 'sidewalk': 4930, 'paula': 4931, 'bait': 4932, 'tokyo': 4933, 'poker': 4934, 'lanc': 4935, 'comb': 4936, 'kiddi': 4937, 'miniseri': 4938, 'blur': 4939, 'sacrif': 4940, 'cape': 4941, 'vignett': 4942, 'unattract': 4943, 'aussi': 4944, 'galaxi': 4945, 'genet': 4946, 'groan': 4947, 'lauren': 4948, 'comprehens': 4949, 'palm': 4950, 'meal': 4951, 'carmen': 4952, 'pioneer': 4953, 'congratul': 4954, 'unsuspect': 4955, 'spray': 4956, 'inaccur': 4957, 'ash': 4958, 'goldblum': 4959, 'id': 4960, 'roar': 4961, 'forgiven': 4962, 'basket': 4963, 'spill': 4964, 'dubiou': 4965, 'reincarn': 4966, 'weaker': 4967, 'weari': 4968, 'verg': 4969, 'sparkl': 4970, 'bach': 4971, 'playboy': 4972, 'jill': 4973, 'monti': 4974, 'orchestr': 4975, 'hostil': 4976, 'scariest': 4977, 'bravo': 4978, 'profil': 4979, 'detach': 4980, 'frontal': 4981, 'asset': 4982, 'epitom': 4983, 'scarfac': 4984, 'assort': 4985, 'vastli': 4986, 'mice': 4987, 'optimist': 4988, 'substanti': 4989, 'ingrid': 4990, 'macabr': 4991, 'casper': 4992, 'modest': 4993, 'omin': 4994, 'victorian': 4995, '21st': 4996, 'masterson': 4997, 'sophi': 4998, 'turtl': 4999}\n"
     ]
    }
   ],
   "source": [
    "print(word_dict)"
   ]
  },
  {
   "cell_type": "code",
   "execution_count": 13,
   "metadata": {
    "scrolled": true
   },
   "outputs": [
    {
     "name": "stdout",
     "output_type": "stream",
     "text": [
      "movi\n",
      "film\n",
      "one\n",
      "like\n",
      "time\n"
     ]
    }
   ],
   "source": [
    "# Determine the five most frequently appearing words in the training set.\n",
    "count = 0\n",
    "for word in word_dict:\n",
    "    print(word)\n",
    "    if count < 4:\n",
    "        count += 1\n",
    "    else:\n",
    "        break\n",
    "    "
   ]
  },
  {
   "cell_type": "markdown",
   "metadata": {},
   "source": [
    "### Save `word_dict`\n",
    "\n",
    "Later on when we construct an endpoint which processes a submitted review we will need to make use of the `word_dict` which we have created. As such, we will save it to a file now for future use."
   ]
  },
  {
   "cell_type": "code",
   "execution_count": 15,
   "metadata": {},
   "outputs": [],
   "source": [
    "data_dir = './cache/pytorch' # The folder we will use for storing data\n",
    "if not os.path.exists(data_dir): # Make sure that the folder exists\n",
    "    os.makedirs(data_dir)"
   ]
  },
  {
   "cell_type": "code",
   "execution_count": 19,
   "metadata": {},
   "outputs": [],
   "source": [
    "with open(os.path.join(data_dir, 'word_dict.pkl'), \"wb\") as f:\n",
    "    pickle.dump(word_dict, f)"
   ]
  },
  {
   "cell_type": "markdown",
   "metadata": {},
   "source": [
    "### Transform the reviews\n",
    "\n",
    "Now that we have our word dictionary which allows us to transform the words appearing in the reviews into integers, it is time to make use of it and convert our reviews to their integer sequence representation, making sure to pad or truncate to a fixed length, which in our case is `500`."
   ]
  },
  {
   "cell_type": "code",
   "execution_count": 13,
   "metadata": {},
   "outputs": [],
   "source": [
    "def convert_and_pad(word_dict, sentence, pad=500):\n",
    "    NOWORD = 0 # We will use 0 to represent the 'no word' category\n",
    "    INFREQ = 1 # and we use 1 to represent the infrequent words, i.e., words not appearing in word_dict\n",
    "    \n",
    "    working_sentence = [NOWORD] * pad\n",
    "    \n",
    "    for word_index, word in enumerate(sentence[:pad]):\n",
    "        if word in word_dict:\n",
    "            working_sentence[word_index] = word_dict[word]\n",
    "        else:\n",
    "            working_sentence[word_index] = INFREQ\n",
    "            \n",
    "    return working_sentence, min(len(sentence), pad)\n",
    "\n",
    "def convert_and_pad_data(word_dict, data, pad=500):\n",
    "    result = []\n",
    "    lengths = []\n",
    "    \n",
    "    for sentence in data:\n",
    "        converted, leng = convert_and_pad(word_dict, sentence, pad)\n",
    "        result.append(converted)\n",
    "        lengths.append(leng)\n",
    "        \n",
    "    return np.array(result), np.array(lengths)"
   ]
  },
  {
   "cell_type": "code",
   "execution_count": 20,
   "metadata": {},
   "outputs": [],
   "source": [
    "train_X, train_X_len = convert_and_pad_data(word_dict, train_X)\n",
    "test_X, test_X_len = convert_and_pad_data(word_dict, test_X)"
   ]
  },
  {
   "cell_type": "markdown",
   "metadata": {},
   "source": [
    "As a quick check to make sure that things are working as intended, check to see what one of the reviews in the training set looks like after having been processeed. "
   ]
  },
  {
   "cell_type": "code",
   "execution_count": 18,
   "metadata": {
    "scrolled": true
   },
   "outputs": [
    {
     "name": "stdout",
     "output_type": "stream",
     "text": [
      "Total number of processed reviews in the training dataset = 500\n",
      "\n",
      "Processed review info of one element in the training dataset\n",
      "\n",
      "[ 121   68  174    2   56   18 2670   15 3853   14   22   34  196 2352\n",
      " 1903  137   12  147    1  951   11   36  472    1   22  694  726    9\n",
      "  881   62    1   43  298   49   12  717 2463  215 1190  717 1347   14\n",
      "  401 1434  717    1  892  694  450    1  119  617    1  663  117 2084\n",
      " 4556   38    4    6    2 1317   15  264  307   14 1830  210 4324 1317\n",
      "    0    0    0    0    0    0    0    0    0    0    0    0    0    0\n",
      "    0    0    0    0    0    0    0    0    0    0    0    0    0    0\n",
      "    0    0    0    0    0    0    0    0    0    0    0    0    0    0\n",
      "    0    0    0    0    0    0    0    0    0    0    0    0    0    0\n",
      "    0    0    0    0    0    0    0    0    0    0    0    0    0    0\n",
      "    0    0    0    0    0    0    0    0    0    0    0    0    0    0\n",
      "    0    0    0    0    0    0    0    0    0    0    0    0    0    0\n",
      "    0    0    0    0    0    0    0    0    0    0    0    0    0    0\n",
      "    0    0    0    0    0    0    0    0    0    0    0    0    0    0\n",
      "    0    0    0    0    0    0    0    0    0    0    0    0    0    0\n",
      "    0    0    0    0    0    0    0    0    0    0    0    0    0    0\n",
      "    0    0    0    0    0    0    0    0    0    0    0    0    0    0\n",
      "    0    0    0    0    0    0    0    0    0    0    0    0    0    0\n",
      "    0    0    0    0    0    0    0    0    0    0    0    0    0    0\n",
      "    0    0    0    0    0    0    0    0    0    0    0    0    0    0\n",
      "    0    0    0    0    0    0    0    0    0    0    0    0    0    0\n",
      "    0    0    0    0    0    0    0    0    0    0    0    0    0    0\n",
      "    0    0    0    0    0    0    0    0    0    0    0    0    0    0\n",
      "    0    0    0    0    0    0    0    0    0    0    0    0    0    0\n",
      "    0    0    0    0    0    0    0    0    0    0    0    0    0    0\n",
      "    0    0    0    0    0    0    0    0    0    0    0    0    0    0\n",
      "    0    0    0    0    0    0    0    0    0    0    0    0    0    0\n",
      "    0    0    0    0    0    0    0    0    0    0    0    0    0    0\n",
      "    0    0    0    0    0    0    0    0    0    0    0    0    0    0\n",
      "    0    0    0    0    0    0    0    0    0    0    0    0    0    0\n",
      "    0    0    0    0    0    0    0    0    0    0    0    0    0    0\n",
      "    0    0    0    0    0    0    0    0    0    0    0    0    0    0\n",
      "    0    0    0    0    0    0    0    0    0    0    0    0    0    0\n",
      "    0    0    0    0    0    0    0    0    0    0    0    0    0    0\n",
      "    0    0    0    0    0    0    0    0    0    0    0    0    0    0\n",
      "    0    0    0    0    0    0    0    0    0    0]\n"
     ]
    }
   ],
   "source": [
    "# examining one of the processed reviews to make sure everything is working as intended.\n",
    "print(\"Total number of processed reviews in the training dataset = {}\".format(len(train_X[100])))\n",
    "print(\"\\nProcessed review info of one element in the training dataset\\n\\n{}\".format(train_X[100]))"
   ]
  },
  {
   "cell_type": "markdown",
   "metadata": {},
   "source": [
    "## Step 3: Upload the data to S3\n",
    "\n",
    "Upload the training dataset to S3 in order for our training code to access it. For now we will save it locally and we will upload to S3 later on.\n",
    "\n",
    "### Save the processed training dataset locally\n",
    "\n",
    "It is important to note the format of the data that we are saving as we will need to know it when we write the training code. In our case, each row of the dataset has the form `label`, `length`, `review[500]` where `review[500]` is a sequence of `500` integers representing the words in the review."
   ]
  },
  {
   "cell_type": "code",
   "execution_count": 21,
   "metadata": {},
   "outputs": [],
   "source": [
    "import pandas as pd\n",
    "    \n",
    "pd.concat([pd.DataFrame(train_y), pd.DataFrame(train_X_len), pd.DataFrame(train_X)], axis=1) \\\n",
    "        .to_csv(os.path.join(data_dir, 'train.csv'), header=False, index=False)\n",
    "\n",
    "# save the processed testing dataset locally as test.csv file\n",
    "pd.concat([pd.DataFrame(test_y), pd.DataFrame(test_X_len), pd.DataFrame(test_X)], axis=1) \\\n",
    "        .to_csv(os.path.join(data_dir, 'test.csv'), header=False, index=False)"
   ]
  },
  {
   "cell_type": "markdown",
   "metadata": {},
   "source": [
    "### Uploading the training data\n",
    "\n",
    "Next, we need to upload the training data to the SageMaker default S3 bucket so that we can provide access to it while training our model. Now keep in mind that since this saves in default bucket one has to make sure the notebook instance is run in the same region where the bucket is sicne bucket is region sensitive.\n"
   ]
  },
  {
   "cell_type": "code",
   "execution_count": null,
   "metadata": {},
   "outputs": [],
   "source": [
    "import sagemaker\n",
    "import boto3\n",
    "sagemaker_session = sagemaker.Session()  #This uses region configured with aws cli\n",
    "#sagemaker_session = sagemaker.Session(boto3.session.Session(region_name='us-east-2'))\n",
    "#bucket = sagemaker_session.default_bucket()\n",
    "#prefix = 'sagemaker/sentiment_rnn'\n",
    "role = 'arn:aws:iam::804604702169:role/service-role/AmazonSageMaker-ExecutionRole-20210803T195128'\n"
   ]
  },
  {
   "cell_type": "code",
   "execution_count": null,
   "metadata": {},
   "outputs": [],
   "source": [
    "input_data = sagemaker_session.upload_data(path=data_dir, bucket=bucket, key_prefix=prefix)"
   ]
  },
  {
   "cell_type": "markdown",
   "metadata": {},
   "source": [
    "**NOTE:** The cell above uploads the entire contents of our data directory. This includes the `word_dict.pkl` file. This is fortunate as we will need this later on when we create an endpoint that accepts an arbitrary review. For now, we will just take note of the fact that it resides in the data directory (and so also in the S3 training bucket) and that we will need to make sure it gets saved in the model directory."
   ]
  },
  {
   "cell_type": "markdown",
   "metadata": {},
   "source": [
    "### Step 4: Build and Train the PyTorch Model\n",
    "\n",
    "A model comprises three objects\n",
    "\n",
    " - Model Artifacts,\n",
    " - Training Code, and\n",
    " - Inference Code,\n",
    " \n",
    "each of which interact with one another. Here we will still be using containers provided by Amazon with the added benefit of being able to include our own custom code.\n",
    "\n",
    "We will start by implementing our own neural network in PyTorch along with a training script (train/model.py)."
   ]
  },
  {
   "cell_type": "code",
   "execution_count": 22,
   "metadata": {
    "scrolled": false
   },
   "outputs": [
    {
     "name": "stdout",
     "output_type": "stream",
     "text": [
      "\u001b[34mimport\u001b[39;49;00m \u001b[04m\u001b[36mtorch\u001b[39;49;00m\u001b[04m\u001b[36m.\u001b[39;49;00m\u001b[04m\u001b[36mnn\u001b[39;49;00m \u001b[34mas\u001b[39;49;00m \u001b[04m\u001b[36mnn\u001b[39;49;00m\n",
      "\n",
      "\u001b[34mclass\u001b[39;49;00m \u001b[04m\u001b[32mLSTMClassifier\u001b[39;49;00m(nn.Module):\n",
      "    \u001b[33m\"\"\"\u001b[39;49;00m\n",
      "\u001b[33m    This is the simple RNN model we will be using to perform Sentiment Analysis.\u001b[39;49;00m\n",
      "\u001b[33m    \"\"\"\u001b[39;49;00m\n",
      "\n",
      "    \u001b[34mdef\u001b[39;49;00m \u001b[32m__init__\u001b[39;49;00m(\u001b[36mself\u001b[39;49;00m, embedding_dim, hidden_dim, vocab_size):\n",
      "        \u001b[33m\"\"\"\u001b[39;49;00m\n",
      "\u001b[33m        Initialize the model by settingg up the various layers.\u001b[39;49;00m\n",
      "\u001b[33m        \"\"\"\u001b[39;49;00m\n",
      "        \u001b[36msuper\u001b[39;49;00m(LSTMClassifier, \u001b[36mself\u001b[39;49;00m).\u001b[32m__init__\u001b[39;49;00m()\n",
      "\n",
      "        \u001b[36mself\u001b[39;49;00m.embedding = nn.Embedding(vocab_size, embedding_dim, padding_idx=\u001b[34m0\u001b[39;49;00m)\n",
      "        \u001b[36mself\u001b[39;49;00m.lstm = nn.LSTM(embedding_dim, hidden_dim)\n",
      "        \u001b[36mself\u001b[39;49;00m.dense = nn.Linear(in_features=hidden_dim, out_features=\u001b[34m1\u001b[39;49;00m)\n",
      "        \u001b[36mself\u001b[39;49;00m.sig = nn.Sigmoid()\n",
      "        \n",
      "        \u001b[36mself\u001b[39;49;00m.word_dict = \u001b[34mNone\u001b[39;49;00m\n",
      "\n",
      "    \u001b[34mdef\u001b[39;49;00m \u001b[32mforward\u001b[39;49;00m(\u001b[36mself\u001b[39;49;00m, x):\n",
      "        \u001b[33m\"\"\"\u001b[39;49;00m\n",
      "\u001b[33m        Perform a forward pass of our model on some input.\u001b[39;49;00m\n",
      "\u001b[33m        \"\"\"\u001b[39;49;00m\n",
      "        x = x.t()\n",
      "        lengths = x[\u001b[34m0\u001b[39;49;00m,:]\n",
      "        reviews = x[\u001b[34m1\u001b[39;49;00m:,:]\n",
      "        embeds = \u001b[36mself\u001b[39;49;00m.embedding(reviews)\n",
      "        lstm_out, _ = \u001b[36mself\u001b[39;49;00m.lstm(embeds)\n",
      "        out = \u001b[36mself\u001b[39;49;00m.dense(lstm_out)\n",
      "        out = out[lengths - \u001b[34m1\u001b[39;49;00m, \u001b[36mrange\u001b[39;49;00m(\u001b[36mlen\u001b[39;49;00m(lengths))]\n",
      "        \u001b[34mreturn\u001b[39;49;00m \u001b[36mself\u001b[39;49;00m.sig(out.squeeze())\n"
     ]
    }
   ],
   "source": [
    "!pygmentize train/model.py"
   ]
  },
  {
   "cell_type": "code",
   "execution_count": 23,
   "metadata": {},
   "outputs": [],
   "source": [
    "import torch\n",
    "import torch.utils.data\n",
    "# Read in only the first 250 rows\n",
    "train_sample = pd.read_csv(os.path.join(data_dir, 'train.csv'), header=None, names=None, nrows=250)\n",
    "\n",
    "# Turn the input pandas dataframe into tensors\n",
    "train_sample_y = torch.from_numpy(train_sample[[0]].values).float().squeeze()\n",
    "train_sample_X = torch.from_numpy(train_sample.drop([0], axis=1).values).long()\n",
    "\n",
    "# Build the dataset\n",
    "train_sample_ds = torch.utils.data.TensorDataset(train_sample_X, train_sample_y)\n",
    "# Build the dataloader\n",
    "train_sample_dl = torch.utils.data.DataLoader(train_sample_ds, batch_size=50)"
   ]
  },
  {
   "cell_type": "markdown",
   "metadata": {},
   "source": [
    "### Writing the training method\n",
    "\n",
    "Next we need to write the training code itself. For nowm we will not tackle aspects like model saving / loading and parameter loading, we'll get it to out it a little later."
   ]
  },
  {
   "cell_type": "code",
   "execution_count": 24,
   "metadata": {},
   "outputs": [],
   "source": [
    "def train(model, train_loader, epochs, optimizer, loss_fn, device):\n",
    "    for epoch in range(1, epochs + 1):\n",
    "        model.train()\n",
    "        total_loss = 0\n",
    "        for batch in train_loader:         \n",
    "            batch_X, batch_y = batch\n",
    "            \n",
    "            batch_X = batch_X.to(device)\n",
    "            batch_y = batch_y.to(device)\n",
    "            \n",
    "            # TODO: Complete this train method to train the model provided.\n",
    "            optimizer.zero_grad()\n",
    "            out = model.forward(batch_X)\n",
    "            loss = loss_fn(out, batch_y)\n",
    "            loss.backward()\n",
    "            optimizer.step()\n",
    "            \n",
    "            total_loss += loss.data.item()\n",
    "        print(\"Epoch: {}, BCELoss: {}\".format(epoch, total_loss / len(train_loader)))"
   ]
  },
  {
   "cell_type": "markdown",
   "metadata": {},
   "source": [
    "Supposing we have the training method above, we will test that it is working by writing a bit of code in the notebook that executes our training method on the small sample training set that we loaded earlier. The reason for doing this in the notebook is so that we have an opportunity to fix any errors that arise early when they are easier to diagnose."
   ]
  },
  {
   "cell_type": "code",
   "execution_count": 52,
   "metadata": {},
   "outputs": [
    {
     "name": "stdout",
     "output_type": "stream",
     "text": [
      "Epoch: 1, BCELoss: 0.694470739364624\n",
      "Epoch: 2, BCELoss: 0.6853868722915649\n",
      "Epoch: 3, BCELoss: 0.6776745438575744\n",
      "Epoch: 4, BCELoss: 0.6694149851799012\n",
      "Epoch: 5, BCELoss: 0.6596929669380188\n"
     ]
    }
   ],
   "source": [
    "import torch.optim as optim\n",
    "from train.model import LSTMClassifier\n",
    "\n",
    "device = torch.device(\"cuda\" if torch.cuda.is_available() else \"cpu\")\n",
    "model = LSTMClassifier(32, 100, 5000).to(device)\n",
    "optimizer = optim.Adam(model.parameters())\n",
    "loss_fn = torch.nn.BCELoss()\n",
    "\n",
    "train(model, train_sample_dl, 5, optimizer, loss_fn, device)"
   ]
  },
  {
   "cell_type": "markdown",
   "metadata": {},
   "source": [
    "In order to construct a PyTorch model using SageMaker we must provide SageMaker with a training script. We may optionally include a directory which will be copied to the container and from which our training code will be run. When the training container is executed it will check the uploaded directory (if there is one) for a `requirements.txt` file and install any required Python libraries, after which the training script will be run."
   ]
  },
  {
   "cell_type": "markdown",
   "metadata": {},
   "source": [
    "### Training the model\n",
    "\n",
    "When a PyTorch model is constructed in SageMaker, an entry point must be specified. This is the Python file which will be executed when the model is trained. "
   ]
  },
  {
   "cell_type": "code",
   "execution_count": null,
   "metadata": {},
   "outputs": [],
   "source": [
    "from sagemaker.pytorch import PyTorch\n",
    "\n",
    "estimator = PyTorch(entry_point=\"train.py\",\n",
    "                    source_dir=\"train\",\n",
    "                    role=role,\n",
    "                    framework_version='1.6.0',\n",
    "                    py_version='py3',\n",
    "                    instance_count=1,\n",
    "                    instance_type='ml.p2.xlarge',\n",
    "                    hyperparameters={\n",
    "                        'epochs': 10,\n",
    "                        'hidden_dim': 200,\n",
    "                    })"
   ]
  },
  {
   "cell_type": "code",
   "execution_count": 99,
   "metadata": {
    "scrolled": true
   },
   "outputs": [
    {
     "name": "stdout",
     "output_type": "stream",
     "text": [
      "2019-11-21 14:55:45 Starting - Starting the training job...\n",
      "2019-11-21 14:55:50 Starting - Launching requested ML instances......\n",
      "2019-11-21 14:56:52 Starting - Preparing the instances for training.........\n",
      "2019-11-21 14:58:20 Downloading - Downloading input data...\n",
      "2019-11-21 14:58:50 Training - Downloading the training image..\u001b[31mbash: cannot set terminal process group (-1): Inappropriate ioctl for device\u001b[0m\n",
      "\u001b[31mbash: no job control in this shell\u001b[0m\n",
      "\u001b[31m2019-11-21 14:59:25,729 sagemaker-containers INFO     Imported framework sagemaker_pytorch_container.training\u001b[0m\n",
      "\u001b[31m2019-11-21 14:59:25,753 sagemaker_pytorch_container.training INFO     Block until all host DNS lookups succeed.\u001b[0m\n",
      "\n",
      "2019-11-21 14:59:24 Training - Training image download completed. Training in progress.\u001b[31m2019-11-21 14:59:31,982 sagemaker_pytorch_container.training INFO     Invoking user training script.\u001b[0m\n",
      "\u001b[31m2019-11-21 14:59:32,267 sagemaker-containers INFO     Module train does not provide a setup.py. \u001b[0m\n",
      "\u001b[31mGenerating setup.py\u001b[0m\n",
      "\u001b[31m2019-11-21 14:59:32,268 sagemaker-containers INFO     Generating setup.cfg\u001b[0m\n",
      "\u001b[31m2019-11-21 14:59:32,268 sagemaker-containers INFO     Generating MANIFEST.in\u001b[0m\n",
      "\u001b[31m2019-11-21 14:59:32,268 sagemaker-containers INFO     Installing module with the following command:\u001b[0m\n",
      "\u001b[31m/usr/bin/python -m pip install -U . -r requirements.txt\u001b[0m\n",
      "\u001b[31mProcessing /opt/ml/code\u001b[0m\n",
      "\u001b[31mCollecting pandas (from -r requirements.txt (line 1))\n",
      "  Downloading https://files.pythonhosted.org/packages/74/24/0cdbf8907e1e3bc5a8da03345c23cbed7044330bb8f73bb12e711a640a00/pandas-0.24.2-cp35-cp35m-manylinux1_x86_64.whl (10.0MB)\u001b[0m\n",
      "\u001b[31mCollecting numpy (from -r requirements.txt (line 2))\u001b[0m\n",
      "\u001b[31m  Downloading https://files.pythonhosted.org/packages/ab/e9/2561dbfbc05146bffa02167e09b9902e273decb2dc4cd5c43314ede20312/numpy-1.17.4-cp35-cp35m-manylinux1_x86_64.whl (19.8MB)\u001b[0m\n",
      "\u001b[31mCollecting nltk (from -r requirements.txt (line 3))\n",
      "  Downloading https://files.pythonhosted.org/packages/f6/1d/d925cfb4f324ede997f6d47bea4d9babba51b49e87a767c170b77005889d/nltk-3.4.5.zip (1.5MB)\u001b[0m\n",
      "\u001b[31mCollecting beautifulsoup4 (from -r requirements.txt (line 4))\n",
      "  Downloading https://files.pythonhosted.org/packages/3b/c8/a55eb6ea11cd7e5ac4bacdf92bac4693b90d3ba79268be16527555e186f0/beautifulsoup4-4.8.1-py3-none-any.whl (101kB)\u001b[0m\n",
      "\u001b[31mCollecting html5lib (from -r requirements.txt (line 5))\n",
      "  Downloading https://files.pythonhosted.org/packages/a5/62/bbd2be0e7943ec8504b517e62bab011b4946e1258842bc159e5dfde15b96/html5lib-1.0.1-py2.py3-none-any.whl (117kB)\u001b[0m\n",
      "\u001b[31mRequirement already satisfied, skipping upgrade: python-dateutil>=2.5.0 in /usr/local/lib/python3.5/dist-packages (from pandas->-r requirements.txt (line 1)) (2.7.5)\u001b[0m\n",
      "\u001b[31mCollecting pytz>=2011k (from pandas->-r requirements.txt (line 1))\n",
      "  Downloading https://files.pythonhosted.org/packages/e7/f9/f0b53f88060247251bf481fa6ea62cd0d25bf1b11a87888e53ce5b7c8ad2/pytz-2019.3-py2.py3-none-any.whl (509kB)\u001b[0m\n",
      "\u001b[31mRequirement already satisfied, skipping upgrade: six in /usr/local/lib/python3.5/dist-packages (from nltk->-r requirements.txt (line 3)) (1.11.0)\u001b[0m\n",
      "\u001b[31mCollecting soupsieve>=1.2 (from beautifulsoup4->-r requirements.txt (line 4))\n",
      "  Downloading https://files.pythonhosted.org/packages/81/94/03c0f04471fc245d08d0a99f7946ac228ca98da4fa75796c507f61e688c2/soupsieve-1.9.5-py2.py3-none-any.whl\u001b[0m\n",
      "\u001b[31mCollecting webencodings (from html5lib->-r requirements.txt (line 5))\n",
      "  Downloading https://files.pythonhosted.org/packages/f4/24/2a3e3df732393fed8b3ebf2ec078f05546de641fe1b667ee316ec1dcf3b7/webencodings-0.5.1-py2.py3-none-any.whl\u001b[0m\n",
      "\u001b[31mBuilding wheels for collected packages: nltk, train\n",
      "  Running setup.py bdist_wheel for nltk: started\u001b[0m\n",
      "\u001b[31m  Running setup.py bdist_wheel for nltk: finished with status 'done'\n",
      "  Stored in directory: /root/.cache/pip/wheels/96/86/f6/68ab24c23f207c0077381a5e3904b2815136b879538a24b483\n",
      "  Running setup.py bdist_wheel for train: started\u001b[0m\n",
      "\u001b[31m  Running setup.py bdist_wheel for train: finished with status 'done'\n",
      "  Stored in directory: /tmp/pip-ephem-wheel-cache-0yholb_w/wheels/35/24/16/37574d11bf9bde50616c67372a334f94fa8356bc7164af8ca3\u001b[0m\n",
      "\u001b[31mSuccessfully built nltk train\u001b[0m\n",
      "\u001b[31mInstalling collected packages: pytz, numpy, pandas, nltk, soupsieve, beautifulsoup4, webencodings, html5lib, train\n",
      "  Found existing installation: numpy 1.15.4\n",
      "    Uninstalling numpy-1.15.4:\u001b[0m\n",
      "\u001b[31m      Successfully uninstalled numpy-1.15.4\u001b[0m\n",
      "\u001b[31mSuccessfully installed beautifulsoup4-4.8.1 html5lib-1.0.1 nltk-3.4.5 numpy-1.17.4 pandas-0.24.2 pytz-2019.3 soupsieve-1.9.5 train-1.0.0 webencodings-0.5.1\u001b[0m\n",
      "\u001b[31mYou are using pip version 18.1, however version 19.3.1 is available.\u001b[0m\n",
      "\u001b[31mYou should consider upgrading via the 'pip install --upgrade pip' command.\u001b[0m\n",
      "\u001b[31m2019-11-21 14:59:44,045 sagemaker-containers INFO     Invoking user script\n",
      "\u001b[0m\n",
      "\u001b[31mTraining Env:\n",
      "\u001b[0m\n",
      "\u001b[31m{\n",
      "    \"log_level\": 20,\n",
      "    \"hosts\": [\n",
      "        \"algo-1\"\n",
      "    ],\n",
      "    \"job_name\": \"sagemaker-pytorch-2019-11-21-14-55-44-648\",\n",
      "    \"network_interface_name\": \"eth0\",\n",
      "    \"channel_input_dirs\": {\n",
      "        \"training\": \"/opt/ml/input/data/training\"\n",
      "    },\n",
      "    \"output_data_dir\": \"/opt/ml/output/data\",\n",
      "    \"user_entry_point\": \"train.py\",\n",
      "    \"framework_module\": \"sagemaker_pytorch_container.training:main\",\n",
      "    \"additional_framework_parameters\": {},\n",
      "    \"resource_config\": {\n",
      "        \"hosts\": [\n",
      "            \"algo-1\"\n",
      "        ],\n",
      "        \"current_host\": \"algo-1\",\n",
      "        \"network_interface_name\": \"eth0\"\n",
      "    },\n",
      "    \"num_gpus\": 1,\n",
      "    \"current_host\": \"algo-1\",\n",
      "    \"hyperparameters\": {\n",
      "        \"hidden_dim\": 200,\n",
      "        \"epochs\": 10\n",
      "    },\n",
      "    \"input_config_dir\": \"/opt/ml/input/config\",\n",
      "    \"input_data_config\": {\n",
      "        \"training\": {\n",
      "            \"TrainingInputMode\": \"File\",\n",
      "            \"RecordWrapperType\": \"None\",\n",
      "            \"S3DistributionType\": \"FullyReplicated\"\n",
      "        }\n",
      "    },\n",
      "    \"input_dir\": \"/opt/ml/input\",\n",
      "    \"output_intermediate_dir\": \"/opt/ml/output/intermediate\",\n",
      "    \"module_name\": \"train\",\n",
      "    \"num_cpus\": 4,\n",
      "    \"module_dir\": \"s3://sagemaker-us-east-1-037870494941/sagemaker-pytorch-2019-11-21-14-55-44-648/source/sourcedir.tar.gz\",\n",
      "    \"output_dir\": \"/opt/ml/output\",\n",
      "    \"model_dir\": \"/opt/ml/model\"\u001b[0m\n",
      "\u001b[31m}\n",
      "\u001b[0m\n",
      "\u001b[31mEnvironment variables:\n",
      "\u001b[0m\n",
      "\u001b[31mSM_CHANNELS=[\"training\"]\u001b[0m\n",
      "\u001b[31mSM_OUTPUT_DATA_DIR=/opt/ml/output/data\u001b[0m\n",
      "\u001b[31mSM_INPUT_CONFIG_DIR=/opt/ml/input/config\u001b[0m\n",
      "\u001b[31mSM_MODULE_NAME=train\u001b[0m\n",
      "\u001b[31mSM_INPUT_DATA_CONFIG={\"training\":{\"RecordWrapperType\":\"None\",\"S3DistributionType\":\"FullyReplicated\",\"TrainingInputMode\":\"File\"}}\u001b[0m\n",
      "\u001b[31mSM_NUM_GPUS=1\u001b[0m\n",
      "\u001b[31mSM_CURRENT_HOST=algo-1\u001b[0m\n",
      "\u001b[31mSM_USER_ENTRY_POINT=train.py\u001b[0m\n",
      "\u001b[31mSM_MODULE_DIR=s3://sagemaker-us-east-1-037870494941/sagemaker-pytorch-2019-11-21-14-55-44-648/source/sourcedir.tar.gz\u001b[0m\n",
      "\u001b[31mSM_NETWORK_INTERFACE_NAME=eth0\u001b[0m\n",
      "\u001b[31mSM_OUTPUT_INTERMEDIATE_DIR=/opt/ml/output/intermediate\u001b[0m\n",
      "\u001b[31mSM_FRAMEWORK_PARAMS={}\u001b[0m\n",
      "\u001b[31mSM_RESOURCE_CONFIG={\"current_host\":\"algo-1\",\"hosts\":[\"algo-1\"],\"network_interface_name\":\"eth0\"}\u001b[0m\n",
      "\u001b[31mSM_HP_EPOCHS=10\u001b[0m\n",
      "\u001b[31mSM_MODEL_DIR=/opt/ml/model\u001b[0m\n",
      "\u001b[31mSM_HPS={\"epochs\":10,\"hidden_dim\":200}\u001b[0m\n",
      "\u001b[31mSM_USER_ARGS=[\"--epochs\",\"10\",\"--hidden_dim\",\"200\"]\u001b[0m\n",
      "\u001b[31mSM_TRAINING_ENV={\"additional_framework_parameters\":{},\"channel_input_dirs\":{\"training\":\"/opt/ml/input/data/training\"},\"current_host\":\"algo-1\",\"framework_module\":\"sagemaker_pytorch_container.training:main\",\"hosts\":[\"algo-1\"],\"hyperparameters\":{\"epochs\":10,\"hidden_dim\":200},\"input_config_dir\":\"/opt/ml/input/config\",\"input_data_config\":{\"training\":{\"RecordWrapperType\":\"None\",\"S3DistributionType\":\"FullyReplicated\",\"TrainingInputMode\":\"File\"}},\"input_dir\":\"/opt/ml/input\",\"job_name\":\"sagemaker-pytorch-2019-11-21-14-55-44-648\",\"log_level\":20,\"model_dir\":\"/opt/ml/model\",\"module_dir\":\"s3://sagemaker-us-east-1-037870494941/sagemaker-pytorch-2019-11-21-14-55-44-648/source/sourcedir.tar.gz\",\"module_name\":\"train\",\"network_interface_name\":\"eth0\",\"num_cpus\":4,\"num_gpus\":1,\"output_data_dir\":\"/opt/ml/output/data\",\"output_dir\":\"/opt/ml/output\",\"output_intermediate_dir\":\"/opt/ml/output/intermediate\",\"resource_config\":{\"current_host\":\"algo-1\",\"hosts\":[\"algo-1\"],\"network_interface_name\":\"eth0\"},\"user_entry_point\":\"train.py\"}\u001b[0m\n",
      "\u001b[31mSM_CHANNEL_TRAINING=/opt/ml/input/data/training\u001b[0m\n",
      "\u001b[31mSM_INPUT_DIR=/opt/ml/input\u001b[0m\n",
      "\u001b[31mSM_OUTPUT_DIR=/opt/ml/output\u001b[0m\n",
      "\u001b[31mSM_LOG_LEVEL=20\u001b[0m\n",
      "\u001b[31mSM_HOSTS=[\"algo-1\"]\u001b[0m\n",
      "\u001b[31mSM_HP_HIDDEN_DIM=200\u001b[0m\n",
      "\u001b[31mPYTHONPATH=/usr/local/bin:/usr/lib/python35.zip:/usr/lib/python3.5:/usr/lib/python3.5/plat-x86_64-linux-gnu:/usr/lib/python3.5/lib-dynload:/usr/local/lib/python3.5/dist-packages:/usr/lib/python3/dist-packages\u001b[0m\n",
      "\u001b[31mSM_NUM_CPUS=4\u001b[0m\n",
      "\u001b[31mSM_FRAMEWORK_MODULE=sagemaker_pytorch_container.training:main\n",
      "\u001b[0m\n",
      "\u001b[31mInvoking script with the following command:\n",
      "\u001b[0m\n",
      "\u001b[31m/usr/bin/python -m train --epochs 10 --hidden_dim 200\n",
      "\n",
      "\u001b[0m\n",
      "\u001b[31mUsing device cuda.\u001b[0m\n",
      "\u001b[31mGet train data loader.\u001b[0m\n"
     ]
    },
    {
     "name": "stdout",
     "output_type": "stream",
     "text": [
      "\u001b[31mModel loaded with embedding_dim 32, hidden_dim 200, vocab_size 5000.\u001b[0m\n",
      "\u001b[31mEpoch: 1, BCELoss: 0.669403994569973\u001b[0m\n",
      "\u001b[31mEpoch: 2, BCELoss: 0.5885409676298803\u001b[0m\n",
      "\u001b[31mEpoch: 3, BCELoss: 0.49692975988193433\u001b[0m\n",
      "\u001b[31mEpoch: 4, BCELoss: 0.43016003224314475\u001b[0m\n",
      "\u001b[31mEpoch: 5, BCELoss: 0.4040961533176656\u001b[0m\n",
      "\u001b[31mEpoch: 6, BCELoss: 0.34552302834938986\u001b[0m\n",
      "\u001b[31mEpoch: 7, BCELoss: 0.32614799330429156\u001b[0m\n",
      "\u001b[31mEpoch: 8, BCELoss: 0.32047194759456477\u001b[0m\n",
      "\u001b[31mEpoch: 9, BCELoss: 0.28732806109652226\u001b[0m\n",
      "\u001b[31mEpoch: 10, BCELoss: 0.2751056117062666\u001b[0m\n",
      "\u001b[31m2019-11-21 15:02:47,432 sagemaker-containers INFO     Reporting training SUCCESS\u001b[0m\n",
      "\n",
      "2019-11-21 15:02:57 Uploading - Uploading generated training model\n",
      "2019-11-21 15:02:57 Completed - Training job completed\n",
      "Training seconds: 277\n",
      "Billable seconds: 277\n"
     ]
    }
   ],
   "source": [
    "estimator.fit({'training': input_data})"
   ]
  },
  {
   "cell_type": "markdown",
   "metadata": {},
   "source": [
    "## Step 5: Testing the model\n",
    "\n",
    "As mentioned at the top of this notebook, we will be testing this model by first deploying it and then sending the testing data to the deployed endpoint. We will do this so that we can make sure that the deployed model is working correctly.\n",
    "\n",
    "## Step 6: Deploy the model for testing\n",
    "\n",
    "Now that we have trained our model, we would like to test it to see how it performs. Currently our model takes input of the form `review_length, review[500]` where `review[500]` is a sequence of `500` integers which describe the words present in the review, encoded using `word_dict`. Fortunately for us, SageMaker provides built-in inference code for models with simple inputs such as this.\n"
   ]
  },
  {
   "cell_type": "code",
   "execution_count": 100,
   "metadata": {},
   "outputs": [
    {
     "name": "stdout",
     "output_type": "stream",
     "text": [
      "---------------------------------------------------------------------------------------------------!"
     ]
    }
   ],
   "source": [
    "# Deploy the trained model\n",
    "predictor = estimator.deploy(initial_instance_count=1, instance_type='ml.m4.xlarge')"
   ]
  },
  {
   "cell_type": "markdown",
   "metadata": {},
   "source": [
    "## Step 7 - Use the model for testing\n",
    "\n",
    "Once deployed, we can read in the test data and send it off to our deployed model to get some results. Once we collect all of the results we can determine how accurate our model is."
   ]
  },
  {
   "cell_type": "code",
   "execution_count": 101,
   "metadata": {},
   "outputs": [],
   "source": [
    "test_X = pd.concat([pd.DataFrame(test_X_len), pd.DataFrame(test_X)], axis=1)"
   ]
  },
  {
   "cell_type": "code",
   "execution_count": 102,
   "metadata": {},
   "outputs": [],
   "source": [
    "# We split the data into chunks and send each chunk seperately, accumulating the results.\n",
    "\n",
    "def predict(data, rows=512):\n",
    "    split_array = np.array_split(data, int(data.shape[0] / float(rows) + 1))\n",
    "    predictions = np.array([])\n",
    "    for array in split_array:\n",
    "        predictions = np.append(predictions, predictor.predict(array))\n",
    "    \n",
    "    return predictions"
   ]
  },
  {
   "cell_type": "code",
   "execution_count": 103,
   "metadata": {},
   "outputs": [],
   "source": [
    "predictions = predict(test_X.values)\n",
    "predictions = [round(num) for num in predictions]"
   ]
  },
  {
   "cell_type": "code",
   "execution_count": 104,
   "metadata": {},
   "outputs": [
    {
     "data": {
      "text/plain": [
       "0.85452"
      ]
     },
     "execution_count": 104,
     "metadata": {},
     "output_type": "execute_result"
    }
   ],
   "source": [
    "from sklearn.metrics import accuracy_score\n",
    "accuracy_score(test_y, predictions)"
   ]
  },
  {
   "cell_type": "markdown",
   "metadata": {},
   "source": [
    "We get an accuracy score on the test dataset of ~ 85.5%"
   ]
  },
  {
   "cell_type": "markdown",
   "metadata": {},
   "source": [
    "### More testing\n",
    "\n",
    "We now have a trained model which has been deployed and which we can send processed reviews to and which returns the predicted sentiment. However, ultimately we would like to be able to send our model an unprocessed review. That is, we would like to send the review itself as a string. For example, suppose we wish to send the following review to our model."
   ]
  },
  {
   "cell_type": "code",
   "execution_count": 1,
   "metadata": {},
   "outputs": [],
   "source": [
    "test_review = 'The simplest pleasures in life are the best, and this film is one of them. Combining a rather basic storyline of love and adventure this movie transcends the usual weekend fair with wit and unmitigated charm.'"
   ]
  },
  {
   "cell_type": "markdown",
   "metadata": {},
   "source": [
    "To send this review to our model, we need to:\n",
    "\n",
    " - Removed any html tags and stemmed the input\n",
    " - Encoded the review as a sequence of integers using `word_dict`\n",
    " "
   ]
  },
  {
   "cell_type": "code",
   "execution_count": 106,
   "metadata": {},
   "outputs": [],
   "source": [
    "# Convert test_review into a form usable by the model and save the results in test_data\n",
    "test_data = None\n",
    "test_data_tokenize = review_to_words(test_review)\n",
    "test_data = [np.array(convert_and_pad(word_dict, test_data_tokenize)[0])]"
   ]
  },
  {
   "cell_type": "markdown",
   "metadata": {},
   "source": [
    "Now that we have processed the review, we can send the resulting array to our model to predict the sentiment of the review."
   ]
  },
  {
   "cell_type": "code",
   "execution_count": 107,
   "metadata": {},
   "outputs": [
    {
     "data": {
      "text/plain": [
       "array(0.448601, dtype=float32)"
      ]
     },
     "execution_count": 107,
     "metadata": {},
     "output_type": "execute_result"
    }
   ],
   "source": [
    "predictor.predict(test_data)"
   ]
  },
  {
   "cell_type": "markdown",
   "metadata": {},
   "source": [
    "### Delete the endpoint\n",
    "\n",
    "Since we are done using our endpoint for now, we can delete it."
   ]
  },
  {
   "cell_type": "code",
   "execution_count": 136,
   "metadata": {},
   "outputs": [],
   "source": [
    "estimator.delete_endpoint()"
   ]
  },
  {
   "cell_type": "markdown",
   "metadata": {},
   "source": [
    "## Step 6 (again) - Deploy the model for the web app\n",
    "\n",
    "Now that we know that our model is working, it's time to create some custom inference code so that we can send the model a review which has not been processed and have it determine the sentiment of the review.\n",
    "\n",
    "As we saw above, by default the estimator which we created, when deployed, will use the entry script and directory which we provided when creating the model. However, since we now wish to accept a string as input and our model expects a processed review, we need to write some custom inference code.\n",
    "\n",
    "We will store the code that we write in the `serve` directory. Provided in this directory is the `model.py` file that we used to construct our model, a `utils.py` file which contains the `review_to_words` and `convert_and_pad` pre-processing functions which we used during the initial data processing, and `predict.py`, the file which will contain our custom inference code. Note also that `requirements.txt` is present which will tell SageMaker what Python libraries are required by our custom inference code.\n",
    "\n",
    "When deploying a PyTorch model in SageMaker, you are expected to provide four functions which the SageMaker inference container will use.\n",
    " - `model_fn`: This function tells SageMaker how to load our model.\n",
    " - `input_fn`: This function receives the raw serialized input that has been sent to the model's endpoint and its job is to de-serialize and make the input available for the inference code.\n",
    " - `output_fn`: This function takes the output of the inference code and its job is to serialize this output and return it to the caller of the model's endpoint.\n",
    " - `predict_fn`: The heart of the inference script, this is where the actual prediction is done and is the function which you will need to complete.\n",
    "\n",
    "For the simple website that we are constructing during this project, the `input_fn` and `output_fn` methods are relatively straightforward. We only require being able to accept a string as input and we expect to return a single value as output. You might imagine though that in a more complex application the input or output may be image data or some other binary data which would require some effort to serialize.\n"
   ]
  },
  {
   "cell_type": "markdown",
   "metadata": {},
   "source": [
    "### Deploying the model\n",
    "\n",
    "We need to construct a new PyTorchModel object which points to the model artifacts created during training and also points to the inference code that we wish to use. Then we can call the deploy method to launch the deployment container.\n",
    "\n",
    "**NOTE**: The default behaviour for a deployed PyTorch model is to assume that any input passed to the predictor is a `numpy` array. In our case we want to send a string so we need to construct a simple wrapper around the `RealTimePredictor` class to accomodate simple strings. In a more complicated situation we may want to provide a serialization object, for example if we wanted to sent image data."
   ]
  },
  {
   "cell_type": "code",
   "execution_count": 120,
   "metadata": {},
   "outputs": [
    {
     "name": "stdout",
     "output_type": "stream",
     "text": [
      "---------------------------------------------------------------------------------------------------!"
     ]
    }
   ],
   "source": [
    "from sagemaker.predictor import RealTimePredictor\n",
    "from sagemaker.pytorch import PyTorchModel\n",
    "from sagemaker.serializers import CSVSerializer\n",
    "from sagemaker.deserializers import CSVDeserializer\n",
    "\n",
    "class StringPredictor(RealTimePredictor):\n",
    "    def __init__(self, endpoint_name, sagemaker_session):\n",
    "        super(StringPredictor, self).__init__(endpoint_name, sagemaker_session, CSVSerializer(), CSVDeserializer())\n",
    "\n",
    "model = PyTorchModel(model_data=estimator.model_data,\n",
    "                     role = role,\n",
    "                     framework_version='1.6.0',\n",
    "                     py_version='py3',\n",
    "                     entry_point='predict.py',\n",
    "                     source_dir='serve',\n",
    "                     predictor_cls=StringPredictor)\n",
    "predictor = model.deploy(initial_instance_count=1, instance_type='ml.m4.xlarge', serializer=CSVSerializer(),\n",
    "    deserializer=CSVDeserializer(),)"
   ]
  },
  {
   "cell_type": "markdown",
   "metadata": {},
   "source": [
    "### Testing the model\n",
    "\n",
    "Now that we have deployed our model with the custom inference code, we should test to see if everything is working. Here we test our model by loading the first `250` positive and negative reviews and send them to the endpoint, then collect the results. The reason for only sending some of the data is that the amount of time it takes for our model to process the input and then perform inference is quite long and so testing the entire data set would be prohibitive."
   ]
  },
  {
   "cell_type": "code",
   "execution_count": 129,
   "metadata": {},
   "outputs": [],
   "source": [
    "import glob\n",
    "\n",
    "def test_reviews(data_dir='../data/aclImdb', stop=250):\n",
    "    \n",
    "    results = []\n",
    "    ground = []\n",
    "    \n",
    "    # We make sure to test both positive and negative reviews    \n",
    "    for sentiment in ['pos', 'neg']:\n",
    "        \n",
    "        path = os.path.join(data_dir, 'test', sentiment, '*.txt')\n",
    "        files = glob.glob(path)\n",
    "        \n",
    "        files_read = 0\n",
    "        \n",
    "        print('Starting ', sentiment, ' files')\n",
    "        \n",
    "        # Iterate through the files and send them to the predictor\n",
    "        for f in files:\n",
    "            with open(f) as review:\n",
    "                # First, we store the ground truth (was the review positive or negative)\n",
    "                if sentiment == 'pos':\n",
    "                    ground.append(1)\n",
    "                else:\n",
    "                    ground.append(0)\n",
    "                # Read in the review and convert to 'utf-8' for transmission via HTTP\n",
    "                review_input = review.read()\n",
    "                # Send the review to the predictor and store the results\n",
    "                #results.append(int(predictor.predict(review_input)))\n",
    "                results.append([float(s) for x in (predictor.predict(review_input)) for s in x])\n",
    "            # Sending reviews to our endpoint one at a time takes a while so we\n",
    "            # only send a small number of reviews\n",
    "            files_read += 1\n",
    "            if files_read == stop:\n",
    "                break\n",
    "            \n",
    "    return ground, results"
   ]
  },
  {
   "cell_type": "code",
   "execution_count": 131,
   "metadata": {},
   "outputs": [
    {
     "name": "stdout",
     "output_type": "stream",
     "text": [
      "Starting  pos  files\n",
      "Starting  neg  files\n"
     ]
    }
   ],
   "source": [
    "ground, results = test_reviews()"
   ]
  },
  {
   "cell_type": "code",
   "execution_count": 132,
   "metadata": {},
   "outputs": [
    {
     "data": {
      "text/plain": [
       "0.858"
      ]
     },
     "execution_count": 132,
     "metadata": {},
     "output_type": "execute_result"
    }
   ],
   "source": [
    "from sklearn.metrics import accuracy_score\n",
    "accuracy_score(ground, results)"
   ]
  },
  {
   "cell_type": "markdown",
   "metadata": {},
   "source": [
    "As an additional test, we can try sending the `test_review` that we looked at earlier."
   ]
  },
  {
   "cell_type": "code",
   "execution_count": 133,
   "metadata": {},
   "outputs": [
    {
     "data": {
      "text/plain": [
       "b'1.0'"
      ]
     },
     "execution_count": 133,
     "metadata": {},
     "output_type": "execute_result"
    }
   ],
   "source": [
    "predictor.predict(test_review)"
   ]
  },
  {
   "cell_type": "markdown",
   "metadata": {},
   "source": [
    "Now that we know our endpoint is working as expected, we can set up the web page that will interact with it. If you don't have time to finish the project now, make sure to skip down to the end of this notebook and shut down your endpoint. You can deploy it again when you come back."
   ]
  },
  {
   "cell_type": "markdown",
   "metadata": {},
   "source": [
    "## Step 7 (again): Use the model for the web app\n",
    "\n",
    "> This section and the next are mostly done using the AWS console.\n",
    "\n",
    "So far we have been accessing our model endpoint by constructing a predictor object which uses the endpoint and then just using the predictor object to perform inference. What if we wanted to create a web app which accessed our model? The way things are set up currently makes that not possible since in order to access a SageMaker endpoint the app would first have to authenticate with AWS using an IAM role which included access to SageMaker endpoints. However, there is an easier way! We just need to use some additional AWS services.\n",
    "\n",
    "<img src=\"Web App Diagram.svg\">\n",
    "\n",
    "The diagram above gives an overview of how the various services will work together. On the far right is the model which we trained above and which is deployed using SageMaker. On the far left is our web app that collects a user's movie review, sends it off and expects a positive or negative sentiment in return.\n",
    "\n",
    "In the middle is where some of the magic happens. We will construct a Lambda function, which you can think of as a straightforward Python function that can be executed whenever a specified event occurs. We will give this function permission to send and recieve data from a SageMaker endpoint.\n",
    "\n",
    "Lastly, the method we will use to execute the Lambda function is a new endpoint that we will create using API Gateway. This endpoint will be a url that listens for data to be sent to it. Once it gets some data it will pass that data on to the Lambda function and then return whatever the Lambda function returns. Essentially it will act as an interface that lets our web app communicate with the Lambda function.\n",
    "\n",
    "### Setting up a Lambda function\n",
    "\n",
    "The first thing we are going to do is set up a Lambda function. This Lambda function will be executed whenever our public API has data sent to it. When it is executed it will receive the data, perform any sort of processing that is required, send the data (the review) to the SageMaker endpoint we've created and then return the result.\n",
    "\n",
    "#### Part A: Create an IAM Role for the Lambda function\n",
    "\n",
    "Since we want the Lambda function to call a SageMaker endpoint, we need to make sure that it has permission to do so. To do this, we will construct a role that we can later give the Lambda function.\n",
    "\n",
    "Using the AWS Console, navigate to the **IAM** page and click on **Roles**. Then, click on **Create role**. Make sure that the **AWS service** is the type of trusted entity selected and choose **Lambda** as the service that will use this role, then click **Next: Permissions**.\n",
    "\n",
    "In the search box type `sagemaker` and select the check box next to the **AmazonSageMakerFullAccess** policy. Then, click on **Next: Review**.\n",
    "\n",
    "Lastly, give this role a name. Make sure you use a name that you will remember later on, for example `LambdaSageMakerRole`. Then, click on **Create role**.\n",
    "\n",
    "#### Part B: Create a Lambda function\n",
    "\n",
    "Now it is time to actually create the Lambda function.\n",
    "\n",
    "Using the AWS Console, navigate to the AWS Lambda page and click on **Create a function**. When you get to the next page, make sure that **Author from scratch** is selected. Now, name your Lambda function, using a name that you will remember later on, for example `sentiment_analysis_func`. Make sure that the **Python 3.6** runtime is selected and then choose the role that you created in the previous part. Then, click on **Create Function**.\n",
    "\n",
    "On the next page you will see some information about the Lambda function you've just created. If you scroll down you should see an editor in which you can write the code that will be executed when your Lambda function is triggered. In our example, we will use the code below. \n",
    "\n",
    "```python\n",
    "# We need to use the low-level library to interact with SageMaker since the SageMaker API\n",
    "# is not available natively through Lambda.\n",
    "import boto3\n",
    "\n",
    "def lambda_handler(event, context):\n",
    "\n",
    "    # The SageMaker runtime is what allows us to invoke the endpoint that we've created.\n",
    "    runtime = boto3.Session().client('sagemaker-runtime')\n",
    "\n",
    "    # Now we use the SageMaker runtime to invoke our endpoint, sending the review we were given\n",
    "    response = runtime.invoke_endpoint(EndpointName = '**ENDPOINT NAME HERE**',    # The name of the endpoint we created\n",
    "                                       ContentType = 'text/plain',                 # The data format that is expected\n",
    "                                       Body = event['body'])                       # The actual review\n",
    "\n",
    "    # The response is an HTTP response whose body contains the result of our inference\n",
    "    result = response['Body'].read().decode('utf-8')\n",
    "\n",
    "    return {\n",
    "        'statusCode' : 200,\n",
    "        'headers' : { 'Content-Type' : 'text/plain', 'Access-Control-Allow-Origin' : '*' },\n",
    "        'body' : result\n",
    "    }\n",
    "```\n",
    "\n",
    "Once you have copy and pasted the code above into the Lambda code editor, replace the `**ENDPOINT NAME HERE**` portion with the name of the endpoint that we deployed earlier. You can determine the name of the endpoint using the code cell below."
   ]
  },
  {
   "cell_type": "code",
   "execution_count": 134,
   "metadata": {},
   "outputs": [
    {
     "data": {
      "text/plain": [
       "'sagemaker-pytorch-2019-11-21-17-03-02-508'"
      ]
     },
     "execution_count": 134,
     "metadata": {},
     "output_type": "execute_result"
    }
   ],
   "source": [
    "predictor.endpoint_name"
   ]
  },
  {
   "cell_type": "markdown",
   "metadata": {},
   "source": [
    "Once you have added the endpoint name to the Lambda function, click on **Save**. Your Lambda function is now up and running. Next we need to create a way for our web app to execute the Lambda function.\n",
    "\n",
    "### Setting up API Gateway\n",
    "\n",
    "Now that our Lambda function is set up, it is time to create a new API using API Gateway that will trigger the Lambda function we have just created.\n",
    "\n",
    "Using AWS Console, navigate to **Amazon API Gateway** and then click on **Get started**.\n",
    "\n",
    "On the next page, make sure that **New API** is selected and give the new api a name, for example, `sentiment_analysis_api`. Then, click on **Create API**.\n",
    "\n",
    "Now we have created an API, however it doesn't currently do anything. What we want it to do is to trigger the Lambda function that we created earlier.\n",
    "\n",
    "Select the **Actions** dropdown menu and click **Create Method**. A new blank method will be created, select its dropdown menu and select **POST**, then click on the check mark beside it.\n",
    "\n",
    "For the integration point, make sure that **Lambda Function** is selected and click on the **Use Lambda Proxy integration**. This option makes sure that the data that is sent to the API is then sent directly to the Lambda function with no processing. It also means that the return value must be a proper response object as it will also not be processed by API Gateway.\n",
    "\n",
    "Type the name of the Lambda function you created earlier into the **Lambda Function** text entry box and then click on **Save**. Click on **OK** in the pop-up box that then appears, giving permission to API Gateway to invoke the Lambda function you created.\n",
    "\n",
    "The last step in creating the API Gateway is to select the **Actions** dropdown and click on **Deploy API**. You will need to create a new Deployment stage and name it anything you like, for example `prod`.\n",
    "\n",
    "You have now successfully set up a public API to access your SageMaker model. Make sure to copy or write down the URL provided to invoke your newly created public API as this will be needed in the next step. This URL can be found at the top of the page, highlighted in blue next to the text **Invoke URL**."
   ]
  },
  {
   "cell_type": "markdown",
   "metadata": {},
   "source": [
    "## Deploying our web app\n",
    "\n",
    "Now that we have a publicly available API, we can start using it in a web app."
   ]
  },
  {
   "cell_type": "markdown",
   "metadata": {},
   "source": [
    "### Delete the endpoint\n",
    "\n",
    "We are charged for the length of time that the endpoint is running so if we forget and leave it we could end up with an unexpectedly large bill from AWS."
   ]
  },
  {
   "cell_type": "code",
   "execution_count": 135,
   "metadata": {},
   "outputs": [],
   "source": [
    "predictor.delete_endpoint()"
   ]
  }
 ],
 "metadata": {
  "interpreter": {
   "hash": "843b354377648561a1458e86fbda6584c25181de78b081e87cc2f5330a07ae77"
  },
  "kernelspec": {
   "display_name": "Python 3.8.9 64-bit ('venv': venv)",
   "name": "python3"
  },
  "language_info": {
   "codemirror_mode": {
    "name": "ipython",
    "version": 3
   },
   "file_extension": ".py",
   "mimetype": "text/x-python",
   "name": "python",
   "nbconvert_exporter": "python",
   "pygments_lexer": "ipython3",
   "version": "3.9.7"
  }
 },
 "nbformat": 4,
 "nbformat_minor": 2
}
